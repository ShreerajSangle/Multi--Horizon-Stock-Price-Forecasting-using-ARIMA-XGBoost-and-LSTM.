{
 "cells": [
  {
   "cell_type": "code",
   "execution_count": null,
   "metadata": {},
   "outputs": [
    {
     "name": "stdout",
     "output_type": "stream",
     "text": [
      "⏳ Downloading top 100 tickers in batch...\n",
      "YF.download() has changed argument auto_adjust default to True\n"
     ]
    },
    {
     "name": "stderr",
     "output_type": "stream",
     "text": [
      "[*********************100%***********************]  100 of 100 completed\n"
     ]
    },
    {
     "name": "stdout",
     "output_type": "stream",
     "text": [
      "✅ Done! Saved top 100 S&P 500 data to top100.csv\n"
     ]
    }
   ],
   "source": [
    "import yfinance as yf\n",
    "import pandas as pd\n",
    "\n",
    "def get_sp500_tickers():\n",
    "    df = pd.read_html(\"https://en.wikipedia.org/wiki/List_of_S%26P_500_companies\")[0]\n",
    "    df['Symbol'] = df['Symbol'].str.replace('.', '-', regex=False)\n",
    "    return df\n",
    "\n",
    "def get_market_caps(tickers):\n",
    "    market_caps = {}\n",
    "    for ticker in tickers:\n",
    "        try:\n",
    "            info = yf.Ticker(ticker).info\n",
    "            market_caps[ticker] = info.get(\"marketCap\", 0)\n",
    "        except Exception:\n",
    "            market_caps[ticker] = 0\n",
    "    return market_caps\n",
    "\n",
    "def download_top100_data(tickers, start, end):\n",
    "    print(\"⏳ Downloading top 100 tickers in batch...\")\n",
    "    data = yf.download(tickers, start=start, end=end, group_by='ticker', threads=True)\n",
    "    combined = []\n",
    "    for ticker in tickers:\n",
    "        if ticker in data.columns.levels[0]:\n",
    "            df = data[ticker].copy()\n",
    "            df['Ticker'] = ticker\n",
    "            df = df.reset_index()\n",
    "            combined.append(df)\n",
    "    return pd.concat(combined)\n",
    "\n",
    "\n",
    "start = \"2010-01-01\"\n",
    "end = \"2025-04-15\"\n",
    "\n",
    "sp500_df = get_sp500_tickers()\n",
    "tickers = sp500_df['Symbol'].tolist()\n",
    "market_caps = get_market_caps(tickers)\n",
    "\n",
    "top100_tickers = sorted(market_caps, key=market_caps.get, reverse=True)[:100]\n",
    "\n",
    "top100_data = download_top100_data(top100_tickers, start, end)\n",
    "top100_data.to_csv(\"top100.csv\", index=False)\n",
    "\n",
    "print(\"✅ Done! Saved top 100 S&P 500 data to top100.csv\")\n"
   ]
  },
  {
   "cell_type": "code",
   "execution_count": 3,
   "metadata": {},
   "outputs": [
    {
     "data": {
      "application/vnd.microsoft.datawrangler.viewer.v0+json": {
       "columns": [
        {
         "name": "index",
         "rawType": "int64",
         "type": "integer"
        },
        {
         "name": "Date",
         "rawType": "object",
         "type": "string"
        },
        {
         "name": "Open",
         "rawType": "float64",
         "type": "float"
        },
        {
         "name": "High",
         "rawType": "float64",
         "type": "float"
        },
        {
         "name": "Low",
         "rawType": "float64",
         "type": "float"
        },
        {
         "name": "Close",
         "rawType": "float64",
         "type": "float"
        },
        {
         "name": "Volume",
         "rawType": "float64",
         "type": "float"
        },
        {
         "name": "Ticker",
         "rawType": "object",
         "type": "string"
        }
       ],
       "conversionMethod": "pd.DataFrame",
       "ref": "1686df04-344a-4f31-8857-7f3d60f186b2",
       "rows": [
        [
         "0",
         "2010-01-04",
         "6.422875746236436",
         "6.455075825369143",
         "6.391277552762015",
         "6.4403300285339355",
         "493729600.0",
         "AAPL"
        ],
        [
         "1",
         "2010-01-05",
         "6.458086349642286",
         "6.4878788893442865",
         "6.417459465133687",
         "6.451465606689453",
         "601904800.0",
         "AAPL"
        ],
        [
         "2",
         "2010-01-06",
         "6.45146457040068",
         "6.477044307725826",
         "6.342224739983206",
         "6.348845481872559",
         "552160000.0",
         "AAPL"
        ],
        [
         "3",
         "2010-01-07",
         "6.372319000569361",
         "6.379842571822461",
         "6.2910660382072985",
         "6.337109088897705",
         "477131200.0",
         "AAPL"
        ],
        [
         "4",
         "2010-01-08",
         "6.328684263710754",
         "6.379843754126937",
         "6.2913689505515755",
         "6.379241466522217",
         "447610800.0",
         "AAPL"
        ]
       ],
       "shape": {
        "columns": 7,
        "rows": 5
       }
      },
      "text/html": [
       "<div>\n",
       "<style scoped>\n",
       "    .dataframe tbody tr th:only-of-type {\n",
       "        vertical-align: middle;\n",
       "    }\n",
       "\n",
       "    .dataframe tbody tr th {\n",
       "        vertical-align: top;\n",
       "    }\n",
       "\n",
       "    .dataframe thead th {\n",
       "        text-align: right;\n",
       "    }\n",
       "</style>\n",
       "<table border=\"1\" class=\"dataframe\">\n",
       "  <thead>\n",
       "    <tr style=\"text-align: right;\">\n",
       "      <th></th>\n",
       "      <th>Date</th>\n",
       "      <th>Open</th>\n",
       "      <th>High</th>\n",
       "      <th>Low</th>\n",
       "      <th>Close</th>\n",
       "      <th>Volume</th>\n",
       "      <th>Ticker</th>\n",
       "    </tr>\n",
       "  </thead>\n",
       "  <tbody>\n",
       "    <tr>\n",
       "      <th>0</th>\n",
       "      <td>2010-01-04</td>\n",
       "      <td>6.422876</td>\n",
       "      <td>6.455076</td>\n",
       "      <td>6.391278</td>\n",
       "      <td>6.440330</td>\n",
       "      <td>493729600.0</td>\n",
       "      <td>AAPL</td>\n",
       "    </tr>\n",
       "    <tr>\n",
       "      <th>1</th>\n",
       "      <td>2010-01-05</td>\n",
       "      <td>6.458086</td>\n",
       "      <td>6.487879</td>\n",
       "      <td>6.417459</td>\n",
       "      <td>6.451466</td>\n",
       "      <td>601904800.0</td>\n",
       "      <td>AAPL</td>\n",
       "    </tr>\n",
       "    <tr>\n",
       "      <th>2</th>\n",
       "      <td>2010-01-06</td>\n",
       "      <td>6.451465</td>\n",
       "      <td>6.477044</td>\n",
       "      <td>6.342225</td>\n",
       "      <td>6.348845</td>\n",
       "      <td>552160000.0</td>\n",
       "      <td>AAPL</td>\n",
       "    </tr>\n",
       "    <tr>\n",
       "      <th>3</th>\n",
       "      <td>2010-01-07</td>\n",
       "      <td>6.372319</td>\n",
       "      <td>6.379843</td>\n",
       "      <td>6.291066</td>\n",
       "      <td>6.337109</td>\n",
       "      <td>477131200.0</td>\n",
       "      <td>AAPL</td>\n",
       "    </tr>\n",
       "    <tr>\n",
       "      <th>4</th>\n",
       "      <td>2010-01-08</td>\n",
       "      <td>6.328684</td>\n",
       "      <td>6.379844</td>\n",
       "      <td>6.291369</td>\n",
       "      <td>6.379241</td>\n",
       "      <td>447610800.0</td>\n",
       "      <td>AAPL</td>\n",
       "    </tr>\n",
       "  </tbody>\n",
       "</table>\n",
       "</div>"
      ],
      "text/plain": [
       "         Date      Open      High       Low     Close       Volume Ticker\n",
       "0  2010-01-04  6.422876  6.455076  6.391278  6.440330  493729600.0   AAPL\n",
       "1  2010-01-05  6.458086  6.487879  6.417459  6.451466  601904800.0   AAPL\n",
       "2  2010-01-06  6.451465  6.477044  6.342225  6.348845  552160000.0   AAPL\n",
       "3  2010-01-07  6.372319  6.379843  6.291066  6.337109  477131200.0   AAPL\n",
       "4  2010-01-08  6.328684  6.379844  6.291369  6.379241  447610800.0   AAPL"
      ]
     },
     "execution_count": 3,
     "metadata": {},
     "output_type": "execute_result"
    }
   ],
   "source": [
    "data = pd.read_csv('top100.csv')\n",
    "\n",
    "data.head()"
   ]
  },
  {
   "cell_type": "code",
   "execution_count": 4,
   "metadata": {},
   "outputs": [
    {
     "data": {
      "text/plain": [
       "(384400, 7)"
      ]
     },
     "execution_count": 4,
     "metadata": {},
     "output_type": "execute_result"
    }
   ],
   "source": [
    "data.shape\n"
   ]
  },
  {
   "cell_type": "code",
   "execution_count": 5,
   "metadata": {},
   "outputs": [
    {
     "name": "stdout",
     "output_type": "stream",
     "text": [
      "<class 'pandas.core.frame.DataFrame'>\n",
      "RangeIndex: 384400 entries, 0 to 384399\n",
      "Data columns (total 7 columns):\n",
      " #   Column  Non-Null Count   Dtype  \n",
      "---  ------  --------------   -----  \n",
      " 0   Date    384400 non-null  object \n",
      " 1   Open    374090 non-null  float64\n",
      " 2   High    374090 non-null  float64\n",
      " 3   Low     374090 non-null  float64\n",
      " 4   Close   374090 non-null  float64\n",
      " 5   Volume  374090 non-null  float64\n",
      " 6   Ticker  384400 non-null  object \n",
      "dtypes: float64(5), object(2)\n",
      "memory usage: 20.5+ MB\n"
     ]
    }
   ],
   "source": [
    "data.info()"
   ]
  },
  {
   "cell_type": "code",
   "execution_count": 6,
   "metadata": {},
   "outputs": [
    {
     "data": {
      "text/plain": [
       "Date          0\n",
       "Open      10310\n",
       "High      10310\n",
       "Low       10310\n",
       "Close     10310\n",
       "Volume    10310\n",
       "Ticker        0\n",
       "dtype: int64"
      ]
     },
     "execution_count": 6,
     "metadata": {},
     "output_type": "execute_result"
    }
   ],
   "source": [
    "data.isnull().sum()"
   ]
  },
  {
   "cell_type": "code",
   "execution_count": null,
   "metadata": {},
   "outputs": [
    {
     "name": "stdout",
     "output_type": "stream",
     "text": [
      "✅ Cleaned data saved to top100.csv\n"
     ]
    }
   ],
   "source": [
    "import pandas as pd\n",
    "\n",
    "\n",
    "data = pd.read_csv(\"top100.csv\", parse_dates=[\"Date\"])\n",
    "possible_cols = ['Open', 'High', 'Low', 'Close', 'Adj Close', 'Volume']\n",
    "ohlcv_cols = [col for col in possible_cols if col in data.columns]\n",
    "data = data.dropna(subset=ohlcv_cols, how='all')\n",
    "data = data.sort_values(by=[\"Ticker\", \"Date\"])\n",
    "\n",
    "for col in ohlcv_cols:\n",
    "    data[col] = data.groupby(\"Ticker\")[col].transform(lambda x: x.ffill().bfill())\n",
    "\n",
    "# Drop any rows that still contain missing values\n",
    "data = data.dropna()\n",
    "\n",
    "# Save cleaned version\n",
    "data.to_csv(\"top100.csv\", index=False)\n",
    "print(\"✅ Cleaned data saved to top100.csv\")\n"
   ]
  },
  {
   "cell_type": "code",
   "execution_count": 8,
   "metadata": {},
   "outputs": [],
   "source": [
    "data['Date'] = pd.to_datetime(data['Date'], format='mixed', dayfirst=True, errors='coerce')"
   ]
  },
  {
   "cell_type": "code",
   "execution_count": 9,
   "metadata": {},
   "outputs": [
    {
     "data": {
      "text/plain": [
       "Date      0\n",
       "Open      0\n",
       "High      0\n",
       "Low       0\n",
       "Close     0\n",
       "Volume    0\n",
       "Ticker    0\n",
       "dtype: int64"
      ]
     },
     "execution_count": 9,
     "metadata": {},
     "output_type": "execute_result"
    }
   ],
   "source": [
    "data.isnull().sum()"
   ]
  },
  {
   "cell_type": "code",
   "execution_count": 10,
   "metadata": {},
   "outputs": [
    {
     "name": "stdout",
     "output_type": "stream",
     "text": [
      "<class 'pandas.core.frame.DataFrame'>\n",
      "Index: 374090 entries, 0 to 65347\n",
      "Data columns (total 7 columns):\n",
      " #   Column  Non-Null Count   Dtype         \n",
      "---  ------  --------------   -----         \n",
      " 0   Date    374090 non-null  datetime64[ns]\n",
      " 1   Open    374090 non-null  float64       \n",
      " 2   High    374090 non-null  float64       \n",
      " 3   Low     374090 non-null  float64       \n",
      " 4   Close   374090 non-null  float64       \n",
      " 5   Volume  374090 non-null  float64       \n",
      " 6   Ticker  374090 non-null  object        \n",
      "dtypes: datetime64[ns](1), float64(5), object(1)\n",
      "memory usage: 22.8+ MB\n"
     ]
    }
   ],
   "source": [
    "data.info()"
   ]
  },
  {
   "cell_type": "code",
   "execution_count": null,
   "metadata": {},
   "outputs": [
    {
     "name": "stdout",
     "output_type": "stream",
     "text": [
      "Season Ticker  Avg Close Winter  Avg Close Spring  Avg Close Summer  \\\n",
      "0        AAPL         71.442780         64.586175         71.439470   \n",
      "1        ABBV         84.765713         78.168356         79.450597   \n",
      "2         ABT         61.441884         57.951817         59.722630   \n",
      "3         ACN        157.873994        146.367895        154.740318   \n",
      "4        ADBE        224.114561        215.021057        242.155011   \n",
      "\n",
      "Season  Avg Close Fall Highest Avg Season  \n",
      "0            74.210849               FALL  \n",
      "1            82.718044             WINTER  \n",
      "2            61.074767             WINTER  \n",
      "3           162.789591               FALL  \n",
      "4           241.698435             SUMMER  \n"
     ]
    }
   ],
   "source": [
    "import pandas as pd\n",
    "\n",
    "# Define season mapping\n",
    "season_mapper = {\n",
    "    \"WINTER\": [\"January\", \"February\", \"March\"],\n",
    "    \"SPRING\": [\"April\", \"May\", \"June\"],\n",
    "    \"SUMMER\": [\"July\", \"August\", \"September\"],\n",
    "    \"FALL\": [\"October\", \"November\", \"December\"]\n",
    "}\n",
    "\n",
    "def get_season(date):\n",
    "    month = date.strftime('%B')\n",
    "    for season, months in season_mapper.items():\n",
    "        if month in months:\n",
    "            return season\n",
    "    return \"UNKNOWN\"\n",
    "\n",
    "\n",
    "df = pd.read_csv(\"top100.csv\")\n",
    "df['Date'] = pd.to_datetime(df['Date'], format='mixed', dayfirst=True, errors='coerce')\n",
    "df = df.dropna(subset=['Date'])\n",
    "df['Season'] = df['Date'].apply(get_season)\n",
    "seasonal_agg = df.groupby(['Ticker', 'Season'])['Close'].mean().unstack(fill_value=0)\n",
    "for season in [\"WINTER\", \"SPRING\", \"SUMMER\", \"FALL\"]:\n",
    "    if season not in seasonal_agg.columns:\n",
    "        seasonal_agg[season] = 0\n",
    "\n",
    "\n",
    "seasonal_agg = seasonal_agg[['WINTER', 'SPRING', 'SUMMER', 'FALL']]\n",
    "seasonal_agg = seasonal_agg.reset_index()\n",
    "seasonal_agg['Highest Avg Season'] = seasonal_agg[['WINTER', 'SPRING', 'SUMMER', 'FALL']].idxmax(axis=1)\n",
    "seasonal_agg.rename(columns={\n",
    "    'WINTER': 'Avg Close Winter',\n",
    "    'SPRING': 'Avg Close Spring',\n",
    "    'SUMMER': 'Avg Close Summer',\n",
    "    'FALL': 'Avg Close Fall'\n",
    "}, inplace=True)\n",
    "\n",
    "seasonal_agg.to_csv(\"seasonal_stock_analysis_top100.csv\", index=False)\n",
    "print(seasonal_agg.head())\n"
   ]
  },
  {
   "cell_type": "code",
   "execution_count": null,
   "metadata": {},
   "outputs": [
    {
     "data": {
      "application/vnd.plotly.v1+json": {
       "config": {
        "plotlyServerURL": "https://plot.ly"
       },
       "data": [
        {
         "alignmentgroup": "True",
         "hovertemplate": "Season=%{x}<br>Ticker=AAPL<br>Average Close Price=%{y}<extra></extra>",
         "legendgroup": "Avg Close Winter",
         "marker": {
          "color": "#636efa",
          "pattern": {
           "shape": ""
          }
         },
         "name": "Avg Close Winter",
         "offsetgroup": "Avg Close Winter",
         "orientation": "v",
         "showlegend": true,
         "textposition": "auto",
         "type": "bar",
         "x": [
          "Avg Close Winter"
         ],
         "xaxis": "x",
         "y": [
          71.44277993854212
         ],
         "yaxis": "y"
        },
        {
         "alignmentgroup": "True",
         "hovertemplate": "Season=%{x}<br>Ticker=AAPL<br>Average Close Price=%{y}<extra></extra>",
         "legendgroup": "Avg Close Spring",
         "marker": {
          "color": "#EF553B",
          "pattern": {
           "shape": ""
          }
         },
         "name": "Avg Close Spring",
         "offsetgroup": "Avg Close Spring",
         "orientation": "v",
         "showlegend": true,
         "textposition": "auto",
         "type": "bar",
         "x": [
          "Avg Close Spring"
         ],
         "xaxis": "x",
         "y": [
          64.5861745135056
         ],
         "yaxis": "y"
        },
        {
         "alignmentgroup": "True",
         "hovertemplate": "Season=%{x}<br>Ticker=AAPL<br>Average Close Price=%{y}<extra></extra>",
         "legendgroup": "Avg Close Summer",
         "marker": {
          "color": "#00cc96",
          "pattern": {
           "shape": ""
          }
         },
         "name": "Avg Close Summer",
         "offsetgroup": "Avg Close Summer",
         "orientation": "v",
         "showlegend": true,
         "textposition": "auto",
         "type": "bar",
         "x": [
          "Avg Close Summer"
         ],
         "xaxis": "x",
         "y": [
          71.43947011257315
         ],
         "yaxis": "y"
        },
        {
         "alignmentgroup": "True",
         "hovertemplate": "Season=%{x}<br>Ticker=AAPL<br>Average Close Price=%{y}<extra></extra>",
         "legendgroup": "Avg Close Fall",
         "marker": {
          "color": "#ab63fa",
          "pattern": {
           "shape": ""
          }
         },
         "name": "Avg Close Fall",
         "offsetgroup": "Avg Close Fall",
         "orientation": "v",
         "showlegend": true,
         "textposition": "auto",
         "type": "bar",
         "x": [
          "Avg Close Fall"
         ],
         "xaxis": "x",
         "y": [
          74.21084876821823
         ],
         "yaxis": "y"
        }
       ],
       "frames": [
        {
         "data": [
          {
           "alignmentgroup": "True",
           "hovertemplate": "Season=%{x}<br>Ticker=AAPL<br>Average Close Price=%{y}<extra></extra>",
           "legendgroup": "Avg Close Winter",
           "marker": {
            "color": "#636efa",
            "pattern": {
             "shape": ""
            }
           },
           "name": "Avg Close Winter",
           "offsetgroup": "Avg Close Winter",
           "orientation": "v",
           "showlegend": true,
           "textposition": "auto",
           "type": "bar",
           "x": [
            "Avg Close Winter"
           ],
           "xaxis": "x",
           "y": [
            71.44277993854212
           ],
           "yaxis": "y"
          },
          {
           "alignmentgroup": "True",
           "hovertemplate": "Season=%{x}<br>Ticker=AAPL<br>Average Close Price=%{y}<extra></extra>",
           "legendgroup": "Avg Close Spring",
           "marker": {
            "color": "#EF553B",
            "pattern": {
             "shape": ""
            }
           },
           "name": "Avg Close Spring",
           "offsetgroup": "Avg Close Spring",
           "orientation": "v",
           "showlegend": true,
           "textposition": "auto",
           "type": "bar",
           "x": [
            "Avg Close Spring"
           ],
           "xaxis": "x",
           "y": [
            64.5861745135056
           ],
           "yaxis": "y"
          },
          {
           "alignmentgroup": "True",
           "hovertemplate": "Season=%{x}<br>Ticker=AAPL<br>Average Close Price=%{y}<extra></extra>",
           "legendgroup": "Avg Close Summer",
           "marker": {
            "color": "#00cc96",
            "pattern": {
             "shape": ""
            }
           },
           "name": "Avg Close Summer",
           "offsetgroup": "Avg Close Summer",
           "orientation": "v",
           "showlegend": true,
           "textposition": "auto",
           "type": "bar",
           "x": [
            "Avg Close Summer"
           ],
           "xaxis": "x",
           "y": [
            71.43947011257315
           ],
           "yaxis": "y"
          },
          {
           "alignmentgroup": "True",
           "hovertemplate": "Season=%{x}<br>Ticker=AAPL<br>Average Close Price=%{y}<extra></extra>",
           "legendgroup": "Avg Close Fall",
           "marker": {
            "color": "#ab63fa",
            "pattern": {
             "shape": ""
            }
           },
           "name": "Avg Close Fall",
           "offsetgroup": "Avg Close Fall",
           "orientation": "v",
           "showlegend": true,
           "textposition": "auto",
           "type": "bar",
           "x": [
            "Avg Close Fall"
           ],
           "xaxis": "x",
           "y": [
            74.21084876821823
           ],
           "yaxis": "y"
          }
         ],
         "name": "AAPL"
        },
        {
         "data": [
          {
           "alignmentgroup": "True",
           "hovertemplate": "Season=%{x}<br>Ticker=ABBV<br>Average Close Price=%{y}<extra></extra>",
           "legendgroup": "Avg Close Winter",
           "marker": {
            "color": "#636efa",
            "pattern": {
             "shape": ""
            }
           },
           "name": "Avg Close Winter",
           "offsetgroup": "Avg Close Winter",
           "orientation": "v",
           "showlegend": true,
           "textposition": "auto",
           "type": "bar",
           "x": [
            "Avg Close Winter"
           ],
           "xaxis": "x",
           "y": [
            84.76571324666341
           ],
           "yaxis": "y"
          },
          {
           "alignmentgroup": "True",
           "hovertemplate": "Season=%{x}<br>Ticker=ABBV<br>Average Close Price=%{y}<extra></extra>",
           "legendgroup": "Avg Close Spring",
           "marker": {
            "color": "#EF553B",
            "pattern": {
             "shape": ""
            }
           },
           "name": "Avg Close Spring",
           "offsetgroup": "Avg Close Spring",
           "orientation": "v",
           "showlegend": true,
           "textposition": "auto",
           "type": "bar",
           "x": [
            "Avg Close Spring"
           ],
           "xaxis": "x",
           "y": [
            78.16835626505188
           ],
           "yaxis": "y"
          },
          {
           "alignmentgroup": "True",
           "hovertemplate": "Season=%{x}<br>Ticker=ABBV<br>Average Close Price=%{y}<extra></extra>",
           "legendgroup": "Avg Close Summer",
           "marker": {
            "color": "#00cc96",
            "pattern": {
             "shape": ""
            }
           },
           "name": "Avg Close Summer",
           "offsetgroup": "Avg Close Summer",
           "orientation": "v",
           "showlegend": true,
           "textposition": "auto",
           "type": "bar",
           "x": [
            "Avg Close Summer"
           ],
           "xaxis": "x",
           "y": [
            79.45059669095707
           ],
           "yaxis": "y"
          },
          {
           "alignmentgroup": "True",
           "hovertemplate": "Season=%{x}<br>Ticker=ABBV<br>Average Close Price=%{y}<extra></extra>",
           "legendgroup": "Avg Close Fall",
           "marker": {
            "color": "#ab63fa",
            "pattern": {
             "shape": ""
            }
           },
           "name": "Avg Close Fall",
           "offsetgroup": "Avg Close Fall",
           "orientation": "v",
           "showlegend": true,
           "textposition": "auto",
           "type": "bar",
           "x": [
            "Avg Close Fall"
           ],
           "xaxis": "x",
           "y": [
            82.71804429350487
           ],
           "yaxis": "y"
          }
         ],
         "name": "ABBV"
        },
        {
         "data": [
          {
           "alignmentgroup": "True",
           "hovertemplate": "Season=%{x}<br>Ticker=ABT<br>Average Close Price=%{y}<extra></extra>",
           "legendgroup": "Avg Close Winter",
           "marker": {
            "color": "#636efa",
            "pattern": {
             "shape": ""
            }
           },
           "name": "Avg Close Winter",
           "offsetgroup": "Avg Close Winter",
           "orientation": "v",
           "showlegend": true,
           "textposition": "auto",
           "type": "bar",
           "x": [
            "Avg Close Winter"
           ],
           "xaxis": "x",
           "y": [
            61.4418843055258
           ],
           "yaxis": "y"
          },
          {
           "alignmentgroup": "True",
           "hovertemplate": "Season=%{x}<br>Ticker=ABT<br>Average Close Price=%{y}<extra></extra>",
           "legendgroup": "Avg Close Spring",
           "marker": {
            "color": "#EF553B",
            "pattern": {
             "shape": ""
            }
           },
           "name": "Avg Close Spring",
           "offsetgroup": "Avg Close Spring",
           "orientation": "v",
           "showlegend": true,
           "textposition": "auto",
           "type": "bar",
           "x": [
            "Avg Close Spring"
           ],
           "xaxis": "x",
           "y": [
            57.951817318984155
           ],
           "yaxis": "y"
          },
          {
           "alignmentgroup": "True",
           "hovertemplate": "Season=%{x}<br>Ticker=ABT<br>Average Close Price=%{y}<extra></extra>",
           "legendgroup": "Avg Close Summer",
           "marker": {
            "color": "#00cc96",
            "pattern": {
             "shape": ""
            }
           },
           "name": "Avg Close Summer",
           "offsetgroup": "Avg Close Summer",
           "orientation": "v",
           "showlegend": true,
           "textposition": "auto",
           "type": "bar",
           "x": [
            "Avg Close Summer"
           ],
           "xaxis": "x",
           "y": [
            59.72263006984439
           ],
           "yaxis": "y"
          },
          {
           "alignmentgroup": "True",
           "hovertemplate": "Season=%{x}<br>Ticker=ABT<br>Average Close Price=%{y}<extra></extra>",
           "legendgroup": "Avg Close Fall",
           "marker": {
            "color": "#ab63fa",
            "pattern": {
             "shape": ""
            }
           },
           "name": "Avg Close Fall",
           "offsetgroup": "Avg Close Fall",
           "orientation": "v",
           "showlegend": true,
           "textposition": "auto",
           "type": "bar",
           "x": [
            "Avg Close Fall"
           ],
           "xaxis": "x",
           "y": [
            61.07476732310127
           ],
           "yaxis": "y"
          }
         ],
         "name": "ABT"
        },
        {
         "data": [
          {
           "alignmentgroup": "True",
           "hovertemplate": "Season=%{x}<br>Ticker=ACN<br>Average Close Price=%{y}<extra></extra>",
           "legendgroup": "Avg Close Winter",
           "marker": {
            "color": "#636efa",
            "pattern": {
             "shape": ""
            }
           },
           "name": "Avg Close Winter",
           "offsetgroup": "Avg Close Winter",
           "orientation": "v",
           "showlegend": true,
           "textposition": "auto",
           "type": "bar",
           "x": [
            "Avg Close Winter"
           ],
           "xaxis": "x",
           "y": [
            157.87399441076784
           ],
           "yaxis": "y"
          },
          {
           "alignmentgroup": "True",
           "hovertemplate": "Season=%{x}<br>Ticker=ACN<br>Average Close Price=%{y}<extra></extra>",
           "legendgroup": "Avg Close Spring",
           "marker": {
            "color": "#EF553B",
            "pattern": {
             "shape": ""
            }
           },
           "name": "Avg Close Spring",
           "offsetgroup": "Avg Close Spring",
           "orientation": "v",
           "showlegend": true,
           "textposition": "auto",
           "type": "bar",
           "x": [
            "Avg Close Spring"
           ],
           "xaxis": "x",
           "y": [
            146.36789505451793
           ],
           "yaxis": "y"
          },
          {
           "alignmentgroup": "True",
           "hovertemplate": "Season=%{x}<br>Ticker=ACN<br>Average Close Price=%{y}<extra></extra>",
           "legendgroup": "Avg Close Summer",
           "marker": {
            "color": "#00cc96",
            "pattern": {
             "shape": ""
            }
           },
           "name": "Avg Close Summer",
           "offsetgroup": "Avg Close Summer",
           "orientation": "v",
           "showlegend": true,
           "textposition": "auto",
           "type": "bar",
           "x": [
            "Avg Close Summer"
           ],
           "xaxis": "x",
           "y": [
            154.74031753021305
           ],
           "yaxis": "y"
          },
          {
           "alignmentgroup": "True",
           "hovertemplate": "Season=%{x}<br>Ticker=ACN<br>Average Close Price=%{y}<extra></extra>",
           "legendgroup": "Avg Close Fall",
           "marker": {
            "color": "#ab63fa",
            "pattern": {
             "shape": ""
            }
           },
           "name": "Avg Close Fall",
           "offsetgroup": "Avg Close Fall",
           "orientation": "v",
           "showlegend": true,
           "textposition": "auto",
           "type": "bar",
           "x": [
            "Avg Close Fall"
           ],
           "xaxis": "x",
           "y": [
            162.78959053103662
           ],
           "yaxis": "y"
          }
         ],
         "name": "ACN"
        },
        {
         "data": [
          {
           "alignmentgroup": "True",
           "hovertemplate": "Season=%{x}<br>Ticker=ADBE<br>Average Close Price=%{y}<extra></extra>",
           "legendgroup": "Avg Close Winter",
           "marker": {
            "color": "#636efa",
            "pattern": {
             "shape": ""
            }
           },
           "name": "Avg Close Winter",
           "offsetgroup": "Avg Close Winter",
           "orientation": "v",
           "showlegend": true,
           "textposition": "auto",
           "type": "bar",
           "x": [
            "Avg Close Winter"
           ],
           "xaxis": "x",
           "y": [
            224.11456116267613
           ],
           "yaxis": "y"
          },
          {
           "alignmentgroup": "True",
           "hovertemplate": "Season=%{x}<br>Ticker=ADBE<br>Average Close Price=%{y}<extra></extra>",
           "legendgroup": "Avg Close Spring",
           "marker": {
            "color": "#EF553B",
            "pattern": {
             "shape": ""
            }
           },
           "name": "Avg Close Spring",
           "offsetgroup": "Avg Close Spring",
           "orientation": "v",
           "showlegend": true,
           "textposition": "auto",
           "type": "bar",
           "x": [
            "Avg Close Spring"
           ],
           "xaxis": "x",
           "y": [
            215.02105663411288
           ],
           "yaxis": "y"
          },
          {
           "alignmentgroup": "True",
           "hovertemplate": "Season=%{x}<br>Ticker=ADBE<br>Average Close Price=%{y}<extra></extra>",
           "legendgroup": "Avg Close Summer",
           "marker": {
            "color": "#00cc96",
            "pattern": {
             "shape": ""
            }
           },
           "name": "Avg Close Summer",
           "offsetgroup": "Avg Close Summer",
           "orientation": "v",
           "showlegend": true,
           "textposition": "auto",
           "type": "bar",
           "x": [
            "Avg Close Summer"
           ],
           "xaxis": "x",
           "y": [
            242.1550107102015
           ],
           "yaxis": "y"
          },
          {
           "alignmentgroup": "True",
           "hovertemplate": "Season=%{x}<br>Ticker=ADBE<br>Average Close Price=%{y}<extra></extra>",
           "legendgroup": "Avg Close Fall",
           "marker": {
            "color": "#ab63fa",
            "pattern": {
             "shape": ""
            }
           },
           "name": "Avg Close Fall",
           "offsetgroup": "Avg Close Fall",
           "orientation": "v",
           "showlegend": true,
           "textposition": "auto",
           "type": "bar",
           "x": [
            "Avg Close Fall"
           ],
           "xaxis": "x",
           "y": [
            241.69843474155715
           ],
           "yaxis": "y"
          }
         ],
         "name": "ADBE"
        },
        {
         "data": [
          {
           "alignmentgroup": "True",
           "hovertemplate": "Season=%{x}<br>Ticker=ADP<br>Average Close Price=%{y}<extra></extra>",
           "legendgroup": "Avg Close Winter",
           "marker": {
            "color": "#636efa",
            "pattern": {
             "shape": ""
            }
           },
           "name": "Avg Close Winter",
           "offsetgroup": "Avg Close Winter",
           "orientation": "v",
           "showlegend": true,
           "textposition": "auto",
           "type": "bar",
           "x": [
            "Avg Close Winter"
           ],
           "xaxis": "x",
           "y": [
            118.406448862504
           ],
           "yaxis": "y"
          },
          {
           "alignmentgroup": "True",
           "hovertemplate": "Season=%{x}<br>Ticker=ADP<br>Average Close Price=%{y}<extra></extra>",
           "legendgroup": "Avg Close Spring",
           "marker": {
            "color": "#EF553B",
            "pattern": {
             "shape": ""
            }
           },
           "name": "Avg Close Spring",
           "offsetgroup": "Avg Close Spring",
           "orientation": "v",
           "showlegend": true,
           "textposition": "auto",
           "type": "bar",
           "x": [
            "Avg Close Spring"
           ],
           "xaxis": "x",
           "y": [
            110.7545913652396
           ],
           "yaxis": "y"
          },
          {
           "alignmentgroup": "True",
           "hovertemplate": "Season=%{x}<br>Ticker=ADP<br>Average Close Price=%{y}<extra></extra>",
           "legendgroup": "Avg Close Summer",
           "marker": {
            "color": "#00cc96",
            "pattern": {
             "shape": ""
            }
           },
           "name": "Avg Close Summer",
           "offsetgroup": "Avg Close Summer",
           "orientation": "v",
           "showlegend": true,
           "textposition": "auto",
           "type": "bar",
           "x": [
            "Avg Close Summer"
           ],
           "xaxis": "x",
           "y": [
            115.6815514384952
           ],
           "yaxis": "y"
          },
          {
           "alignmentgroup": "True",
           "hovertemplate": "Season=%{x}<br>Ticker=ADP<br>Average Close Price=%{y}<extra></extra>",
           "legendgroup": "Avg Close Fall",
           "marker": {
            "color": "#ab63fa",
            "pattern": {
             "shape": ""
            }
           },
           "name": "Avg Close Fall",
           "offsetgroup": "Avg Close Fall",
           "orientation": "v",
           "showlegend": true,
           "textposition": "auto",
           "type": "bar",
           "x": [
            "Avg Close Fall"
           ],
           "xaxis": "x",
           "y": [
            123.13243489505864
           ],
           "yaxis": "y"
          }
         ],
         "name": "ADP"
        },
        {
         "data": [
          {
           "alignmentgroup": "True",
           "hovertemplate": "Season=%{x}<br>Ticker=AMAT<br>Average Close Price=%{y}<extra></extra>",
           "legendgroup": "Avg Close Winter",
           "marker": {
            "color": "#636efa",
            "pattern": {
             "shape": ""
            }
           },
           "name": "Avg Close Winter",
           "offsetgroup": "Avg Close Winter",
           "orientation": "v",
           "showlegend": true,
           "textposition": "auto",
           "type": "bar",
           "x": [
            "Avg Close Winter"
           ],
           "xaxis": "x",
           "y": [
            60.81555122842594
           ],
           "yaxis": "y"
          },
          {
           "alignmentgroup": "True",
           "hovertemplate": "Season=%{x}<br>Ticker=AMAT<br>Average Close Price=%{y}<extra></extra>",
           "legendgroup": "Avg Close Spring",
           "marker": {
            "color": "#EF553B",
            "pattern": {
             "shape": ""
            }
           },
           "name": "Avg Close Spring",
           "offsetgroup": "Avg Close Spring",
           "orientation": "v",
           "showlegend": true,
           "textposition": "auto",
           "type": "bar",
           "x": [
            "Avg Close Spring"
           ],
           "xaxis": "x",
           "y": [
            57.30061967901605
           ],
           "yaxis": "y"
          },
          {
           "alignmentgroup": "True",
           "hovertemplate": "Season=%{x}<br>Ticker=AMAT<br>Average Close Price=%{y}<extra></extra>",
           "legendgroup": "Avg Close Summer",
           "marker": {
            "color": "#00cc96",
            "pattern": {
             "shape": ""
            }
           },
           "name": "Avg Close Summer",
           "offsetgroup": "Avg Close Summer",
           "orientation": "v",
           "showlegend": true,
           "textposition": "auto",
           "type": "bar",
           "x": [
            "Avg Close Summer"
           ],
           "xaxis": "x",
           "y": [
            57.30987259034831
           ],
           "yaxis": "y"
          },
          {
           "alignmentgroup": "True",
           "hovertemplate": "Season=%{x}<br>Ticker=AMAT<br>Average Close Price=%{y}<extra></extra>",
           "legendgroup": "Avg Close Fall",
           "marker": {
            "color": "#ab63fa",
            "pattern": {
             "shape": ""
            }
           },
           "name": "Avg Close Fall",
           "offsetgroup": "Avg Close Fall",
           "orientation": "v",
           "showlegend": true,
           "textposition": "auto",
           "type": "bar",
           "x": [
            "Avg Close Fall"
           ],
           "xaxis": "x",
           "y": [
            58.30493048960421
           ],
           "yaxis": "y"
          }
         ],
         "name": "AMAT"
        },
        {
         "data": [
          {
           "alignmentgroup": "True",
           "hovertemplate": "Season=%{x}<br>Ticker=AMD<br>Average Close Price=%{y}<extra></extra>",
           "legendgroup": "Avg Close Winter",
           "marker": {
            "color": "#636efa",
            "pattern": {
             "shape": ""
            }
           },
           "name": "Avg Close Winter",
           "offsetgroup": "Avg Close Winter",
           "orientation": "v",
           "showlegend": true,
           "textposition": "auto",
           "type": "bar",
           "x": [
            "Avg Close Winter"
           ],
           "xaxis": "x",
           "y": [
            43.98295904823712
           ],
           "yaxis": "y"
          },
          {
           "alignmentgroup": "True",
           "hovertemplate": "Season=%{x}<br>Ticker=AMD<br>Average Close Price=%{y}<extra></extra>",
           "legendgroup": "Avg Close Spring",
           "marker": {
            "color": "#EF553B",
            "pattern": {
             "shape": ""
            }
           },
           "name": "Avg Close Spring",
           "offsetgroup": "Avg Close Spring",
           "orientation": "v",
           "showlegend": true,
           "textposition": "auto",
           "type": "bar",
           "x": [
            "Avg Close Spring"
           ],
           "xaxis": "x",
           "y": [
            39.21554396915635
           ],
           "yaxis": "y"
          },
          {
           "alignmentgroup": "True",
           "hovertemplate": "Season=%{x}<br>Ticker=AMD<br>Average Close Price=%{y}<extra></extra>",
           "legendgroup": "Avg Close Summer",
           "marker": {
            "color": "#00cc96",
            "pattern": {
             "shape": ""
            }
           },
           "name": "Avg Close Summer",
           "offsetgroup": "Avg Close Summer",
           "orientation": "v",
           "showlegend": true,
           "textposition": "auto",
           "type": "bar",
           "x": [
            "Avg Close Summer"
           ],
           "xaxis": "x",
           "y": [
            41.5384832827616
           ],
           "yaxis": "y"
          },
          {
           "alignmentgroup": "True",
           "hovertemplate": "Season=%{x}<br>Ticker=AMD<br>Average Close Price=%{y}<extra></extra>",
           "legendgroup": "Avg Close Fall",
           "marker": {
            "color": "#ab63fa",
            "pattern": {
             "shape": ""
            }
           },
           "name": "Avg Close Fall",
           "offsetgroup": "Avg Close Fall",
           "orientation": "v",
           "showlegend": true,
           "textposition": "auto",
           "type": "bar",
           "x": [
            "Avg Close Fall"
           ],
           "xaxis": "x",
           "y": [
            43.5012395284256
           ],
           "yaxis": "y"
          }
         ],
         "name": "AMD"
        },
        {
         "data": [
          {
           "alignmentgroup": "True",
           "hovertemplate": "Season=%{x}<br>Ticker=AMGN<br>Average Close Price=%{y}<extra></extra>",
           "legendgroup": "Avg Close Winter",
           "marker": {
            "color": "#636efa",
            "pattern": {
             "shape": ""
            }
           },
           "name": "Avg Close Winter",
           "offsetgroup": "Avg Close Winter",
           "orientation": "v",
           "showlegend": true,
           "textposition": "auto",
           "type": "bar",
           "x": [
            "Avg Close Winter"
           ],
           "xaxis": "x",
           "y": [
            147.24894462896853
           ],
           "yaxis": "y"
          },
          {
           "alignmentgroup": "True",
           "hovertemplate": "Season=%{x}<br>Ticker=AMGN<br>Average Close Price=%{y}<extra></extra>",
           "legendgroup": "Avg Close Spring",
           "marker": {
            "color": "#EF553B",
            "pattern": {
             "shape": ""
            }
           },
           "name": "Avg Close Spring",
           "offsetgroup": "Avg Close Spring",
           "orientation": "v",
           "showlegend": true,
           "textposition": "auto",
           "type": "bar",
           "x": [
            "Avg Close Spring"
           ],
           "xaxis": "x",
           "y": [
            140.9560104513767
           ],
           "yaxis": "y"
          },
          {
           "alignmentgroup": "True",
           "hovertemplate": "Season=%{x}<br>Ticker=AMGN<br>Average Close Price=%{y}<extra></extra>",
           "legendgroup": "Avg Close Summer",
           "marker": {
            "color": "#00cc96",
            "pattern": {
             "shape": ""
            }
           },
           "name": "Avg Close Summer",
           "offsetgroup": "Avg Close Summer",
           "orientation": "v",
           "showlegend": true,
           "textposition": "auto",
           "type": "bar",
           "x": [
            "Avg Close Summer"
           ],
           "xaxis": "x",
           "y": [
            148.27392021881488
           ],
           "yaxis": "y"
          },
          {
           "alignmentgroup": "True",
           "hovertemplate": "Season=%{x}<br>Ticker=AMGN<br>Average Close Price=%{y}<extra></extra>",
           "legendgroup": "Avg Close Fall",
           "marker": {
            "color": "#ab63fa",
            "pattern": {
             "shape": ""
            }
           },
           "name": "Avg Close Fall",
           "offsetgroup": "Avg Close Fall",
           "orientation": "v",
           "showlegend": true,
           "textposition": "auto",
           "type": "bar",
           "x": [
            "Avg Close Fall"
           ],
           "xaxis": "x",
           "y": [
            150.8109635545426
           ],
           "yaxis": "y"
          }
         ],
         "name": "AMGN"
        },
        {
         "data": [
          {
           "alignmentgroup": "True",
           "hovertemplate": "Season=%{x}<br>Ticker=AMT<br>Average Close Price=%{y}<extra></extra>",
           "legendgroup": "Avg Close Winter",
           "marker": {
            "color": "#636efa",
            "pattern": {
             "shape": ""
            }
           },
           "name": "Avg Close Winter",
           "offsetgroup": "Avg Close Winter",
           "orientation": "v",
           "showlegend": true,
           "textposition": "auto",
           "type": "bar",
           "x": [
            "Avg Close Winter"
           ],
           "xaxis": "x",
           "y": [
            121.99044979640416
           ],
           "yaxis": "y"
          },
          {
           "alignmentgroup": "True",
           "hovertemplate": "Season=%{x}<br>Ticker=AMT<br>Average Close Price=%{y}<extra></extra>",
           "legendgroup": "Avg Close Spring",
           "marker": {
            "color": "#EF553B",
            "pattern": {
             "shape": ""
            }
           },
           "name": "Avg Close Spring",
           "offsetgroup": "Avg Close Spring",
           "orientation": "v",
           "showlegend": true,
           "textposition": "auto",
           "type": "bar",
           "x": [
            "Avg Close Spring"
           ],
           "xaxis": "x",
           "y": [
            123.34412629035728
           ],
           "yaxis": "y"
          },
          {
           "alignmentgroup": "True",
           "hovertemplate": "Season=%{x}<br>Ticker=AMT<br>Average Close Price=%{y}<extra></extra>",
           "legendgroup": "Avg Close Summer",
           "marker": {
            "color": "#00cc96",
            "pattern": {
             "shape": ""
            }
           },
           "name": "Avg Close Summer",
           "offsetgroup": "Avg Close Summer",
           "orientation": "v",
           "showlegend": true,
           "textposition": "auto",
           "type": "bar",
           "x": [
            "Avg Close Summer"
           ],
           "xaxis": "x",
           "y": [
            130.41754579344553
           ],
           "yaxis": "y"
          },
          {
           "alignmentgroup": "True",
           "hovertemplate": "Season=%{x}<br>Ticker=AMT<br>Average Close Price=%{y}<extra></extra>",
           "legendgroup": "Avg Close Fall",
           "marker": {
            "color": "#ab63fa",
            "pattern": {
             "shape": ""
            }
           },
           "name": "Avg Close Fall",
           "offsetgroup": "Avg Close Fall",
           "orientation": "v",
           "showlegend": true,
           "textposition": "auto",
           "type": "bar",
           "x": [
            "Avg Close Fall"
           ],
           "xaxis": "x",
           "y": [
            127.40001083021404
           ],
           "yaxis": "y"
          }
         ],
         "name": "AMT"
        },
        {
         "data": [
          {
           "alignmentgroup": "True",
           "hovertemplate": "Season=%{x}<br>Ticker=AMZN<br>Average Close Price=%{y}<extra></extra>",
           "legendgroup": "Avg Close Winter",
           "marker": {
            "color": "#636efa",
            "pattern": {
             "shape": ""
            }
           },
           "name": "Avg Close Winter",
           "offsetgroup": "Avg Close Winter",
           "orientation": "v",
           "showlegend": true,
           "textposition": "auto",
           "type": "bar",
           "x": [
            "Avg Close Winter"
           ],
           "xaxis": "x",
           "y": [
            74.19161574499948
           ],
           "yaxis": "y"
          },
          {
           "alignmentgroup": "True",
           "hovertemplate": "Season=%{x}<br>Ticker=AMZN<br>Average Close Price=%{y}<extra></extra>",
           "legendgroup": "Avg Close Spring",
           "marker": {
            "color": "#EF553B",
            "pattern": {
             "shape": ""
            }
           },
           "name": "Avg Close Spring",
           "offsetgroup": "Avg Close Spring",
           "orientation": "v",
           "showlegend": true,
           "textposition": "auto",
           "type": "bar",
           "x": [
            "Avg Close Spring"
           ],
           "xaxis": "x",
           "y": [
            70.37669457152299
           ],
           "yaxis": "y"
          },
          {
           "alignmentgroup": "True",
           "hovertemplate": "Season=%{x}<br>Ticker=AMZN<br>Average Close Price=%{y}<extra></extra>",
           "legendgroup": "Avg Close Summer",
           "marker": {
            "color": "#00cc96",
            "pattern": {
             "shape": ""
            }
           },
           "name": "Avg Close Summer",
           "offsetgroup": "Avg Close Summer",
           "orientation": "v",
           "showlegend": true,
           "textposition": "auto",
           "type": "bar",
           "x": [
            "Avg Close Summer"
           ],
           "xaxis": "x",
           "y": [
            75.55044608335615
           ],
           "yaxis": "y"
          },
          {
           "alignmentgroup": "True",
           "hovertemplate": "Season=%{x}<br>Ticker=AMZN<br>Average Close Price=%{y}<extra></extra>",
           "legendgroup": "Avg Close Fall",
           "marker": {
            "color": "#ab63fa",
            "pattern": {
             "shape": ""
            }
           },
           "name": "Avg Close Fall",
           "offsetgroup": "Avg Close Fall",
           "orientation": "v",
           "showlegend": true,
           "textposition": "auto",
           "type": "bar",
           "x": [
            "Avg Close Fall"
           ],
           "xaxis": "x",
           "y": [
            75.90509983020671
           ],
           "yaxis": "y"
          }
         ],
         "name": "AMZN"
        },
        {
         "data": [
          {
           "alignmentgroup": "True",
           "hovertemplate": "Season=%{x}<br>Ticker=AVGO<br>Average Close Price=%{y}<extra></extra>",
           "legendgroup": "Avg Close Winter",
           "marker": {
            "color": "#636efa",
            "pattern": {
             "shape": ""
            }
           },
           "name": "Avg Close Winter",
           "offsetgroup": "Avg Close Winter",
           "orientation": "v",
           "showlegend": true,
           "textposition": "auto",
           "type": "bar",
           "x": [
            "Avg Close Winter"
           ],
           "xaxis": "x",
           "y": [
            37.511182495647546
           ],
           "yaxis": "y"
          },
          {
           "alignmentgroup": "True",
           "hovertemplate": "Season=%{x}<br>Ticker=AVGO<br>Average Close Price=%{y}<extra></extra>",
           "legendgroup": "Avg Close Spring",
           "marker": {
            "color": "#EF553B",
            "pattern": {
             "shape": ""
            }
           },
           "name": "Avg Close Spring",
           "offsetgroup": "Avg Close Spring",
           "orientation": "v",
           "showlegend": true,
           "textposition": "auto",
           "type": "bar",
           "x": [
            "Avg Close Spring"
           ],
           "xaxis": "x",
           "y": [
            29.70095396802515
           ],
           "yaxis": "y"
          },
          {
           "alignmentgroup": "True",
           "hovertemplate": "Season=%{x}<br>Ticker=AVGO<br>Average Close Price=%{y}<extra></extra>",
           "legendgroup": "Avg Close Summer",
           "marker": {
            "color": "#00cc96",
            "pattern": {
             "shape": ""
            }
           },
           "name": "Avg Close Summer",
           "offsetgroup": "Avg Close Summer",
           "orientation": "v",
           "showlegend": true,
           "textposition": "auto",
           "type": "bar",
           "x": [
            "Avg Close Summer"
           ],
           "xaxis": "x",
           "y": [
            31.08095865855656
           ],
           "yaxis": "y"
          },
          {
           "alignmentgroup": "True",
           "hovertemplate": "Season=%{x}<br>Ticker=AVGO<br>Average Close Price=%{y}<extra></extra>",
           "legendgroup": "Avg Close Fall",
           "marker": {
            "color": "#ab63fa",
            "pattern": {
             "shape": ""
            }
           },
           "name": "Avg Close Fall",
           "offsetgroup": "Avg Close Fall",
           "orientation": "v",
           "showlegend": true,
           "textposition": "auto",
           "type": "bar",
           "x": [
            "Avg Close Fall"
           ],
           "xaxis": "x",
           "y": [
            34.612581572863235
           ],
           "yaxis": "y"
          }
         ],
         "name": "AVGO"
        },
        {
         "data": [
          {
           "alignmentgroup": "True",
           "hovertemplate": "Season=%{x}<br>Ticker=AXP<br>Average Close Price=%{y}<extra></extra>",
           "legendgroup": "Avg Close Winter",
           "marker": {
            "color": "#636efa",
            "pattern": {
             "shape": ""
            }
           },
           "name": "Avg Close Winter",
           "offsetgroup": "Avg Close Winter",
           "orientation": "v",
           "showlegend": true,
           "textposition": "auto",
           "type": "bar",
           "x": [
            "Avg Close Winter"
           ],
           "xaxis": "x",
           "y": [
            105.05215822141996
           ],
           "yaxis": "y"
          },
          {
           "alignmentgroup": "True",
           "hovertemplate": "Season=%{x}<br>Ticker=AXP<br>Average Close Price=%{y}<extra></extra>",
           "legendgroup": "Avg Close Spring",
           "marker": {
            "color": "#EF553B",
            "pattern": {
             "shape": ""
            }
           },
           "name": "Avg Close Spring",
           "offsetgroup": "Avg Close Spring",
           "orientation": "v",
           "showlegend": true,
           "textposition": "auto",
           "type": "bar",
           "x": [
            "Avg Close Spring"
           ],
           "xaxis": "x",
           "y": [
            96.8500312481964
           ],
           "yaxis": "y"
          },
          {
           "alignmentgroup": "True",
           "hovertemplate": "Season=%{x}<br>Ticker=AXP<br>Average Close Price=%{y}<extra></extra>",
           "legendgroup": "Avg Close Summer",
           "marker": {
            "color": "#00cc96",
            "pattern": {
             "shape": ""
            }
           },
           "name": "Avg Close Summer",
           "offsetgroup": "Avg Close Summer",
           "orientation": "v",
           "showlegend": true,
           "textposition": "auto",
           "type": "bar",
           "x": [
            "Avg Close Summer"
           ],
           "xaxis": "x",
           "y": [
            98.47113870477078
           ],
           "yaxis": "y"
          },
          {
           "alignmentgroup": "True",
           "hovertemplate": "Season=%{x}<br>Ticker=AXP<br>Average Close Price=%{y}<extra></extra>",
           "legendgroup": "Avg Close Fall",
           "marker": {
            "color": "#ab63fa",
            "pattern": {
             "shape": ""
            }
           },
           "name": "Avg Close Fall",
           "offsetgroup": "Avg Close Fall",
           "orientation": "v",
           "showlegend": true,
           "textposition": "auto",
           "type": "bar",
           "x": [
            "Avg Close Fall"
           ],
           "xaxis": "x",
           "y": [
            102.81930626740976
           ],
           "yaxis": "y"
          }
         ],
         "name": "AXP"
        },
        {
         "data": [
          {
           "alignmentgroup": "True",
           "hovertemplate": "Season=%{x}<br>Ticker=BA<br>Average Close Price=%{y}<extra></extra>",
           "legendgroup": "Avg Close Winter",
           "marker": {
            "color": "#636efa",
            "pattern": {
             "shape": ""
            }
           },
           "name": "Avg Close Winter",
           "offsetgroup": "Avg Close Winter",
           "orientation": "v",
           "showlegend": true,
           "textposition": "auto",
           "type": "bar",
           "x": [
            "Avg Close Winter"
           ],
           "xaxis": "x",
           "y": [
            170.33201705776915
           ],
           "yaxis": "y"
          },
          {
           "alignmentgroup": "True",
           "hovertemplate": "Season=%{x}<br>Ticker=BA<br>Average Close Price=%{y}<extra></extra>",
           "legendgroup": "Avg Close Spring",
           "marker": {
            "color": "#EF553B",
            "pattern": {
             "shape": ""
            }
           },
           "name": "Avg Close Spring",
           "offsetgroup": "Avg Close Spring",
           "orientation": "v",
           "showlegend": true,
           "textposition": "auto",
           "type": "bar",
           "x": [
            "Avg Close Spring"
           ],
           "xaxis": "x",
           "y": [
            160.3644047581501
           ],
           "yaxis": "y"
          },
          {
           "alignmentgroup": "True",
           "hovertemplate": "Season=%{x}<br>Ticker=BA<br>Average Close Price=%{y}<extra></extra>",
           "legendgroup": "Avg Close Summer",
           "marker": {
            "color": "#00cc96",
            "pattern": {
             "shape": ""
            }
           },
           "name": "Avg Close Summer",
           "offsetgroup": "Avg Close Summer",
           "orientation": "v",
           "showlegend": true,
           "textposition": "auto",
           "type": "bar",
           "x": [
            "Avg Close Summer"
           ],
           "xaxis": "x",
           "y": [
            163.70831659947478
           ],
           "yaxis": "y"
          },
          {
           "alignmentgroup": "True",
           "hovertemplate": "Season=%{x}<br>Ticker=BA<br>Average Close Price=%{y}<extra></extra>",
           "legendgroup": "Avg Close Fall",
           "marker": {
            "color": "#ab63fa",
            "pattern": {
             "shape": ""
            }
           },
           "name": "Avg Close Fall",
           "offsetgroup": "Avg Close Fall",
           "orientation": "v",
           "showlegend": true,
           "textposition": "auto",
           "type": "bar",
           "x": [
            "Avg Close Fall"
           ],
           "xaxis": "x",
           "y": [
            169.13169993873404
           ],
           "yaxis": "y"
          }
         ],
         "name": "BA"
        },
        {
         "data": [
          {
           "alignmentgroup": "True",
           "hovertemplate": "Season=%{x}<br>Ticker=BAC<br>Average Close Price=%{y}<extra></extra>",
           "legendgroup": "Avg Close Winter",
           "marker": {
            "color": "#636efa",
            "pattern": {
             "shape": ""
            }
           },
           "name": "Avg Close Winter",
           "offsetgroup": "Avg Close Winter",
           "orientation": "v",
           "showlegend": true,
           "textposition": "auto",
           "type": "bar",
           "x": [
            "Avg Close Winter"
           ],
           "xaxis": "x",
           "y": [
            22.21722022173356
           ],
           "yaxis": "y"
          },
          {
           "alignmentgroup": "True",
           "hovertemplate": "Season=%{x}<br>Ticker=BAC<br>Average Close Price=%{y}<extra></extra>",
           "legendgroup": "Avg Close Spring",
           "marker": {
            "color": "#EF553B",
            "pattern": {
             "shape": ""
            }
           },
           "name": "Avg Close Spring",
           "offsetgroup": "Avg Close Spring",
           "orientation": "v",
           "showlegend": true,
           "textposition": "auto",
           "type": "bar",
           "x": [
            "Avg Close Spring"
           ],
           "xaxis": "x",
           "y": [
            20.26978782929137
           ],
           "yaxis": "y"
          },
          {
           "alignmentgroup": "True",
           "hovertemplate": "Season=%{x}<br>Ticker=BAC<br>Average Close Price=%{y}<extra></extra>",
           "legendgroup": "Avg Close Summer",
           "marker": {
            "color": "#00cc96",
            "pattern": {
             "shape": ""
            }
           },
           "name": "Avg Close Summer",
           "offsetgroup": "Avg Close Summer",
           "orientation": "v",
           "showlegend": true,
           "textposition": "auto",
           "type": "bar",
           "x": [
            "Avg Close Summer"
           ],
           "xaxis": "x",
           "y": [
            20.179957945476517
           ],
           "yaxis": "y"
          },
          {
           "alignmentgroup": "True",
           "hovertemplate": "Season=%{x}<br>Ticker=BAC<br>Average Close Price=%{y}<extra></extra>",
           "legendgroup": "Avg Close Fall",
           "marker": {
            "color": "#ab63fa",
            "pattern": {
             "shape": ""
            }
           },
           "name": "Avg Close Fall",
           "offsetgroup": "Avg Close Fall",
           "orientation": "v",
           "showlegend": true,
           "textposition": "auto",
           "type": "bar",
           "x": [
            "Avg Close Fall"
           ],
           "xaxis": "x",
           "y": [
            21.487825850979625
           ],
           "yaxis": "y"
          }
         ],
         "name": "BAC"
        },
        {
         "data": [
          {
           "alignmentgroup": "True",
           "hovertemplate": "Season=%{x}<br>Ticker=BKNG<br>Average Close Price=%{y}<extra></extra>",
           "legendgroup": "Avg Close Winter",
           "marker": {
            "color": "#636efa",
            "pattern": {
             "shape": ""
            }
           },
           "name": "Avg Close Winter",
           "offsetgroup": "Avg Close Winter",
           "orientation": "v",
           "showlegend": true,
           "textposition": "auto",
           "type": "bar",
           "x": [
            "Avg Close Winter"
           ],
           "xaxis": "x",
           "y": [
            1729.918243486054
           ],
           "yaxis": "y"
          },
          {
           "alignmentgroup": "True",
           "hovertemplate": "Season=%{x}<br>Ticker=BKNG<br>Average Close Price=%{y}<extra></extra>",
           "legendgroup": "Avg Close Spring",
           "marker": {
            "color": "#EF553B",
            "pattern": {
             "shape": ""
            }
           },
           "name": "Avg Close Spring",
           "offsetgroup": "Avg Close Spring",
           "orientation": "v",
           "showlegend": true,
           "textposition": "auto",
           "type": "bar",
           "x": [
            "Avg Close Spring"
           ],
           "xaxis": "x",
           "y": [
            1607.527215359101
           ],
           "yaxis": "y"
          },
          {
           "alignmentgroup": "True",
           "hovertemplate": "Season=%{x}<br>Ticker=BKNG<br>Average Close Price=%{y}<extra></extra>",
           "legendgroup": "Avg Close Summer",
           "marker": {
            "color": "#00cc96",
            "pattern": {
             "shape": ""
            }
           },
           "name": "Avg Close Summer",
           "offsetgroup": "Avg Close Summer",
           "orientation": "v",
           "showlegend": true,
           "textposition": "auto",
           "type": "bar",
           "x": [
            "Avg Close Summer"
           ],
           "xaxis": "x",
           "y": [
            1633.6351542293278
           ],
           "yaxis": "y"
          },
          {
           "alignmentgroup": "True",
           "hovertemplate": "Season=%{x}<br>Ticker=BKNG<br>Average Close Price=%{y}<extra></extra>",
           "legendgroup": "Avg Close Fall",
           "marker": {
            "color": "#ab63fa",
            "pattern": {
             "shape": ""
            }
           },
           "name": "Avg Close Fall",
           "offsetgroup": "Avg Close Fall",
           "orientation": "v",
           "showlegend": true,
           "textposition": "auto",
           "type": "bar",
           "x": [
            "Avg Close Fall"
           ],
           "xaxis": "x",
           "y": [
            1737.7089169927003
           ],
           "yaxis": "y"
          }
         ],
         "name": "BKNG"
        },
        {
         "data": [
          {
           "alignmentgroup": "True",
           "hovertemplate": "Season=%{x}<br>Ticker=BLK<br>Average Close Price=%{y}<extra></extra>",
           "legendgroup": "Avg Close Winter",
           "marker": {
            "color": "#636efa",
            "pattern": {
             "shape": ""
            }
           },
           "name": "Avg Close Winter",
           "offsetgroup": "Avg Close Winter",
           "orientation": "v",
           "showlegend": true,
           "textposition": "auto",
           "type": "bar",
           "x": [
            "Avg Close Winter"
           ],
           "xaxis": "x",
           "y": [
            419.3952013443927
           ],
           "yaxis": "y"
          },
          {
           "alignmentgroup": "True",
           "hovertemplate": "Season=%{x}<br>Ticker=BLK<br>Average Close Price=%{y}<extra></extra>",
           "legendgroup": "Avg Close Spring",
           "marker": {
            "color": "#EF553B",
            "pattern": {
             "shape": ""
            }
           },
           "name": "Avg Close Spring",
           "offsetgroup": "Avg Close Spring",
           "orientation": "v",
           "showlegend": true,
           "textposition": "auto",
           "type": "bar",
           "x": [
            "Avg Close Spring"
           ],
           "xaxis": "x",
           "y": [
            388.1738260021768
           ],
           "yaxis": "y"
          },
          {
           "alignmentgroup": "True",
           "hovertemplate": "Season=%{x}<br>Ticker=BLK<br>Average Close Price=%{y}<extra></extra>",
           "legendgroup": "Avg Close Summer",
           "marker": {
            "color": "#00cc96",
            "pattern": {
             "shape": ""
            }
           },
           "name": "Avg Close Summer",
           "offsetgroup": "Avg Close Summer",
           "orientation": "v",
           "showlegend": true,
           "textposition": "auto",
           "type": "bar",
           "x": [
            "Avg Close Summer"
           ],
           "xaxis": "x",
           "y": [
            396.5902753055844
           ],
           "yaxis": "y"
          },
          {
           "alignmentgroup": "True",
           "hovertemplate": "Season=%{x}<br>Ticker=BLK<br>Average Close Price=%{y}<extra></extra>",
           "legendgroup": "Avg Close Fall",
           "marker": {
            "color": "#ab63fa",
            "pattern": {
             "shape": ""
            }
           },
           "name": "Avg Close Fall",
           "offsetgroup": "Avg Close Fall",
           "orientation": "v",
           "showlegend": true,
           "textposition": "auto",
           "type": "bar",
           "x": [
            "Avg Close Fall"
           ],
           "xaxis": "x",
           "y": [
            422.5933826670927
           ],
           "yaxis": "y"
          }
         ],
         "name": "BLK"
        },
        {
         "data": [
          {
           "alignmentgroup": "True",
           "hovertemplate": "Season=%{x}<br>Ticker=BMY<br>Average Close Price=%{y}<extra></extra>",
           "legendgroup": "Avg Close Winter",
           "marker": {
            "color": "#636efa",
            "pattern": {
             "shape": ""
            }
           },
           "name": "Avg Close Winter",
           "offsetgroup": "Avg Close Winter",
           "orientation": "v",
           "showlegend": true,
           "textposition": "auto",
           "type": "bar",
           "x": [
            "Avg Close Winter"
           ],
           "xaxis": "x",
           "y": [
            41.88491380555289
           ],
           "yaxis": "y"
          },
          {
           "alignmentgroup": "True",
           "hovertemplate": "Season=%{x}<br>Ticker=BMY<br>Average Close Price=%{y}<extra></extra>",
           "legendgroup": "Avg Close Spring",
           "marker": {
            "color": "#EF553B",
            "pattern": {
             "shape": ""
            }
           },
           "name": "Avg Close Spring",
           "offsetgroup": "Avg Close Spring",
           "orientation": "v",
           "showlegend": true,
           "textposition": "auto",
           "type": "bar",
           "x": [
            "Avg Close Spring"
           ],
           "xaxis": "x",
           "y": [
            41.30902209441532
           ],
           "yaxis": "y"
          },
          {
           "alignmentgroup": "True",
           "hovertemplate": "Season=%{x}<br>Ticker=BMY<br>Average Close Price=%{y}<extra></extra>",
           "legendgroup": "Avg Close Summer",
           "marker": {
            "color": "#00cc96",
            "pattern": {
             "shape": ""
            }
           },
           "name": "Avg Close Summer",
           "offsetgroup": "Avg Close Summer",
           "orientation": "v",
           "showlegend": true,
           "textposition": "auto",
           "type": "bar",
           "x": [
            "Avg Close Summer"
           ],
           "xaxis": "x",
           "y": [
            41.400708534727535
           ],
           "yaxis": "y"
          },
          {
           "alignmentgroup": "True",
           "hovertemplate": "Season=%{x}<br>Ticker=BMY<br>Average Close Price=%{y}<extra></extra>",
           "legendgroup": "Avg Close Fall",
           "marker": {
            "color": "#ab63fa",
            "pattern": {
             "shape": ""
            }
           },
           "name": "Avg Close Fall",
           "offsetgroup": "Avg Close Fall",
           "orientation": "v",
           "showlegend": true,
           "textposition": "auto",
           "type": "bar",
           "x": [
            "Avg Close Fall"
           ],
           "xaxis": "x",
           "y": [
            42.52226390157427
           ],
           "yaxis": "y"
          }
         ],
         "name": "BMY"
        },
        {
         "data": [
          {
           "alignmentgroup": "True",
           "hovertemplate": "Season=%{x}<br>Ticker=BRK-B<br>Average Close Price=%{y}<extra></extra>",
           "legendgroup": "Avg Close Winter",
           "marker": {
            "color": "#636efa",
            "pattern": {
             "shape": ""
            }
           },
           "name": "Avg Close Winter",
           "offsetgroup": "Avg Close Winter",
           "orientation": "v",
           "showlegend": true,
           "textposition": "auto",
           "type": "bar",
           "x": [
            "Avg Close Winter"
           ],
           "xaxis": "x",
           "y": [
            204.48206127711703
           ],
           "yaxis": "y"
          },
          {
           "alignmentgroup": "True",
           "hovertemplate": "Season=%{x}<br>Ticker=BRK-B<br>Average Close Price=%{y}<extra></extra>",
           "legendgroup": "Avg Close Spring",
           "marker": {
            "color": "#EF553B",
            "pattern": {
             "shape": ""
            }
           },
           "name": "Avg Close Spring",
           "offsetgroup": "Avg Close Spring",
           "orientation": "v",
           "showlegend": true,
           "textposition": "auto",
           "type": "bar",
           "x": [
            "Avg Close Spring"
           ],
           "xaxis": "x",
           "y": [
            192.19997914366144
           ],
           "yaxis": "y"
          },
          {
           "alignmentgroup": "True",
           "hovertemplate": "Season=%{x}<br>Ticker=BRK-B<br>Average Close Price=%{y}<extra></extra>",
           "legendgroup": "Avg Close Summer",
           "marker": {
            "color": "#00cc96",
            "pattern": {
             "shape": ""
            }
           },
           "name": "Avg Close Summer",
           "offsetgroup": "Avg Close Summer",
           "orientation": "v",
           "showlegend": true,
           "textposition": "auto",
           "type": "bar",
           "x": [
            "Avg Close Summer"
           ],
           "xaxis": "x",
           "y": [
            194.89925729280736
           ],
           "yaxis": "y"
          },
          {
           "alignmentgroup": "True",
           "hovertemplate": "Season=%{x}<br>Ticker=BRK-B<br>Average Close Price=%{y}<extra></extra>",
           "legendgroup": "Avg Close Fall",
           "marker": {
            "color": "#ab63fa",
            "pattern": {
             "shape": ""
            }
           },
           "name": "Avg Close Fall",
           "offsetgroup": "Avg Close Fall",
           "orientation": "v",
           "showlegend": true,
           "textposition": "auto",
           "type": "bar",
           "x": [
            "Avg Close Fall"
           ],
           "xaxis": "x",
           "y": [
            201.87368693471956
           ],
           "yaxis": "y"
          }
         ],
         "name": "BRK-B"
        },
        {
         "data": [
          {
           "alignmentgroup": "True",
           "hovertemplate": "Season=%{x}<br>Ticker=BSX<br>Average Close Price=%{y}<extra></extra>",
           "legendgroup": "Avg Close Winter",
           "marker": {
            "color": "#636efa",
            "pattern": {
             "shape": ""
            }
           },
           "name": "Avg Close Winter",
           "offsetgroup": "Avg Close Winter",
           "orientation": "v",
           "showlegend": true,
           "textposition": "auto",
           "type": "bar",
           "x": [
            "Avg Close Winter"
           ],
           "xaxis": "x",
           "y": [
            30.9915407754937
           ],
           "yaxis": "y"
          },
          {
           "alignmentgroup": "True",
           "hovertemplate": "Season=%{x}<br>Ticker=BSX<br>Average Close Price=%{y}<extra></extra>",
           "legendgroup": "Avg Close Spring",
           "marker": {
            "color": "#EF553B",
            "pattern": {
             "shape": ""
            }
           },
           "name": "Avg Close Spring",
           "offsetgroup": "Avg Close Spring",
           "orientation": "v",
           "showlegend": true,
           "textposition": "auto",
           "type": "bar",
           "x": [
            "Avg Close Spring"
           ],
           "xaxis": "x",
           "y": [
            28.624665267796697
           ],
           "yaxis": "y"
          },
          {
           "alignmentgroup": "True",
           "hovertemplate": "Season=%{x}<br>Ticker=BSX<br>Average Close Price=%{y}<extra></extra>",
           "legendgroup": "Avg Close Summer",
           "marker": {
            "color": "#00cc96",
            "pattern": {
             "shape": ""
            }
           },
           "name": "Avg Close Summer",
           "offsetgroup": "Avg Close Summer",
           "orientation": "v",
           "showlegend": true,
           "textposition": "auto",
           "type": "bar",
           "x": [
            "Avg Close Summer"
           ],
           "xaxis": "x",
           "y": [
            29.414832647375484
           ],
           "yaxis": "y"
          },
          {
           "alignmentgroup": "True",
           "hovertemplate": "Season=%{x}<br>Ticker=BSX<br>Average Close Price=%{y}<extra></extra>",
           "legendgroup": "Avg Close Fall",
           "marker": {
            "color": "#ab63fa",
            "pattern": {
             "shape": ""
            }
           },
           "name": "Avg Close Fall",
           "offsetgroup": "Avg Close Fall",
           "orientation": "v",
           "showlegend": true,
           "textposition": "auto",
           "type": "bar",
           "x": [
            "Avg Close Fall"
           ],
           "xaxis": "x",
           "y": [
            30.07840334116912
           ],
           "yaxis": "y"
          }
         ],
         "name": "BSX"
        },
        {
         "data": [
          {
           "alignmentgroup": "True",
           "hovertemplate": "Season=%{x}<br>Ticker=BX<br>Average Close Price=%{y}<extra></extra>",
           "legendgroup": "Avg Close Winter",
           "marker": {
            "color": "#636efa",
            "pattern": {
             "shape": ""
            }
           },
           "name": "Avg Close Winter",
           "offsetgroup": "Avg Close Winter",
           "orientation": "v",
           "showlegend": true,
           "textposition": "auto",
           "type": "bar",
           "x": [
            "Avg Close Winter"
           ],
           "xaxis": "x",
           "y": [
            47.0371729310678
           ],
           "yaxis": "y"
          },
          {
           "alignmentgroup": "True",
           "hovertemplate": "Season=%{x}<br>Ticker=BX<br>Average Close Price=%{y}<extra></extra>",
           "legendgroup": "Avg Close Spring",
           "marker": {
            "color": "#EF553B",
            "pattern": {
             "shape": ""
            }
           },
           "name": "Avg Close Spring",
           "offsetgroup": "Avg Close Spring",
           "orientation": "v",
           "showlegend": true,
           "textposition": "auto",
           "type": "bar",
           "x": [
            "Avg Close Spring"
           ],
           "xaxis": "x",
           "y": [
            41.03771559962668
           ],
           "yaxis": "y"
          },
          {
           "alignmentgroup": "True",
           "hovertemplate": "Season=%{x}<br>Ticker=BX<br>Average Close Price=%{y}<extra></extra>",
           "legendgroup": "Avg Close Summer",
           "marker": {
            "color": "#00cc96",
            "pattern": {
             "shape": ""
            }
           },
           "name": "Avg Close Summer",
           "offsetgroup": "Avg Close Summer",
           "orientation": "v",
           "showlegend": true,
           "textposition": "auto",
           "type": "bar",
           "x": [
            "Avg Close Summer"
           ],
           "xaxis": "x",
           "y": [
            44.30496432142776
           ],
           "yaxis": "y"
          },
          {
           "alignmentgroup": "True",
           "hovertemplate": "Season=%{x}<br>Ticker=BX<br>Average Close Price=%{y}<extra></extra>",
           "legendgroup": "Avg Close Fall",
           "marker": {
            "color": "#ab63fa",
            "pattern": {
             "shape": ""
            }
           },
           "name": "Avg Close Fall",
           "offsetgroup": "Avg Close Fall",
           "orientation": "v",
           "showlegend": true,
           "textposition": "auto",
           "type": "bar",
           "x": [
            "Avg Close Fall"
           ],
           "xaxis": "x",
           "y": [
            48.078364779468345
           ],
           "yaxis": "y"
          }
         ],
         "name": "BX"
        },
        {
         "data": [
          {
           "alignmentgroup": "True",
           "hovertemplate": "Season=%{x}<br>Ticker=C<br>Average Close Price=%{y}<extra></extra>",
           "legendgroup": "Avg Close Winter",
           "marker": {
            "color": "#636efa",
            "pattern": {
             "shape": ""
            }
           },
           "name": "Avg Close Winter",
           "offsetgroup": "Avg Close Winter",
           "orientation": "v",
           "showlegend": true,
           "textposition": "auto",
           "type": "bar",
           "x": [
            "Avg Close Winter"
           ],
           "xaxis": "x",
           "y": [
            45.31841170836468
           ],
           "yaxis": "y"
          },
          {
           "alignmentgroup": "True",
           "hovertemplate": "Season=%{x}<br>Ticker=C<br>Average Close Price=%{y}<extra></extra>",
           "legendgroup": "Avg Close Spring",
           "marker": {
            "color": "#EF553B",
            "pattern": {
             "shape": ""
            }
           },
           "name": "Avg Close Spring",
           "offsetgroup": "Avg Close Spring",
           "orientation": "v",
           "showlegend": true,
           "textposition": "auto",
           "type": "bar",
           "x": [
            "Avg Close Spring"
           ],
           "xaxis": "x",
           "y": [
            42.94832697074283
           ],
           "yaxis": "y"
          },
          {
           "alignmentgroup": "True",
           "hovertemplate": "Season=%{x}<br>Ticker=C<br>Average Close Price=%{y}<extra></extra>",
           "legendgroup": "Avg Close Summer",
           "marker": {
            "color": "#00cc96",
            "pattern": {
             "shape": ""
            }
           },
           "name": "Avg Close Summer",
           "offsetgroup": "Avg Close Summer",
           "orientation": "v",
           "showlegend": true,
           "textposition": "auto",
           "type": "bar",
           "x": [
            "Avg Close Summer"
           ],
           "xaxis": "x",
           "y": [
            42.87558654362188
           ],
           "yaxis": "y"
          },
          {
           "alignmentgroup": "True",
           "hovertemplate": "Season=%{x}<br>Ticker=C<br>Average Close Price=%{y}<extra></extra>",
           "legendgroup": "Avg Close Fall",
           "marker": {
            "color": "#ab63fa",
            "pattern": {
             "shape": ""
            }
           },
           "name": "Avg Close Fall",
           "offsetgroup": "Avg Close Fall",
           "orientation": "v",
           "showlegend": true,
           "textposition": "auto",
           "type": "bar",
           "x": [
            "Avg Close Fall"
           ],
           "xaxis": "x",
           "y": [
            44.24834860072416
           ],
           "yaxis": "y"
          }
         ],
         "name": "C"
        },
        {
         "data": [
          {
           "alignmentgroup": "True",
           "hovertemplate": "Season=%{x}<br>Ticker=CAT<br>Average Close Price=%{y}<extra></extra>",
           "legendgroup": "Avg Close Winter",
           "marker": {
            "color": "#636efa",
            "pattern": {
             "shape": ""
            }
           },
           "name": "Avg Close Winter",
           "offsetgroup": "Avg Close Winter",
           "orientation": "v",
           "showlegend": true,
           "textposition": "auto",
           "type": "bar",
           "x": [
            "Avg Close Winter"
           ],
           "xaxis": "x",
           "y": [
            136.03342997492575
           ],
           "yaxis": "y"
          },
          {
           "alignmentgroup": "True",
           "hovertemplate": "Season=%{x}<br>Ticker=CAT<br>Average Close Price=%{y}<extra></extra>",
           "legendgroup": "Avg Close Spring",
           "marker": {
            "color": "#EF553B",
            "pattern": {
             "shape": ""
            }
           },
           "name": "Avg Close Spring",
           "offsetgroup": "Avg Close Spring",
           "orientation": "v",
           "showlegend": true,
           "textposition": "auto",
           "type": "bar",
           "x": [
            "Avg Close Spring"
           ],
           "xaxis": "x",
           "y": [
            125.72538256545444
           ],
           "yaxis": "y"
          },
          {
           "alignmentgroup": "True",
           "hovertemplate": "Season=%{x}<br>Ticker=CAT<br>Average Close Price=%{y}<extra></extra>",
           "legendgroup": "Avg Close Summer",
           "marker": {
            "color": "#00cc96",
            "pattern": {
             "shape": ""
            }
           },
           "name": "Avg Close Summer",
           "offsetgroup": "Avg Close Summer",
           "orientation": "v",
           "showlegend": true,
           "textposition": "auto",
           "type": "bar",
           "x": [
            "Avg Close Summer"
           ],
           "xaxis": "x",
           "y": [
            125.21456969033724
           ],
           "yaxis": "y"
          },
          {
           "alignmentgroup": "True",
           "hovertemplate": "Season=%{x}<br>Ticker=CAT<br>Average Close Price=%{y}<extra></extra>",
           "legendgroup": "Avg Close Fall",
           "marker": {
            "color": "#ab63fa",
            "pattern": {
             "shape": ""
            }
           },
           "name": "Avg Close Fall",
           "offsetgroup": "Avg Close Fall",
           "orientation": "v",
           "showlegend": true,
           "textposition": "auto",
           "type": "bar",
           "x": [
            "Avg Close Fall"
           ],
           "xaxis": "x",
           "y": [
            133.4581629368437
           ],
           "yaxis": "y"
          }
         ],
         "name": "CAT"
        },
        {
         "data": [
          {
           "alignmentgroup": "True",
           "hovertemplate": "Season=%{x}<br>Ticker=CB<br>Average Close Price=%{y}<extra></extra>",
           "legendgroup": "Avg Close Winter",
           "marker": {
            "color": "#636efa",
            "pattern": {
             "shape": ""
            }
           },
           "name": "Avg Close Winter",
           "offsetgroup": "Avg Close Winter",
           "orientation": "v",
           "showlegend": true,
           "textposition": "auto",
           "type": "bar",
           "x": [
            "Avg Close Winter"
           ],
           "xaxis": "x",
           "y": [
            126.671967934589
           ],
           "yaxis": "y"
          },
          {
           "alignmentgroup": "True",
           "hovertemplate": "Season=%{x}<br>Ticker=CB<br>Average Close Price=%{y}<extra></extra>",
           "legendgroup": "Avg Close Spring",
           "marker": {
            "color": "#EF553B",
            "pattern": {
             "shape": ""
            }
           },
           "name": "Avg Close Spring",
           "offsetgroup": "Avg Close Spring",
           "orientation": "v",
           "showlegend": true,
           "textposition": "auto",
           "type": "bar",
           "x": [
            "Avg Close Spring"
           ],
           "xaxis": "x",
           "y": [
            118.89729068867832
           ],
           "yaxis": "y"
          },
          {
           "alignmentgroup": "True",
           "hovertemplate": "Season=%{x}<br>Ticker=CB<br>Average Close Price=%{y}<extra></extra>",
           "legendgroup": "Avg Close Summer",
           "marker": {
            "color": "#00cc96",
            "pattern": {
             "shape": ""
            }
           },
           "name": "Avg Close Summer",
           "offsetgroup": "Avg Close Summer",
           "orientation": "v",
           "showlegend": true,
           "textposition": "auto",
           "type": "bar",
           "x": [
            "Avg Close Summer"
           ],
           "xaxis": "x",
           "y": [
            120.82799597464845
           ],
           "yaxis": "y"
          },
          {
           "alignmentgroup": "True",
           "hovertemplate": "Season=%{x}<br>Ticker=CB<br>Average Close Price=%{y}<extra></extra>",
           "legendgroup": "Avg Close Fall",
           "marker": {
            "color": "#ab63fa",
            "pattern": {
             "shape": ""
            }
           },
           "name": "Avg Close Fall",
           "offsetgroup": "Avg Close Fall",
           "orientation": "v",
           "showlegend": true,
           "textposition": "auto",
           "type": "bar",
           "x": [
            "Avg Close Fall"
           ],
           "xaxis": "x",
           "y": [
            127.9518546777613
           ],
           "yaxis": "y"
          }
         ],
         "name": "CB"
        },
        {
         "data": [
          {
           "alignmentgroup": "True",
           "hovertemplate": "Season=%{x}<br>Ticker=CMCSA<br>Average Close Price=%{y}<extra></extra>",
           "legendgroup": "Avg Close Winter",
           "marker": {
            "color": "#636efa",
            "pattern": {
             "shape": ""
            }
           },
           "name": "Avg Close Winter",
           "offsetgroup": "Avg Close Winter",
           "orientation": "v",
           "showlegend": true,
           "textposition": "auto",
           "type": "bar",
           "x": [
            "Avg Close Winter"
           ],
           "xaxis": "x",
           "y": [
            27.642971560419824
           ],
           "yaxis": "y"
          },
          {
           "alignmentgroup": "True",
           "hovertemplate": "Season=%{x}<br>Ticker=CMCSA<br>Average Close Price=%{y}<extra></extra>",
           "legendgroup": "Avg Close Spring",
           "marker": {
            "color": "#EF553B",
            "pattern": {
             "shape": ""
            }
           },
           "name": "Avg Close Spring",
           "offsetgroup": "Avg Close Spring",
           "orientation": "v",
           "showlegend": true,
           "textposition": "auto",
           "type": "bar",
           "x": [
            "Avg Close Spring"
           ],
           "xaxis": "x",
           "y": [
            27.09796718373957
           ],
           "yaxis": "y"
          },
          {
           "alignmentgroup": "True",
           "hovertemplate": "Season=%{x}<br>Ticker=CMCSA<br>Average Close Price=%{y}<extra></extra>",
           "legendgroup": "Avg Close Summer",
           "marker": {
            "color": "#00cc96",
            "pattern": {
             "shape": ""
            }
           },
           "name": "Avg Close Summer",
           "offsetgroup": "Avg Close Summer",
           "orientation": "v",
           "showlegend": true,
           "textposition": "auto",
           "type": "bar",
           "x": [
            "Avg Close Summer"
           ],
           "xaxis": "x",
           "y": [
            28.265102791486925
           ],
           "yaxis": "y"
          },
          {
           "alignmentgroup": "True",
           "hovertemplate": "Season=%{x}<br>Ticker=CMCSA<br>Average Close Price=%{y}<extra></extra>",
           "legendgroup": "Avg Close Fall",
           "marker": {
            "color": "#ab63fa",
            "pattern": {
             "shape": ""
            }
           },
           "name": "Avg Close Fall",
           "offsetgroup": "Avg Close Fall",
           "orientation": "v",
           "showlegend": true,
           "textposition": "auto",
           "type": "bar",
           "x": [
            "Avg Close Fall"
           ],
           "xaxis": "x",
           "y": [
            28.357787282526996
           ],
           "yaxis": "y"
          }
         ],
         "name": "CMCSA"
        },
        {
         "data": [
          {
           "alignmentgroup": "True",
           "hovertemplate": "Season=%{x}<br>Ticker=CME<br>Average Close Price=%{y}<extra></extra>",
           "legendgroup": "Avg Close Winter",
           "marker": {
            "color": "#636efa",
            "pattern": {
             "shape": ""
            }
           },
           "name": "Avg Close Winter",
           "offsetgroup": "Avg Close Winter",
           "orientation": "v",
           "showlegend": true,
           "textposition": "auto",
           "type": "bar",
           "x": [
            "Avg Close Winter"
           ],
           "xaxis": "x",
           "y": [
            112.32912199059312
           ],
           "yaxis": "y"
          },
          {
           "alignmentgroup": "True",
           "hovertemplate": "Season=%{x}<br>Ticker=CME<br>Average Close Price=%{y}<extra></extra>",
           "legendgroup": "Avg Close Spring",
           "marker": {
            "color": "#EF553B",
            "pattern": {
             "shape": ""
            }
           },
           "name": "Avg Close Spring",
           "offsetgroup": "Avg Close Spring",
           "orientation": "v",
           "showlegend": true,
           "textposition": "auto",
           "type": "bar",
           "x": [
            "Avg Close Spring"
           ],
           "xaxis": "x",
           "y": [
            104.61904077649616
           ],
           "yaxis": "y"
          },
          {
           "alignmentgroup": "True",
           "hovertemplate": "Season=%{x}<br>Ticker=CME<br>Average Close Price=%{y}<extra></extra>",
           "legendgroup": "Avg Close Summer",
           "marker": {
            "color": "#00cc96",
            "pattern": {
             "shape": ""
            }
           },
           "name": "Avg Close Summer",
           "offsetgroup": "Avg Close Summer",
           "orientation": "v",
           "showlegend": true,
           "textposition": "auto",
           "type": "bar",
           "x": [
            "Avg Close Summer"
           ],
           "xaxis": "x",
           "y": [
            105.18440742771996
           ],
           "yaxis": "y"
          },
          {
           "alignmentgroup": "True",
           "hovertemplate": "Season=%{x}<br>Ticker=CME<br>Average Close Price=%{y}<extra></extra>",
           "legendgroup": "Avg Close Fall",
           "marker": {
            "color": "#ab63fa",
            "pattern": {
             "shape": ""
            }
           },
           "name": "Avg Close Fall",
           "offsetgroup": "Avg Close Fall",
           "orientation": "v",
           "showlegend": true,
           "textposition": "auto",
           "type": "bar",
           "x": [
            "Avg Close Fall"
           ],
           "xaxis": "x",
           "y": [
            110.4925439978848
           ],
           "yaxis": "y"
          }
         ],
         "name": "CME"
        },
        {
         "data": [
          {
           "alignmentgroup": "True",
           "hovertemplate": "Season=%{x}<br>Ticker=COP<br>Average Close Price=%{y}<extra></extra>",
           "legendgroup": "Avg Close Winter",
           "marker": {
            "color": "#636efa",
            "pattern": {
             "shape": ""
            }
           },
           "name": "Avg Close Winter",
           "offsetgroup": "Avg Close Winter",
           "orientation": "v",
           "showlegend": true,
           "textposition": "auto",
           "type": "bar",
           "x": [
            "Avg Close Winter"
           ],
           "xaxis": "x",
           "y": [
            54.33499793227838
           ],
           "yaxis": "y"
          },
          {
           "alignmentgroup": "True",
           "hovertemplate": "Season=%{x}<br>Ticker=COP<br>Average Close Price=%{y}<extra></extra>",
           "legendgroup": "Avg Close Spring",
           "marker": {
            "color": "#EF553B",
            "pattern": {
             "shape": ""
            }
           },
           "name": "Avg Close Spring",
           "offsetgroup": "Avg Close Spring",
           "orientation": "v",
           "showlegend": true,
           "textposition": "auto",
           "type": "bar",
           "x": [
            "Avg Close Spring"
           ],
           "xaxis": "x",
           "y": [
            53.73738791254275
           ],
           "yaxis": "y"
          },
          {
           "alignmentgroup": "True",
           "hovertemplate": "Season=%{x}<br>Ticker=COP<br>Average Close Price=%{y}<extra></extra>",
           "legendgroup": "Avg Close Summer",
           "marker": {
            "color": "#00cc96",
            "pattern": {
             "shape": ""
            }
           },
           "name": "Avg Close Summer",
           "offsetgroup": "Avg Close Summer",
           "orientation": "v",
           "showlegend": true,
           "textposition": "auto",
           "type": "bar",
           "x": [
            "Avg Close Summer"
           ],
           "xaxis": "x",
           "y": [
            53.27885182632063
           ],
           "yaxis": "y"
          },
          {
           "alignmentgroup": "True",
           "hovertemplate": "Season=%{x}<br>Ticker=COP<br>Average Close Price=%{y}<extra></extra>",
           "legendgroup": "Avg Close Fall",
           "marker": {
            "color": "#ab63fa",
            "pattern": {
             "shape": ""
            }
           },
           "name": "Avg Close Fall",
           "offsetgroup": "Avg Close Fall",
           "orientation": "v",
           "showlegend": true,
           "textposition": "auto",
           "type": "bar",
           "x": [
            "Avg Close Fall"
           ],
           "xaxis": "x",
           "y": [
            56.322250480411434
           ],
           "yaxis": "y"
          }
         ],
         "name": "COP"
        },
        {
         "data": [
          {
           "alignmentgroup": "True",
           "hovertemplate": "Season=%{x}<br>Ticker=COST<br>Average Close Price=%{y}<extra></extra>",
           "legendgroup": "Avg Close Winter",
           "marker": {
            "color": "#636efa",
            "pattern": {
             "shape": ""
            }
           },
           "name": "Avg Close Winter",
           "offsetgroup": "Avg Close Winter",
           "orientation": "v",
           "showlegend": true,
           "textposition": "auto",
           "type": "bar",
           "x": [
            "Avg Close Winter"
           ],
           "xaxis": "x",
           "y": [
            272.04203195766524
           ],
           "yaxis": "y"
          },
          {
           "alignmentgroup": "True",
           "hovertemplate": "Season=%{x}<br>Ticker=COST<br>Average Close Price=%{y}<extra></extra>",
           "legendgroup": "Avg Close Spring",
           "marker": {
            "color": "#EF553B",
            "pattern": {
             "shape": ""
            }
           },
           "name": "Avg Close Spring",
           "offsetgroup": "Avg Close Spring",
           "orientation": "v",
           "showlegend": true,
           "textposition": "auto",
           "type": "bar",
           "x": [
            "Avg Close Spring"
           ],
           "xaxis": "x",
           "y": [
            242.8367393206353
           ],
           "yaxis": "y"
          },
          {
           "alignmentgroup": "True",
           "hovertemplate": "Season=%{x}<br>Ticker=COST<br>Average Close Price=%{y}<extra></extra>",
           "legendgroup": "Avg Close Summer",
           "marker": {
            "color": "#00cc96",
            "pattern": {
             "shape": ""
            }
           },
           "name": "Avg Close Summer",
           "offsetgroup": "Avg Close Summer",
           "orientation": "v",
           "showlegend": true,
           "textposition": "auto",
           "type": "bar",
           "x": [
            "Avg Close Summer"
           ],
           "xaxis": "x",
           "y": [
            256.75579964067146
           ],
           "yaxis": "y"
          },
          {
           "alignmentgroup": "True",
           "hovertemplate": "Season=%{x}<br>Ticker=COST<br>Average Close Price=%{y}<extra></extra>",
           "legendgroup": "Avg Close Fall",
           "marker": {
            "color": "#ab63fa",
            "pattern": {
             "shape": ""
            }
           },
           "name": "Avg Close Fall",
           "offsetgroup": "Avg Close Fall",
           "orientation": "v",
           "showlegend": true,
           "textposition": "auto",
           "type": "bar",
           "x": [
            "Avg Close Fall"
           ],
           "xaxis": "x",
           "y": [
            273.4435271335249
           ],
           "yaxis": "y"
          }
         ],
         "name": "COST"
        },
        {
         "data": [
          {
           "alignmentgroup": "True",
           "hovertemplate": "Season=%{x}<br>Ticker=CRM<br>Average Close Price=%{y}<extra></extra>",
           "legendgroup": "Avg Close Winter",
           "marker": {
            "color": "#636efa",
            "pattern": {
             "shape": ""
            }
           },
           "name": "Avg Close Winter",
           "offsetgroup": "Avg Close Winter",
           "orientation": "v",
           "showlegend": true,
           "textposition": "auto",
           "type": "bar",
           "x": [
            "Avg Close Winter"
           ],
           "xaxis": "x",
           "y": [
            126.85281373724644
           ],
           "yaxis": "y"
          },
          {
           "alignmentgroup": "True",
           "hovertemplate": "Season=%{x}<br>Ticker=CRM<br>Average Close Price=%{y}<extra></extra>",
           "legendgroup": "Avg Close Spring",
           "marker": {
            "color": "#EF553B",
            "pattern": {
             "shape": ""
            }
           },
           "name": "Avg Close Spring",
           "offsetgroup": "Avg Close Spring",
           "orientation": "v",
           "showlegend": true,
           "textposition": "auto",
           "type": "bar",
           "x": [
            "Avg Close Spring"
           ],
           "xaxis": "x",
           "y": [
            117.47763222131768
           ],
           "yaxis": "y"
          },
          {
           "alignmentgroup": "True",
           "hovertemplate": "Season=%{x}<br>Ticker=CRM<br>Average Close Price=%{y}<extra></extra>",
           "legendgroup": "Avg Close Summer",
           "marker": {
            "color": "#00cc96",
            "pattern": {
             "shape": ""
            }
           },
           "name": "Avg Close Summer",
           "offsetgroup": "Avg Close Summer",
           "orientation": "v",
           "showlegend": true,
           "textposition": "auto",
           "type": "bar",
           "x": [
            "Avg Close Summer"
           ],
           "xaxis": "x",
           "y": [
            122.69680870527004
           ],
           "yaxis": "y"
          },
          {
           "alignmentgroup": "True",
           "hovertemplate": "Season=%{x}<br>Ticker=CRM<br>Average Close Price=%{y}<extra></extra>",
           "legendgroup": "Avg Close Fall",
           "marker": {
            "color": "#ab63fa",
            "pattern": {
             "shape": ""
            }
           },
           "name": "Avg Close Fall",
           "offsetgroup": "Avg Close Fall",
           "orientation": "v",
           "showlegend": true,
           "textposition": "auto",
           "type": "bar",
           "x": [
            "Avg Close Fall"
           ],
           "xaxis": "x",
           "y": [
            131.076842372157
           ],
           "yaxis": "y"
          }
         ],
         "name": "CRM"
        },
        {
         "data": [
          {
           "alignmentgroup": "True",
           "hovertemplate": "Season=%{x}<br>Ticker=CRWD<br>Average Close Price=%{y}<extra></extra>",
           "legendgroup": "Avg Close Winter",
           "marker": {
            "color": "#636efa",
            "pattern": {
             "shape": ""
            }
           },
           "name": "Avg Close Winter",
           "offsetgroup": "Avg Close Winter",
           "orientation": "v",
           "showlegend": true,
           "textposition": "auto",
           "type": "bar",
           "x": [
            "Avg Close Winter"
           ],
           "xaxis": "x",
           "y": [
            208.34963287477908
           ],
           "yaxis": "y"
          },
          {
           "alignmentgroup": "True",
           "hovertemplate": "Season=%{x}<br>Ticker=CRWD<br>Average Close Price=%{y}<extra></extra>",
           "legendgroup": "Avg Close Spring",
           "marker": {
            "color": "#EF553B",
            "pattern": {
             "shape": ""
            }
           },
           "name": "Avg Close Spring",
           "offsetgroup": "Avg Close Spring",
           "orientation": "v",
           "showlegend": true,
           "textposition": "auto",
           "type": "bar",
           "x": [
            "Avg Close Spring"
           ],
           "xaxis": "x",
           "y": [
            190.0907590275719
           ],
           "yaxis": "y"
          },
          {
           "alignmentgroup": "True",
           "hovertemplate": "Season=%{x}<br>Ticker=CRWD<br>Average Close Price=%{y}<extra></extra>",
           "legendgroup": "Avg Close Summer",
           "marker": {
            "color": "#00cc96",
            "pattern": {
             "shape": ""
            }
           },
           "name": "Avg Close Summer",
           "offsetgroup": "Avg Close Summer",
           "orientation": "v",
           "showlegend": true,
           "textposition": "auto",
           "type": "bar",
           "x": [
            "Avg Close Summer"
           ],
           "xaxis": "x",
           "y": [
            179.46677559038366
           ],
           "yaxis": "y"
          },
          {
           "alignmentgroup": "True",
           "hovertemplate": "Season=%{x}<br>Ticker=CRWD<br>Average Close Price=%{y}<extra></extra>",
           "legendgroup": "Avg Close Fall",
           "marker": {
            "color": "#ab63fa",
            "pattern": {
             "shape": ""
            }
           },
           "name": "Avg Close Fall",
           "offsetgroup": "Avg Close Fall",
           "orientation": "v",
           "showlegend": true,
           "textposition": "auto",
           "type": "bar",
           "x": [
            "Avg Close Fall"
           ],
           "xaxis": "x",
           "y": [
            188.54609934821804
           ],
           "yaxis": "y"
          }
         ],
         "name": "CRWD"
        },
        {
         "data": [
          {
           "alignmentgroup": "True",
           "hovertemplate": "Season=%{x}<br>Ticker=CSCO<br>Average Close Price=%{y}<extra></extra>",
           "legendgroup": "Avg Close Winter",
           "marker": {
            "color": "#636efa",
            "pattern": {
             "shape": ""
            }
           },
           "name": "Avg Close Winter",
           "offsetgroup": "Avg Close Winter",
           "orientation": "v",
           "showlegend": true,
           "textposition": "auto",
           "type": "bar",
           "x": [
            "Avg Close Winter"
           ],
           "xaxis": "x",
           "y": [
            30.985803174972535
           ],
           "yaxis": "y"
          },
          {
           "alignmentgroup": "True",
           "hovertemplate": "Season=%{x}<br>Ticker=CSCO<br>Average Close Price=%{y}<extra></extra>",
           "legendgroup": "Avg Close Spring",
           "marker": {
            "color": "#EF553B",
            "pattern": {
             "shape": ""
            }
           },
           "name": "Avg Close Spring",
           "offsetgroup": "Avg Close Spring",
           "orientation": "v",
           "showlegend": true,
           "textposition": "auto",
           "type": "bar",
           "x": [
            "Avg Close Spring"
           ],
           "xaxis": "x",
           "y": [
            29.643831499450876
           ],
           "yaxis": "y"
          },
          {
           "alignmentgroup": "True",
           "hovertemplate": "Season=%{x}<br>Ticker=CSCO<br>Average Close Price=%{y}<extra></extra>",
           "legendgroup": "Avg Close Summer",
           "marker": {
            "color": "#00cc96",
            "pattern": {
             "shape": ""
            }
           },
           "name": "Avg Close Summer",
           "offsetgroup": "Avg Close Summer",
           "orientation": "v",
           "showlegend": true,
           "textposition": "auto",
           "type": "bar",
           "x": [
            "Avg Close Summer"
           ],
           "xaxis": "x",
           "y": [
            29.881145330652533
           ],
           "yaxis": "y"
          },
          {
           "alignmentgroup": "True",
           "hovertemplate": "Season=%{x}<br>Ticker=CSCO<br>Average Close Price=%{y}<extra></extra>",
           "legendgroup": "Avg Close Fall",
           "marker": {
            "color": "#ab63fa",
            "pattern": {
             "shape": ""
            }
           },
           "name": "Avg Close Fall",
           "offsetgroup": "Avg Close Fall",
           "orientation": "v",
           "showlegend": true,
           "textposition": "auto",
           "type": "bar",
           "x": [
            "Avg Close Fall"
           ],
           "xaxis": "x",
           "y": [
            30.461883687171618
           ],
           "yaxis": "y"
          }
         ],
         "name": "CSCO"
        },
        {
         "data": [
          {
           "alignmentgroup": "True",
           "hovertemplate": "Season=%{x}<br>Ticker=CVX<br>Average Close Price=%{y}<extra></extra>",
           "legendgroup": "Avg Close Winter",
           "marker": {
            "color": "#636efa",
            "pattern": {
             "shape": ""
            }
           },
           "name": "Avg Close Winter",
           "offsetgroup": "Avg Close Winter",
           "orientation": "v",
           "showlegend": true,
           "textposition": "auto",
           "type": "bar",
           "x": [
            "Avg Close Winter"
           ],
           "xaxis": "x",
           "y": [
            89.40460993319141
           ],
           "yaxis": "y"
          },
          {
           "alignmentgroup": "True",
           "hovertemplate": "Season=%{x}<br>Ticker=CVX<br>Average Close Price=%{y}<extra></extra>",
           "legendgroup": "Avg Close Spring",
           "marker": {
            "color": "#EF553B",
            "pattern": {
             "shape": ""
            }
           },
           "name": "Avg Close Spring",
           "offsetgroup": "Avg Close Spring",
           "orientation": "v",
           "showlegend": true,
           "textposition": "auto",
           "type": "bar",
           "x": [
            "Avg Close Spring"
           ],
           "xaxis": "x",
           "y": [
            88.80948409475542
           ],
           "yaxis": "y"
          },
          {
           "alignmentgroup": "True",
           "hovertemplate": "Season=%{x}<br>Ticker=CVX<br>Average Close Price=%{y}<extra></extra>",
           "legendgroup": "Avg Close Summer",
           "marker": {
            "color": "#00cc96",
            "pattern": {
             "shape": ""
            }
           },
           "name": "Avg Close Summer",
           "offsetgroup": "Avg Close Summer",
           "orientation": "v",
           "showlegend": true,
           "textposition": "auto",
           "type": "bar",
           "x": [
            "Avg Close Summer"
           ],
           "xaxis": "x",
           "y": [
            86.78025825053578
           ],
           "yaxis": "y"
          },
          {
           "alignmentgroup": "True",
           "hovertemplate": "Season=%{x}<br>Ticker=CVX<br>Average Close Price=%{y}<extra></extra>",
           "legendgroup": "Avg Close Fall",
           "marker": {
            "color": "#ab63fa",
            "pattern": {
             "shape": ""
            }
           },
           "name": "Avg Close Fall",
           "offsetgroup": "Avg Close Fall",
           "orientation": "v",
           "showlegend": true,
           "textposition": "auto",
           "type": "bar",
           "x": [
            "Avg Close Fall"
           ],
           "xaxis": "x",
           "y": [
            89.51535738215728
           ],
           "yaxis": "y"
          }
         ],
         "name": "CVX"
        },
        {
         "data": [
          {
           "alignmentgroup": "True",
           "hovertemplate": "Season=%{x}<br>Ticker=DE<br>Average Close Price=%{y}<extra></extra>",
           "legendgroup": "Avg Close Winter",
           "marker": {
            "color": "#636efa",
            "pattern": {
             "shape": ""
            }
           },
           "name": "Avg Close Winter",
           "offsetgroup": "Avg Close Winter",
           "orientation": "v",
           "showlegend": true,
           "textposition": "auto",
           "type": "bar",
           "x": [
            "Avg Close Winter"
           ],
           "xaxis": "x",
           "y": [
            181.94929160293268
           ],
           "yaxis": "y"
          },
          {
           "alignmentgroup": "True",
           "hovertemplate": "Season=%{x}<br>Ticker=DE<br>Average Close Price=%{y}<extra></extra>",
           "legendgroup": "Avg Close Spring",
           "marker": {
            "color": "#EF553B",
            "pattern": {
             "shape": ""
            }
           },
           "name": "Avg Close Spring",
           "offsetgroup": "Avg Close Spring",
           "orientation": "v",
           "showlegend": true,
           "textposition": "auto",
           "type": "bar",
           "x": [
            "Avg Close Spring"
           ],
           "xaxis": "x",
           "y": [
            164.5140249539619
           ],
           "yaxis": "y"
          },
          {
           "alignmentgroup": "True",
           "hovertemplate": "Season=%{x}<br>Ticker=DE<br>Average Close Price=%{y}<extra></extra>",
           "legendgroup": "Avg Close Summer",
           "marker": {
            "color": "#00cc96",
            "pattern": {
             "shape": ""
            }
           },
           "name": "Avg Close Summer",
           "offsetgroup": "Avg Close Summer",
           "orientation": "v",
           "showlegend": true,
           "textposition": "auto",
           "type": "bar",
           "x": [
            "Avg Close Summer"
           ],
           "xaxis": "x",
           "y": [
            164.40394189267977
           ],
           "yaxis": "y"
          },
          {
           "alignmentgroup": "True",
           "hovertemplate": "Season=%{x}<br>Ticker=DE<br>Average Close Price=%{y}<extra></extra>",
           "legendgroup": "Avg Close Fall",
           "marker": {
            "color": "#ab63fa",
            "pattern": {
             "shape": ""
            }
           },
           "name": "Avg Close Fall",
           "offsetgroup": "Avg Close Fall",
           "orientation": "v",
           "showlegend": true,
           "textposition": "auto",
           "type": "bar",
           "x": [
            "Avg Close Fall"
           ],
           "xaxis": "x",
           "y": [
            175.6891454768782
           ],
           "yaxis": "y"
          }
         ],
         "name": "DE"
        },
        {
         "data": [
          {
           "alignmentgroup": "True",
           "hovertemplate": "Season=%{x}<br>Ticker=DHR<br>Average Close Price=%{y}<extra></extra>",
           "legendgroup": "Avg Close Winter",
           "marker": {
            "color": "#636efa",
            "pattern": {
             "shape": ""
            }
           },
           "name": "Avg Close Winter",
           "offsetgroup": "Avg Close Winter",
           "orientation": "v",
           "showlegend": true,
           "textposition": "auto",
           "type": "bar",
           "x": [
            "Avg Close Winter"
           ],
           "xaxis": "x",
           "y": [
            106.57804983489368
           ],
           "yaxis": "y"
          },
          {
           "alignmentgroup": "True",
           "hovertemplate": "Season=%{x}<br>Ticker=DHR<br>Average Close Price=%{y}<extra></extra>",
           "legendgroup": "Avg Close Spring",
           "marker": {
            "color": "#EF553B",
            "pattern": {
             "shape": ""
            }
           },
           "name": "Avg Close Spring",
           "offsetgroup": "Avg Close Spring",
           "orientation": "v",
           "showlegend": true,
           "textposition": "auto",
           "type": "bar",
           "x": [
            "Avg Close Spring"
           ],
           "xaxis": "x",
           "y": [
            101.35599076298988
           ],
           "yaxis": "y"
          },
          {
           "alignmentgroup": "True",
           "hovertemplate": "Season=%{x}<br>Ticker=DHR<br>Average Close Price=%{y}<extra></extra>",
           "legendgroup": "Avg Close Summer",
           "marker": {
            "color": "#00cc96",
            "pattern": {
             "shape": ""
            }
           },
           "name": "Avg Close Summer",
           "offsetgroup": "Avg Close Summer",
           "orientation": "v",
           "showlegend": true,
           "textposition": "auto",
           "type": "bar",
           "x": [
            "Avg Close Summer"
           ],
           "xaxis": "x",
           "y": [
            111.39486690644938
           ],
           "yaxis": "y"
          },
          {
           "alignmentgroup": "True",
           "hovertemplate": "Season=%{x}<br>Ticker=DHR<br>Average Close Price=%{y}<extra></extra>",
           "legendgroup": "Avg Close Fall",
           "marker": {
            "color": "#ab63fa",
            "pattern": {
             "shape": ""
            }
           },
           "name": "Avg Close Fall",
           "offsetgroup": "Avg Close Fall",
           "orientation": "v",
           "showlegend": true,
           "textposition": "auto",
           "type": "bar",
           "x": [
            "Avg Close Fall"
           ],
           "xaxis": "x",
           "y": [
            111.58149082921132
           ],
           "yaxis": "y"
          }
         ],
         "name": "DHR"
        },
        {
         "data": [
          {
           "alignmentgroup": "True",
           "hovertemplate": "Season=%{x}<br>Ticker=DIS<br>Average Close Price=%{y}<extra></extra>",
           "legendgroup": "Avg Close Winter",
           "marker": {
            "color": "#636efa",
            "pattern": {
             "shape": ""
            }
           },
           "name": "Avg Close Winter",
           "offsetgroup": "Avg Close Winter",
           "orientation": "v",
           "showlegend": true,
           "textposition": "auto",
           "type": "bar",
           "x": [
            "Avg Close Winter"
           ],
           "xaxis": "x",
           "y": [
            92.37906797370132
           ],
           "yaxis": "y"
          },
          {
           "alignmentgroup": "True",
           "hovertemplate": "Season=%{x}<br>Ticker=DIS<br>Average Close Price=%{y}<extra></extra>",
           "legendgroup": "Avg Close Spring",
           "marker": {
            "color": "#EF553B",
            "pattern": {
             "shape": ""
            }
           },
           "name": "Avg Close Spring",
           "offsetgroup": "Avg Close Spring",
           "orientation": "v",
           "showlegend": true,
           "textposition": "auto",
           "type": "bar",
           "x": [
            "Avg Close Spring"
           ],
           "xaxis": "x",
           "y": [
            90.4566541496181
           ],
           "yaxis": "y"
          },
          {
           "alignmentgroup": "True",
           "hovertemplate": "Season=%{x}<br>Ticker=DIS<br>Average Close Price=%{y}<extra></extra>",
           "legendgroup": "Avg Close Summer",
           "marker": {
            "color": "#00cc96",
            "pattern": {
             "shape": ""
            }
           },
           "name": "Avg Close Summer",
           "offsetgroup": "Avg Close Summer",
           "orientation": "v",
           "showlegend": true,
           "textposition": "auto",
           "type": "bar",
           "x": [
            "Avg Close Summer"
           ],
           "xaxis": "x",
           "y": [
            90.33616208631123
           ],
           "yaxis": "y"
          },
          {
           "alignmentgroup": "True",
           "hovertemplate": "Season=%{x}<br>Ticker=DIS<br>Average Close Price=%{y}<extra></extra>",
           "legendgroup": "Avg Close Fall",
           "marker": {
            "color": "#ab63fa",
            "pattern": {
             "shape": ""
            }
           },
           "name": "Avg Close Fall",
           "offsetgroup": "Avg Close Fall",
           "orientation": "v",
           "showlegend": true,
           "textposition": "auto",
           "type": "bar",
           "x": [
            "Avg Close Fall"
           ],
           "xaxis": "x",
           "y": [
            92.09427354916804
           ],
           "yaxis": "y"
          }
         ],
         "name": "DIS"
        },
        {
         "data": [
          {
           "alignmentgroup": "True",
           "hovertemplate": "Season=%{x}<br>Ticker=ELV<br>Average Close Price=%{y}<extra></extra>",
           "legendgroup": "Avg Close Winter",
           "marker": {
            "color": "#636efa",
            "pattern": {
             "shape": ""
            }
           },
           "name": "Avg Close Winter",
           "offsetgroup": "Avg Close Winter",
           "orientation": "v",
           "showlegend": true,
           "textposition": "auto",
           "type": "bar",
           "x": [
            "Avg Close Winter"
           ],
           "xaxis": "x",
           "y": [
            219.42860397416715
           ],
           "yaxis": "y"
          },
          {
           "alignmentgroup": "True",
           "hovertemplate": "Season=%{x}<br>Ticker=ELV<br>Average Close Price=%{y}<extra></extra>",
           "legendgroup": "Avg Close Spring",
           "marker": {
            "color": "#EF553B",
            "pattern": {
             "shape": ""
            }
           },
           "name": "Avg Close Spring",
           "offsetgroup": "Avg Close Spring",
           "orientation": "v",
           "showlegend": true,
           "textposition": "auto",
           "type": "bar",
           "x": [
            "Avg Close Spring"
           ],
           "xaxis": "x",
           "y": [
            219.31604463186224
           ],
           "yaxis": "y"
          },
          {
           "alignmentgroup": "True",
           "hovertemplate": "Season=%{x}<br>Ticker=ELV<br>Average Close Price=%{y}<extra></extra>",
           "legendgroup": "Avg Close Summer",
           "marker": {
            "color": "#00cc96",
            "pattern": {
             "shape": ""
            }
           },
           "name": "Avg Close Summer",
           "offsetgroup": "Avg Close Summer",
           "orientation": "v",
           "showlegend": true,
           "textposition": "auto",
           "type": "bar",
           "x": [
            "Avg Close Summer"
           ],
           "xaxis": "x",
           "y": [
            218.8340147529187
           ],
           "yaxis": "y"
          },
          {
           "alignmentgroup": "True",
           "hovertemplate": "Season=%{x}<br>Ticker=ELV<br>Average Close Price=%{y}<extra></extra>",
           "legendgroup": "Avg Close Fall",
           "marker": {
            "color": "#ab63fa",
            "pattern": {
             "shape": ""
            }
           },
           "name": "Avg Close Fall",
           "offsetgroup": "Avg Close Fall",
           "orientation": "v",
           "showlegend": true,
           "textposition": "auto",
           "type": "bar",
           "x": [
            "Avg Close Fall"
           ],
           "xaxis": "x",
           "y": [
            222.42269784863257
           ],
           "yaxis": "y"
          }
         ],
         "name": "ELV"
        },
        {
         "data": [
          {
           "alignmentgroup": "True",
           "hovertemplate": "Season=%{x}<br>Ticker=ETN<br>Average Close Price=%{y}<extra></extra>",
           "legendgroup": "Avg Close Winter",
           "marker": {
            "color": "#636efa",
            "pattern": {
             "shape": ""
            }
           },
           "name": "Avg Close Winter",
           "offsetgroup": "Avg Close Winter",
           "orientation": "v",
           "showlegend": true,
           "textposition": "auto",
           "type": "bar",
           "x": [
            "Avg Close Winter"
           ],
           "xaxis": "x",
           "y": [
            99.02167661044062
           ],
           "yaxis": "y"
          },
          {
           "alignmentgroup": "True",
           "hovertemplate": "Season=%{x}<br>Ticker=ETN<br>Average Close Price=%{y}<extra></extra>",
           "legendgroup": "Avg Close Spring",
           "marker": {
            "color": "#EF553B",
            "pattern": {
             "shape": ""
            }
           },
           "name": "Avg Close Spring",
           "offsetgroup": "Avg Close Spring",
           "orientation": "v",
           "showlegend": true,
           "textposition": "auto",
           "type": "bar",
           "x": [
            "Avg Close Spring"
           ],
           "xaxis": "x",
           "y": [
            91.27944098955416
           ],
           "yaxis": "y"
          },
          {
           "alignmentgroup": "True",
           "hovertemplate": "Season=%{x}<br>Ticker=ETN<br>Average Close Price=%{y}<extra></extra>",
           "legendgroup": "Avg Close Summer",
           "marker": {
            "color": "#00cc96",
            "pattern": {
             "shape": ""
            }
           },
           "name": "Avg Close Summer",
           "offsetgroup": "Avg Close Summer",
           "orientation": "v",
           "showlegend": true,
           "textposition": "auto",
           "type": "bar",
           "x": [
            "Avg Close Summer"
           ],
           "xaxis": "x",
           "y": [
            93.03270104140915
           ],
           "yaxis": "y"
          },
          {
           "alignmentgroup": "True",
           "hovertemplate": "Season=%{x}<br>Ticker=ETN<br>Average Close Price=%{y}<extra></extra>",
           "legendgroup": "Avg Close Fall",
           "marker": {
            "color": "#ab63fa",
            "pattern": {
             "shape": ""
            }
           },
           "name": "Avg Close Fall",
           "offsetgroup": "Avg Close Fall",
           "orientation": "v",
           "showlegend": true,
           "textposition": "auto",
           "type": "bar",
           "x": [
            "Avg Close Fall"
           ],
           "xaxis": "x",
           "y": [
            99.82270917171188
           ],
           "yaxis": "y"
          }
         ],
         "name": "ETN"
        },
        {
         "data": [
          {
           "alignmentgroup": "True",
           "hovertemplate": "Season=%{x}<br>Ticker=FI<br>Average Close Price=%{y}<extra></extra>",
           "legendgroup": "Avg Close Winter",
           "marker": {
            "color": "#636efa",
            "pattern": {
             "shape": ""
            }
           },
           "name": "Avg Close Winter",
           "offsetgroup": "Avg Close Winter",
           "orientation": "v",
           "showlegend": true,
           "textposition": "auto",
           "type": "bar",
           "x": [
            "Avg Close Winter"
           ],
           "xaxis": "x",
           "y": [
            74.18339784777895
           ],
           "yaxis": "y"
          },
          {
           "alignmentgroup": "True",
           "hovertemplate": "Season=%{x}<br>Ticker=FI<br>Average Close Price=%{y}<extra></extra>",
           "legendgroup": "Avg Close Spring",
           "marker": {
            "color": "#EF553B",
            "pattern": {
             "shape": ""
            }
           },
           "name": "Avg Close Spring",
           "offsetgroup": "Avg Close Spring",
           "orientation": "v",
           "showlegend": true,
           "textposition": "auto",
           "type": "bar",
           "x": [
            "Avg Close Spring"
           ],
           "xaxis": "x",
           "y": [
            67.50149848271613
           ],
           "yaxis": "y"
          },
          {
           "alignmentgroup": "True",
           "hovertemplate": "Season=%{x}<br>Ticker=FI<br>Average Close Price=%{y}<extra></extra>",
           "legendgroup": "Avg Close Summer",
           "marker": {
            "color": "#00cc96",
            "pattern": {
             "shape": ""
            }
           },
           "name": "Avg Close Summer",
           "offsetgroup": "Avg Close Summer",
           "orientation": "v",
           "showlegend": true,
           "textposition": "auto",
           "type": "bar",
           "x": [
            "Avg Close Summer"
           ],
           "xaxis": "x",
           "y": [
            69.33060416816168
           ],
           "yaxis": "y"
          },
          {
           "alignmentgroup": "True",
           "hovertemplate": "Season=%{x}<br>Ticker=FI<br>Average Close Price=%{y}<extra></extra>",
           "legendgroup": "Avg Close Fall",
           "marker": {
            "color": "#ab63fa",
            "pattern": {
             "shape": ""
            }
           },
           "name": "Avg Close Fall",
           "offsetgroup": "Avg Close Fall",
           "orientation": "v",
           "showlegend": true,
           "textposition": "auto",
           "type": "bar",
           "x": [
            "Avg Close Fall"
           ],
           "xaxis": "x",
           "y": [
            73.24702725390426
           ],
           "yaxis": "y"
          }
         ],
         "name": "FI"
        },
        {
         "data": [
          {
           "alignmentgroup": "True",
           "hovertemplate": "Season=%{x}<br>Ticker=GE<br>Average Close Price=%{y}<extra></extra>",
           "legendgroup": "Avg Close Winter",
           "marker": {
            "color": "#636efa",
            "pattern": {
             "shape": ""
            }
           },
           "name": "Avg Close Winter",
           "offsetgroup": "Avg Close Winter",
           "orientation": "v",
           "showlegend": true,
           "textposition": "auto",
           "type": "bar",
           "x": [
            "Avg Close Winter"
           ],
           "xaxis": "x",
           "y": [
            88.44546235337549
           ],
           "yaxis": "y"
          },
          {
           "alignmentgroup": "True",
           "hovertemplate": "Season=%{x}<br>Ticker=GE<br>Average Close Price=%{y}<extra></extra>",
           "legendgroup": "Avg Close Spring",
           "marker": {
            "color": "#EF553B",
            "pattern": {
             "shape": ""
            }
           },
           "name": "Avg Close Spring",
           "offsetgroup": "Avg Close Spring",
           "orientation": "v",
           "showlegend": true,
           "textposition": "auto",
           "type": "bar",
           "x": [
            "Avg Close Spring"
           ],
           "xaxis": "x",
           "y": [
            85.46112244697794
           ],
           "yaxis": "y"
          },
          {
           "alignmentgroup": "True",
           "hovertemplate": "Season=%{x}<br>Ticker=GE<br>Average Close Price=%{y}<extra></extra>",
           "legendgroup": "Avg Close Summer",
           "marker": {
            "color": "#00cc96",
            "pattern": {
             "shape": ""
            }
           },
           "name": "Avg Close Summer",
           "offsetgroup": "Avg Close Summer",
           "orientation": "v",
           "showlegend": true,
           "textposition": "auto",
           "type": "bar",
           "x": [
            "Avg Close Summer"
           ],
           "xaxis": "x",
           "y": [
            83.27160569913218
           ],
           "yaxis": "y"
          },
          {
           "alignmentgroup": "True",
           "hovertemplate": "Season=%{x}<br>Ticker=GE<br>Average Close Price=%{y}<extra></extra>",
           "legendgroup": "Avg Close Fall",
           "marker": {
            "color": "#ab63fa",
            "pattern": {
             "shape": ""
            }
           },
           "name": "Avg Close Fall",
           "offsetgroup": "Avg Close Fall",
           "orientation": "v",
           "showlegend": true,
           "textposition": "auto",
           "type": "bar",
           "x": [
            "Avg Close Fall"
           ],
           "xaxis": "x",
           "y": [
            85.03152644133367
           ],
           "yaxis": "y"
          }
         ],
         "name": "GE"
        },
        {
         "data": [
          {
           "alignmentgroup": "True",
           "hovertemplate": "Season=%{x}<br>Ticker=GILD<br>Average Close Price=%{y}<extra></extra>",
           "legendgroup": "Avg Close Winter",
           "marker": {
            "color": "#636efa",
            "pattern": {
             "shape": ""
            }
           },
           "name": "Avg Close Winter",
           "offsetgroup": "Avg Close Winter",
           "orientation": "v",
           "showlegend": true,
           "textposition": "auto",
           "type": "bar",
           "x": [
            "Avg Close Winter"
           ],
           "xaxis": "x",
           "y": [
            53.20145323227863
           ],
           "yaxis": "y"
          },
          {
           "alignmentgroup": "True",
           "hovertemplate": "Season=%{x}<br>Ticker=GILD<br>Average Close Price=%{y}<extra></extra>",
           "legendgroup": "Avg Close Spring",
           "marker": {
            "color": "#EF553B",
            "pattern": {
             "shape": ""
            }
           },
           "name": "Avg Close Spring",
           "offsetgroup": "Avg Close Spring",
           "orientation": "v",
           "showlegend": true,
           "textposition": "auto",
           "type": "bar",
           "x": [
            "Avg Close Spring"
           ],
           "xaxis": "x",
           "y": [
            50.45441569044999
           ],
           "yaxis": "y"
          },
          {
           "alignmentgroup": "True",
           "hovertemplate": "Season=%{x}<br>Ticker=GILD<br>Average Close Price=%{y}<extra></extra>",
           "legendgroup": "Avg Close Summer",
           "marker": {
            "color": "#00cc96",
            "pattern": {
             "shape": ""
            }
           },
           "name": "Avg Close Summer",
           "offsetgroup": "Avg Close Summer",
           "orientation": "v",
           "showlegend": true,
           "textposition": "auto",
           "type": "bar",
           "x": [
            "Avg Close Summer"
           ],
           "xaxis": "x",
           "y": [
            52.350979527668976
           ],
           "yaxis": "y"
          },
          {
           "alignmentgroup": "True",
           "hovertemplate": "Season=%{x}<br>Ticker=GILD<br>Average Close Price=%{y}<extra></extra>",
           "legendgroup": "Avg Close Fall",
           "marker": {
            "color": "#ab63fa",
            "pattern": {
             "shape": ""
            }
           },
           "name": "Avg Close Fall",
           "offsetgroup": "Avg Close Fall",
           "orientation": "v",
           "showlegend": true,
           "textposition": "auto",
           "type": "bar",
           "x": [
            "Avg Close Fall"
           ],
           "xaxis": "x",
           "y": [
            54.252281828086915
           ],
           "yaxis": "y"
          }
         ],
         "name": "GILD"
        },
        {
         "data": [
          {
           "alignmentgroup": "True",
           "hovertemplate": "Season=%{x}<br>Ticker=GOOG<br>Average Close Price=%{y}<extra></extra>",
           "legendgroup": "Avg Close Winter",
           "marker": {
            "color": "#636efa",
            "pattern": {
             "shape": ""
            }
           },
           "name": "Avg Close Winter",
           "offsetgroup": "Avg Close Winter",
           "orientation": "v",
           "showlegend": true,
           "textposition": "auto",
           "type": "bar",
           "x": [
            "Avg Close Winter"
           ],
           "xaxis": "x",
           "y": [
            64.32136807052457
           ],
           "yaxis": "y"
          },
          {
           "alignmentgroup": "True",
           "hovertemplate": "Season=%{x}<br>Ticker=GOOG<br>Average Close Price=%{y}<extra></extra>",
           "legendgroup": "Avg Close Spring",
           "marker": {
            "color": "#EF553B",
            "pattern": {
             "shape": ""
            }
           },
           "name": "Avg Close Spring",
           "offsetgroup": "Avg Close Spring",
           "orientation": "v",
           "showlegend": true,
           "textposition": "auto",
           "type": "bar",
           "x": [
            "Avg Close Spring"
           ],
           "xaxis": "x",
           "y": [
            60.527319181913114
           ],
           "yaxis": "y"
          },
          {
           "alignmentgroup": "True",
           "hovertemplate": "Season=%{x}<br>Ticker=GOOG<br>Average Close Price=%{y}<extra></extra>",
           "legendgroup": "Avg Close Summer",
           "marker": {
            "color": "#00cc96",
            "pattern": {
             "shape": ""
            }
           },
           "name": "Avg Close Summer",
           "offsetgroup": "Avg Close Summer",
           "orientation": "v",
           "showlegend": true,
           "textposition": "auto",
           "type": "bar",
           "x": [
            "Avg Close Summer"
           ],
           "xaxis": "x",
           "y": [
            63.221671598226955
           ],
           "yaxis": "y"
          },
          {
           "alignmentgroup": "True",
           "hovertemplate": "Season=%{x}<br>Ticker=GOOG<br>Average Close Price=%{y}<extra></extra>",
           "legendgroup": "Avg Close Fall",
           "marker": {
            "color": "#ab63fa",
            "pattern": {
             "shape": ""
            }
           },
           "name": "Avg Close Fall",
           "offsetgroup": "Avg Close Fall",
           "orientation": "v",
           "showlegend": true,
           "textposition": "auto",
           "type": "bar",
           "x": [
            "Avg Close Fall"
           ],
           "xaxis": "x",
           "y": [
            65.1173597914832
           ],
           "yaxis": "y"
          }
         ],
         "name": "GOOG"
        },
        {
         "data": [
          {
           "alignmentgroup": "True",
           "hovertemplate": "Season=%{x}<br>Ticker=GOOGL<br>Average Close Price=%{y}<extra></extra>",
           "legendgroup": "Avg Close Winter",
           "marker": {
            "color": "#636efa",
            "pattern": {
             "shape": ""
            }
           },
           "name": "Avg Close Winter",
           "offsetgroup": "Avg Close Winter",
           "orientation": "v",
           "showlegend": true,
           "textposition": "auto",
           "type": "bar",
           "x": [
            "Avg Close Winter"
           ],
           "xaxis": "x",
           "y": [
            64.25514534930794
           ],
           "yaxis": "y"
          },
          {
           "alignmentgroup": "True",
           "hovertemplate": "Season=%{x}<br>Ticker=GOOGL<br>Average Close Price=%{y}<extra></extra>",
           "legendgroup": "Avg Close Spring",
           "marker": {
            "color": "#EF553B",
            "pattern": {
             "shape": ""
            }
           },
           "name": "Avg Close Spring",
           "offsetgroup": "Avg Close Spring",
           "orientation": "v",
           "showlegend": true,
           "textposition": "auto",
           "type": "bar",
           "x": [
            "Avg Close Spring"
           ],
           "xaxis": "x",
           "y": [
            60.42228876197687
           ],
           "yaxis": "y"
          },
          {
           "alignmentgroup": "True",
           "hovertemplate": "Season=%{x}<br>Ticker=GOOGL<br>Average Close Price=%{y}<extra></extra>",
           "legendgroup": "Avg Close Summer",
           "marker": {
            "color": "#00cc96",
            "pattern": {
             "shape": ""
            }
           },
           "name": "Avg Close Summer",
           "offsetgroup": "Avg Close Summer",
           "orientation": "v",
           "showlegend": true,
           "textposition": "auto",
           "type": "bar",
           "x": [
            "Avg Close Summer"
           ],
           "xaxis": "x",
           "y": [
            63.228440998987175
           ],
           "yaxis": "y"
          },
          {
           "alignmentgroup": "True",
           "hovertemplate": "Season=%{x}<br>Ticker=GOOGL<br>Average Close Price=%{y}<extra></extra>",
           "legendgroup": "Avg Close Fall",
           "marker": {
            "color": "#ab63fa",
            "pattern": {
             "shape": ""
            }
           },
           "name": "Avg Close Fall",
           "offsetgroup": "Avg Close Fall",
           "orientation": "v",
           "showlegend": true,
           "textposition": "auto",
           "type": "bar",
           "x": [
            "Avg Close Fall"
           ],
           "xaxis": "x",
           "y": [
            65.12670054756293
           ],
           "yaxis": "y"
          }
         ],
         "name": "GOOGL"
        },
        {
         "data": [
          {
           "alignmentgroup": "True",
           "hovertemplate": "Season=%{x}<br>Ticker=GS<br>Average Close Price=%{y}<extra></extra>",
           "legendgroup": "Avg Close Winter",
           "marker": {
            "color": "#636efa",
            "pattern": {
             "shape": ""
            }
           },
           "name": "Avg Close Winter",
           "offsetgroup": "Avg Close Winter",
           "orientation": "v",
           "showlegend": true,
           "textposition": "auto",
           "type": "bar",
           "x": [
            "Avg Close Winter"
           ],
           "xaxis": "x",
           "y": [
            222.5695259561344
           ],
           "yaxis": "y"
          },
          {
           "alignmentgroup": "True",
           "hovertemplate": "Season=%{x}<br>Ticker=GS<br>Average Close Price=%{y}<extra></extra>",
           "legendgroup": "Avg Close Spring",
           "marker": {
            "color": "#EF553B",
            "pattern": {
             "shape": ""
            }
           },
           "name": "Avg Close Spring",
           "offsetgroup": "Avg Close Spring",
           "orientation": "v",
           "showlegend": true,
           "textposition": "auto",
           "type": "bar",
           "x": [
            "Avg Close Spring"
           ],
           "xaxis": "x",
           "y": [
            199.01382053646583
           ],
           "yaxis": "y"
          },
          {
           "alignmentgroup": "True",
           "hovertemplate": "Season=%{x}<br>Ticker=GS<br>Average Close Price=%{y}<extra></extra>",
           "legendgroup": "Avg Close Summer",
           "marker": {
            "color": "#00cc96",
            "pattern": {
             "shape": ""
            }
           },
           "name": "Avg Close Summer",
           "offsetgroup": "Avg Close Summer",
           "orientation": "v",
           "showlegend": true,
           "textposition": "auto",
           "type": "bar",
           "x": [
            "Avg Close Summer"
           ],
           "xaxis": "x",
           "y": [
            204.69653337869684
           ],
           "yaxis": "y"
          },
          {
           "alignmentgroup": "True",
           "hovertemplate": "Season=%{x}<br>Ticker=GS<br>Average Close Price=%{y}<extra></extra>",
           "legendgroup": "Avg Close Fall",
           "marker": {
            "color": "#ab63fa",
            "pattern": {
             "shape": ""
            }
           },
           "name": "Avg Close Fall",
           "offsetgroup": "Avg Close Fall",
           "orientation": "v",
           "showlegend": true,
           "textposition": "auto",
           "type": "bar",
           "x": [
            "Avg Close Fall"
           ],
           "xaxis": "x",
           "y": [
            216.48007534732335
           ],
           "yaxis": "y"
          }
         ],
         "name": "GS"
        },
        {
         "data": [
          {
           "alignmentgroup": "True",
           "hovertemplate": "Season=%{x}<br>Ticker=HD<br>Average Close Price=%{y}<extra></extra>",
           "legendgroup": "Avg Close Winter",
           "marker": {
            "color": "#636efa",
            "pattern": {
             "shape": ""
            }
           },
           "name": "Avg Close Winter",
           "offsetgroup": "Avg Close Winter",
           "orientation": "v",
           "showlegend": true,
           "textposition": "auto",
           "type": "bar",
           "x": [
            "Avg Close Winter"
           ],
           "xaxis": "x",
           "y": [
            162.85491924480516
           ],
           "yaxis": "y"
          },
          {
           "alignmentgroup": "True",
           "hovertemplate": "Season=%{x}<br>Ticker=HD<br>Average Close Price=%{y}<extra></extra>",
           "legendgroup": "Avg Close Spring",
           "marker": {
            "color": "#EF553B",
            "pattern": {
             "shape": ""
            }
           },
           "name": "Avg Close Spring",
           "offsetgroup": "Avg Close Spring",
           "orientation": "v",
           "showlegend": true,
           "textposition": "auto",
           "type": "bar",
           "x": [
            "Avg Close Spring"
           ],
           "xaxis": "x",
           "y": [
            151.10507693949106
           ],
           "yaxis": "y"
          },
          {
           "alignmentgroup": "True",
           "hovertemplate": "Season=%{x}<br>Ticker=HD<br>Average Close Price=%{y}<extra></extra>",
           "legendgroup": "Avg Close Summer",
           "marker": {
            "color": "#00cc96",
            "pattern": {
             "shape": ""
            }
           },
           "name": "Avg Close Summer",
           "offsetgroup": "Avg Close Summer",
           "orientation": "v",
           "showlegend": true,
           "textposition": "auto",
           "type": "bar",
           "x": [
            "Avg Close Summer"
           ],
           "xaxis": "x",
           "y": [
            159.12111762777033
           ],
           "yaxis": "y"
          },
          {
           "alignmentgroup": "True",
           "hovertemplate": "Season=%{x}<br>Ticker=HD<br>Average Close Price=%{y}<extra></extra>",
           "legendgroup": "Avg Close Fall",
           "marker": {
            "color": "#ab63fa",
            "pattern": {
             "shape": ""
            }
           },
           "name": "Avg Close Fall",
           "offsetgroup": "Avg Close Fall",
           "orientation": "v",
           "showlegend": true,
           "textposition": "auto",
           "type": "bar",
           "x": [
            "Avg Close Fall"
           ],
           "xaxis": "x",
           "y": [
            168.47177253651017
           ],
           "yaxis": "y"
          }
         ],
         "name": "HD"
        },
        {
         "data": [
          {
           "alignmentgroup": "True",
           "hovertemplate": "Season=%{x}<br>Ticker=HON<br>Average Close Price=%{y}<extra></extra>",
           "legendgroup": "Avg Close Winter",
           "marker": {
            "color": "#636efa",
            "pattern": {
             "shape": ""
            }
           },
           "name": "Avg Close Winter",
           "offsetgroup": "Avg Close Winter",
           "orientation": "v",
           "showlegend": true,
           "textposition": "auto",
           "type": "bar",
           "x": [
            "Avg Close Winter"
           ],
           "xaxis": "x",
           "y": [
            116.89497041896898
           ],
           "yaxis": "y"
          },
          {
           "alignmentgroup": "True",
           "hovertemplate": "Season=%{x}<br>Ticker=HON<br>Average Close Price=%{y}<extra></extra>",
           "legendgroup": "Avg Close Spring",
           "marker": {
            "color": "#EF553B",
            "pattern": {
             "shape": ""
            }
           },
           "name": "Avg Close Spring",
           "offsetgroup": "Avg Close Spring",
           "orientation": "v",
           "showlegend": true,
           "textposition": "auto",
           "type": "bar",
           "x": [
            "Avg Close Spring"
           ],
           "xaxis": "x",
           "y": [
            113.55025003744468
           ],
           "yaxis": "y"
          },
          {
           "alignmentgroup": "True",
           "hovertemplate": "Season=%{x}<br>Ticker=HON<br>Average Close Price=%{y}<extra></extra>",
           "legendgroup": "Avg Close Summer",
           "marker": {
            "color": "#00cc96",
            "pattern": {
             "shape": ""
            }
           },
           "name": "Avg Close Summer",
           "offsetgroup": "Avg Close Summer",
           "orientation": "v",
           "showlegend": true,
           "textposition": "auto",
           "type": "bar",
           "x": [
            "Avg Close Summer"
           ],
           "xaxis": "x",
           "y": [
            115.06444424864635
           ],
           "yaxis": "y"
          },
          {
           "alignmentgroup": "True",
           "hovertemplate": "Season=%{x}<br>Ticker=HON<br>Average Close Price=%{y}<extra></extra>",
           "legendgroup": "Avg Close Fall",
           "marker": {
            "color": "#ab63fa",
            "pattern": {
             "shape": ""
            }
           },
           "name": "Avg Close Fall",
           "offsetgroup": "Avg Close Fall",
           "orientation": "v",
           "showlegend": true,
           "textposition": "auto",
           "type": "bar",
           "x": [
            "Avg Close Fall"
           ],
           "xaxis": "x",
           "y": [
            120.5158653439594
           ],
           "yaxis": "y"
          }
         ],
         "name": "HON"
        },
        {
         "data": [
          {
           "alignmentgroup": "True",
           "hovertemplate": "Season=%{x}<br>Ticker=IBM<br>Average Close Price=%{y}<extra></extra>",
           "legendgroup": "Avg Close Winter",
           "marker": {
            "color": "#636efa",
            "pattern": {
             "shape": ""
            }
           },
           "name": "Avg Close Winter",
           "offsetgroup": "Avg Close Winter",
           "orientation": "v",
           "showlegend": true,
           "textposition": "auto",
           "type": "bar",
           "x": [
            "Avg Close Winter"
           ],
           "xaxis": "x",
           "y": [
            116.7710845013054
           ],
           "yaxis": "y"
          },
          {
           "alignmentgroup": "True",
           "hovertemplate": "Season=%{x}<br>Ticker=IBM<br>Average Close Price=%{y}<extra></extra>",
           "legendgroup": "Avg Close Spring",
           "marker": {
            "color": "#EF553B",
            "pattern": {
             "shape": ""
            }
           },
           "name": "Avg Close Spring",
           "offsetgroup": "Avg Close Spring",
           "orientation": "v",
           "showlegend": true,
           "textposition": "auto",
           "type": "bar",
           "x": [
            "Avg Close Spring"
           ],
           "xaxis": "x",
           "y": [
            111.17563350629608
           ],
           "yaxis": "y"
          },
          {
           "alignmentgroup": "True",
           "hovertemplate": "Season=%{x}<br>Ticker=IBM<br>Average Close Price=%{y}<extra></extra>",
           "legendgroup": "Avg Close Summer",
           "marker": {
            "color": "#00cc96",
            "pattern": {
             "shape": ""
            }
           },
           "name": "Avg Close Summer",
           "offsetgroup": "Avg Close Summer",
           "orientation": "v",
           "showlegend": true,
           "textposition": "auto",
           "type": "bar",
           "x": [
            "Avg Close Summer"
           ],
           "xaxis": "x",
           "y": [
            112.03214824149798
           ],
           "yaxis": "y"
          },
          {
           "alignmentgroup": "True",
           "hovertemplate": "Season=%{x}<br>Ticker=IBM<br>Average Close Price=%{y}<extra></extra>",
           "legendgroup": "Avg Close Fall",
           "marker": {
            "color": "#ab63fa",
            "pattern": {
             "shape": ""
            }
           },
           "name": "Avg Close Fall",
           "offsetgroup": "Avg Close Fall",
           "orientation": "v",
           "showlegend": true,
           "textposition": "auto",
           "type": "bar",
           "x": [
            "Avg Close Fall"
           ],
           "xaxis": "x",
           "y": [
            113.21482502111868
           ],
           "yaxis": "y"
          }
         ],
         "name": "IBM"
        },
        {
         "data": [
          {
           "alignmentgroup": "True",
           "hovertemplate": "Season=%{x}<br>Ticker=INTU<br>Average Close Price=%{y}<extra></extra>",
           "legendgroup": "Avg Close Winter",
           "marker": {
            "color": "#636efa",
            "pattern": {
             "shape": ""
            }
           },
           "name": "Avg Close Winter",
           "offsetgroup": "Avg Close Winter",
           "orientation": "v",
           "showlegend": true,
           "textposition": "auto",
           "type": "bar",
           "x": [
            "Avg Close Winter"
           ],
           "xaxis": "x",
           "y": [
            230.7173218104304
           ],
           "yaxis": "y"
          },
          {
           "alignmentgroup": "True",
           "hovertemplate": "Season=%{x}<br>Ticker=INTU<br>Average Close Price=%{y}<extra></extra>",
           "legendgroup": "Avg Close Spring",
           "marker": {
            "color": "#EF553B",
            "pattern": {
             "shape": ""
            }
           },
           "name": "Avg Close Spring",
           "offsetgroup": "Avg Close Spring",
           "orientation": "v",
           "showlegend": true,
           "textposition": "auto",
           "type": "bar",
           "x": [
            "Avg Close Spring"
           ],
           "xaxis": "x",
           "y": [
            212.431135766177
           ],
           "yaxis": "y"
          },
          {
           "alignmentgroup": "True",
           "hovertemplate": "Season=%{x}<br>Ticker=INTU<br>Average Close Price=%{y}<extra></extra>",
           "legendgroup": "Avg Close Summer",
           "marker": {
            "color": "#00cc96",
            "pattern": {
             "shape": ""
            }
           },
           "name": "Avg Close Summer",
           "offsetgroup": "Avg Close Summer",
           "orientation": "v",
           "showlegend": true,
           "textposition": "auto",
           "type": "bar",
           "x": [
            "Avg Close Summer"
           ],
           "xaxis": "x",
           "y": [
            229.952145857791
           ],
           "yaxis": "y"
          },
          {
           "alignmentgroup": "True",
           "hovertemplate": "Season=%{x}<br>Ticker=INTU<br>Average Close Price=%{y}<extra></extra>",
           "legendgroup": "Avg Close Fall",
           "marker": {
            "color": "#ab63fa",
            "pattern": {
             "shape": ""
            }
           },
           "name": "Avg Close Fall",
           "offsetgroup": "Avg Close Fall",
           "orientation": "v",
           "showlegend": true,
           "textposition": "auto",
           "type": "bar",
           "x": [
            "Avg Close Fall"
           ],
           "xaxis": "x",
           "y": [
            240.24702768966932
           ],
           "yaxis": "y"
          }
         ],
         "name": "INTU"
        },
        {
         "data": [
          {
           "alignmentgroup": "True",
           "hovertemplate": "Season=%{x}<br>Ticker=ISRG<br>Average Close Price=%{y}<extra></extra>",
           "legendgroup": "Avg Close Winter",
           "marker": {
            "color": "#636efa",
            "pattern": {
             "shape": ""
            }
           },
           "name": "Avg Close Winter",
           "offsetgroup": "Avg Close Winter",
           "orientation": "v",
           "showlegend": true,
           "textposition": "auto",
           "type": "bar",
           "x": [
            "Avg Close Winter"
           ],
           "xaxis": "x",
           "y": [
            165.44604759994817
           ],
           "yaxis": "y"
          },
          {
           "alignmentgroup": "True",
           "hovertemplate": "Season=%{x}<br>Ticker=ISRG<br>Average Close Price=%{y}<extra></extra>",
           "legendgroup": "Avg Close Spring",
           "marker": {
            "color": "#EF553B",
            "pattern": {
             "shape": ""
            }
           },
           "name": "Avg Close Spring",
           "offsetgroup": "Avg Close Spring",
           "orientation": "v",
           "showlegend": true,
           "textposition": "auto",
           "type": "bar",
           "x": [
            "Avg Close Spring"
           ],
           "xaxis": "x",
           "y": [
            148.3894862250803
           ],
           "yaxis": "y"
          },
          {
           "alignmentgroup": "True",
           "hovertemplate": "Season=%{x}<br>Ticker=ISRG<br>Average Close Price=%{y}<extra></extra>",
           "legendgroup": "Avg Close Summer",
           "marker": {
            "color": "#00cc96",
            "pattern": {
             "shape": ""
            }
           },
           "name": "Avg Close Summer",
           "offsetgroup": "Avg Close Summer",
           "orientation": "v",
           "showlegend": true,
           "textposition": "auto",
           "type": "bar",
           "x": [
            "Avg Close Summer"
           ],
           "xaxis": "x",
           "y": [
            158.0559589114648
           ],
           "yaxis": "y"
          },
          {
           "alignmentgroup": "True",
           "hovertemplate": "Season=%{x}<br>Ticker=ISRG<br>Average Close Price=%{y}<extra></extra>",
           "legendgroup": "Avg Close Fall",
           "marker": {
            "color": "#ab63fa",
            "pattern": {
             "shape": ""
            }
           },
           "name": "Avg Close Fall",
           "offsetgroup": "Avg Close Fall",
           "orientation": "v",
           "showlegend": true,
           "textposition": "auto",
           "type": "bar",
           "x": [
            "Avg Close Fall"
           ],
           "xaxis": "x",
           "y": [
            166.89747294257668
           ],
           "yaxis": "y"
          }
         ],
         "name": "ISRG"
        },
        {
         "data": [
          {
           "alignmentgroup": "True",
           "hovertemplate": "Season=%{x}<br>Ticker=JNJ<br>Average Close Price=%{y}<extra></extra>",
           "legendgroup": "Avg Close Winter",
           "marker": {
            "color": "#636efa",
            "pattern": {
             "shape": ""
            }
           },
           "name": "Avg Close Winter",
           "offsetgroup": "Avg Close Winter",
           "orientation": "v",
           "showlegend": true,
           "textposition": "auto",
           "type": "bar",
           "x": [
            "Avg Close Winter"
           ],
           "xaxis": "x",
           "y": [
            100.4557501773445
           ],
           "yaxis": "y"
          },
          {
           "alignmentgroup": "True",
           "hovertemplate": "Season=%{x}<br>Ticker=JNJ<br>Average Close Price=%{y}<extra></extra>",
           "legendgroup": "Avg Close Spring",
           "marker": {
            "color": "#EF553B",
            "pattern": {
             "shape": ""
            }
           },
           "name": "Avg Close Spring",
           "offsetgroup": "Avg Close Spring",
           "orientation": "v",
           "showlegend": true,
           "textposition": "auto",
           "type": "bar",
           "x": [
            "Avg Close Spring"
           ],
           "xaxis": "x",
           "y": [
            99.57200721517268
           ],
           "yaxis": "y"
          },
          {
           "alignmentgroup": "True",
           "hovertemplate": "Season=%{x}<br>Ticker=JNJ<br>Average Close Price=%{y}<extra></extra>",
           "legendgroup": "Avg Close Summer",
           "marker": {
            "color": "#00cc96",
            "pattern": {
             "shape": ""
            }
           },
           "name": "Avg Close Summer",
           "offsetgroup": "Avg Close Summer",
           "orientation": "v",
           "showlegend": true,
           "textposition": "auto",
           "type": "bar",
           "x": [
            "Avg Close Summer"
           ],
           "xaxis": "x",
           "y": [
            101.66804009202136
           ],
           "yaxis": "y"
          },
          {
           "alignmentgroup": "True",
           "hovertemplate": "Season=%{x}<br>Ticker=JNJ<br>Average Close Price=%{y}<extra></extra>",
           "legendgroup": "Avg Close Fall",
           "marker": {
            "color": "#ab63fa",
            "pattern": {
             "shape": ""
            }
           },
           "name": "Avg Close Fall",
           "offsetgroup": "Avg Close Fall",
           "orientation": "v",
           "showlegend": true,
           "textposition": "auto",
           "type": "bar",
           "x": [
            "Avg Close Fall"
           ],
           "xaxis": "x",
           "y": [
            102.45775328964746
           ],
           "yaxis": "y"
          }
         ],
         "name": "JNJ"
        },
        {
         "data": [
          {
           "alignmentgroup": "True",
           "hovertemplate": "Season=%{x}<br>Ticker=JPM<br>Average Close Price=%{y}<extra></extra>",
           "legendgroup": "Avg Close Winter",
           "marker": {
            "color": "#636efa",
            "pattern": {
             "shape": ""
            }
           },
           "name": "Avg Close Winter",
           "offsetgroup": "Avg Close Winter",
           "orientation": "v",
           "showlegend": true,
           "textposition": "auto",
           "type": "bar",
           "x": [
            "Avg Close Winter"
           ],
           "xaxis": "x",
           "y": [
            89.10725750825843
           ],
           "yaxis": "y"
          },
          {
           "alignmentgroup": "True",
           "hovertemplate": "Season=%{x}<br>Ticker=JPM<br>Average Close Price=%{y}<extra></extra>",
           "legendgroup": "Avg Close Spring",
           "marker": {
            "color": "#EF553B",
            "pattern": {
             "shape": ""
            }
           },
           "name": "Avg Close Spring",
           "offsetgroup": "Avg Close Spring",
           "orientation": "v",
           "showlegend": true,
           "textposition": "auto",
           "type": "bar",
           "x": [
            "Avg Close Spring"
           ],
           "xaxis": "x",
           "y": [
            79.57662477453384
           ],
           "yaxis": "y"
          },
          {
           "alignmentgroup": "True",
           "hovertemplate": "Season=%{x}<br>Ticker=JPM<br>Average Close Price=%{y}<extra></extra>",
           "legendgroup": "Avg Close Summer",
           "marker": {
            "color": "#00cc96",
            "pattern": {
             "shape": ""
            }
           },
           "name": "Avg Close Summer",
           "offsetgroup": "Avg Close Summer",
           "orientation": "v",
           "showlegend": true,
           "textposition": "auto",
           "type": "bar",
           "x": [
            "Avg Close Summer"
           ],
           "xaxis": "x",
           "y": [
            80.68278236269452
           ],
           "yaxis": "y"
          },
          {
           "alignmentgroup": "True",
           "hovertemplate": "Season=%{x}<br>Ticker=JPM<br>Average Close Price=%{y}<extra></extra>",
           "legendgroup": "Avg Close Fall",
           "marker": {
            "color": "#ab63fa",
            "pattern": {
             "shape": ""
            }
           },
           "name": "Avg Close Fall",
           "offsetgroup": "Avg Close Fall",
           "orientation": "v",
           "showlegend": true,
           "textposition": "auto",
           "type": "bar",
           "x": [
            "Avg Close Fall"
           ],
           "xaxis": "x",
           "y": [
            86.67743597912187
           ],
           "yaxis": "y"
          }
         ],
         "name": "JPM"
        },
        {
         "data": [
          {
           "alignmentgroup": "True",
           "hovertemplate": "Season=%{x}<br>Ticker=KKR<br>Average Close Price=%{y}<extra></extra>",
           "legendgroup": "Avg Close Winter",
           "marker": {
            "color": "#636efa",
            "pattern": {
             "shape": ""
            }
           },
           "name": "Avg Close Winter",
           "offsetgroup": "Avg Close Winter",
           "orientation": "v",
           "showlegend": true,
           "textposition": "auto",
           "type": "bar",
           "x": [
            "Avg Close Winter"
           ],
           "xaxis": "x",
           "y": [
            36.356393856633865
           ],
           "yaxis": "y"
          },
          {
           "alignmentgroup": "True",
           "hovertemplate": "Season=%{x}<br>Ticker=KKR<br>Average Close Price=%{y}<extra></extra>",
           "legendgroup": "Avg Close Spring",
           "marker": {
            "color": "#EF553B",
            "pattern": {
             "shape": ""
            }
           },
           "name": "Avg Close Spring",
           "offsetgroup": "Avg Close Spring",
           "orientation": "v",
           "showlegend": true,
           "textposition": "auto",
           "type": "bar",
           "x": [
            "Avg Close Spring"
           ],
           "xaxis": "x",
           "y": [
            30.789556338832465
           ],
           "yaxis": "y"
          },
          {
           "alignmentgroup": "True",
           "hovertemplate": "Season=%{x}<br>Ticker=KKR<br>Average Close Price=%{y}<extra></extra>",
           "legendgroup": "Avg Close Summer",
           "marker": {
            "color": "#00cc96",
            "pattern": {
             "shape": ""
            }
           },
           "name": "Avg Close Summer",
           "offsetgroup": "Avg Close Summer",
           "orientation": "v",
           "showlegend": true,
           "textposition": "auto",
           "type": "bar",
           "x": [
            "Avg Close Summer"
           ],
           "xaxis": "x",
           "y": [
            31.692675953555888
           ],
           "yaxis": "y"
          },
          {
           "alignmentgroup": "True",
           "hovertemplate": "Season=%{x}<br>Ticker=KKR<br>Average Close Price=%{y}<extra></extra>",
           "legendgroup": "Avg Close Fall",
           "marker": {
            "color": "#ab63fa",
            "pattern": {
             "shape": ""
            }
           },
           "name": "Avg Close Fall",
           "offsetgroup": "Avg Close Fall",
           "orientation": "v",
           "showlegend": true,
           "textposition": "auto",
           "type": "bar",
           "x": [
            "Avg Close Fall"
           ],
           "xaxis": "x",
           "y": [
            34.759483969512104
           ],
           "yaxis": "y"
          }
         ],
         "name": "KKR"
        },
        {
         "data": [
          {
           "alignmentgroup": "True",
           "hovertemplate": "Season=%{x}<br>Ticker=KO<br>Average Close Price=%{y}<extra></extra>",
           "legendgroup": "Avg Close Winter",
           "marker": {
            "color": "#636efa",
            "pattern": {
             "shape": ""
            }
           },
           "name": "Avg Close Winter",
           "offsetgroup": "Avg Close Winter",
           "orientation": "v",
           "showlegend": true,
           "textposition": "auto",
           "type": "bar",
           "x": [
            "Avg Close Winter"
           ],
           "xaxis": "x",
           "y": [
            38.10782199003258
           ],
           "yaxis": "y"
          },
          {
           "alignmentgroup": "True",
           "hovertemplate": "Season=%{x}<br>Ticker=KO<br>Average Close Price=%{y}<extra></extra>",
           "legendgroup": "Avg Close Spring",
           "marker": {
            "color": "#EF553B",
            "pattern": {
             "shape": ""
            }
           },
           "name": "Avg Close Spring",
           "offsetgroup": "Avg Close Spring",
           "orientation": "v",
           "showlegend": true,
           "textposition": "auto",
           "type": "bar",
           "x": [
            "Avg Close Spring"
           ],
           "xaxis": "x",
           "y": [
            37.56335658408608
           ],
           "yaxis": "y"
          },
          {
           "alignmentgroup": "True",
           "hovertemplate": "Season=%{x}<br>Ticker=KO<br>Average Close Price=%{y}<extra></extra>",
           "legendgroup": "Avg Close Summer",
           "marker": {
            "color": "#00cc96",
            "pattern": {
             "shape": ""
            }
           },
           "name": "Avg Close Summer",
           "offsetgroup": "Avg Close Summer",
           "orientation": "v",
           "showlegend": true,
           "textposition": "auto",
           "type": "bar",
           "x": [
            "Avg Close Summer"
           ],
           "xaxis": "x",
           "y": [
            38.42852948599779
           ],
           "yaxis": "y"
          },
          {
           "alignmentgroup": "True",
           "hovertemplate": "Season=%{x}<br>Ticker=KO<br>Average Close Price=%{y}<extra></extra>",
           "legendgroup": "Avg Close Fall",
           "marker": {
            "color": "#ab63fa",
            "pattern": {
             "shape": ""
            }
           },
           "name": "Avg Close Fall",
           "offsetgroup": "Avg Close Fall",
           "orientation": "v",
           "showlegend": true,
           "textposition": "auto",
           "type": "bar",
           "x": [
            "Avg Close Fall"
           ],
           "xaxis": "x",
           "y": [
            38.75500788608519
           ],
           "yaxis": "y"
          }
         ],
         "name": "KO"
        },
        {
         "data": [
          {
           "alignmentgroup": "True",
           "hovertemplate": "Season=%{x}<br>Ticker=LIN<br>Average Close Price=%{y}<extra></extra>",
           "legendgroup": "Avg Close Winter",
           "marker": {
            "color": "#636efa",
            "pattern": {
             "shape": ""
            }
           },
           "name": "Avg Close Winter",
           "offsetgroup": "Avg Close Winter",
           "orientation": "v",
           "showlegend": true,
           "textposition": "auto",
           "type": "bar",
           "x": [
            "Avg Close Winter"
           ],
           "xaxis": "x",
           "y": [
            182.40709630615856
           ],
           "yaxis": "y"
          },
          {
           "alignmentgroup": "True",
           "hovertemplate": "Season=%{x}<br>Ticker=LIN<br>Average Close Price=%{y}<extra></extra>",
           "legendgroup": "Avg Close Spring",
           "marker": {
            "color": "#EF553B",
            "pattern": {
             "shape": ""
            }
           },
           "name": "Avg Close Spring",
           "offsetgroup": "Avg Close Spring",
           "orientation": "v",
           "showlegend": true,
           "textposition": "auto",
           "type": "bar",
           "x": [
            "Avg Close Spring"
           ],
           "xaxis": "x",
           "y": [
            175.18967953685936
           ],
           "yaxis": "y"
          },
          {
           "alignmentgroup": "True",
           "hovertemplate": "Season=%{x}<br>Ticker=LIN<br>Average Close Price=%{y}<extra></extra>",
           "legendgroup": "Avg Close Summer",
           "marker": {
            "color": "#00cc96",
            "pattern": {
             "shape": ""
            }
           },
           "name": "Avg Close Summer",
           "offsetgroup": "Avg Close Summer",
           "orientation": "v",
           "showlegend": true,
           "textposition": "auto",
           "type": "bar",
           "x": [
            "Avg Close Summer"
           ],
           "xaxis": "x",
           "y": [
            178.82791936946214
           ],
           "yaxis": "y"
          },
          {
           "alignmentgroup": "True",
           "hovertemplate": "Season=%{x}<br>Ticker=LIN<br>Average Close Price=%{y}<extra></extra>",
           "legendgroup": "Avg Close Fall",
           "marker": {
            "color": "#ab63fa",
            "pattern": {
             "shape": ""
            }
           },
           "name": "Avg Close Fall",
           "offsetgroup": "Avg Close Fall",
           "orientation": "v",
           "showlegend": true,
           "textposition": "auto",
           "type": "bar",
           "x": [
            "Avg Close Fall"
           ],
           "xaxis": "x",
           "y": [
            185.5114645998017
           ],
           "yaxis": "y"
          }
         ],
         "name": "LIN"
        },
        {
         "data": [
          {
           "alignmentgroup": "True",
           "hovertemplate": "Season=%{x}<br>Ticker=LLY<br>Average Close Price=%{y}<extra></extra>",
           "legendgroup": "Avg Close Winter",
           "marker": {
            "color": "#636efa",
            "pattern": {
             "shape": ""
            }
           },
           "name": "Avg Close Winter",
           "offsetgroup": "Avg Close Winter",
           "orientation": "v",
           "showlegend": true,
           "textposition": "auto",
           "type": "bar",
           "x": [
            "Avg Close Winter"
           ],
           "xaxis": "x",
           "y": [
            185.2293606466177
           ],
           "yaxis": "y"
          },
          {
           "alignmentgroup": "True",
           "hovertemplate": "Season=%{x}<br>Ticker=LLY<br>Average Close Price=%{y}<extra></extra>",
           "legendgroup": "Avg Close Spring",
           "marker": {
            "color": "#EF553B",
            "pattern": {
             "shape": ""
            }
           },
           "name": "Avg Close Spring",
           "offsetgroup": "Avg Close Spring",
           "orientation": "v",
           "showlegend": true,
           "textposition": "auto",
           "type": "bar",
           "x": [
            "Avg Close Spring"
           ],
           "xaxis": "x",
           "y": [
            165.07926165010142
           ],
           "yaxis": "y"
          },
          {
           "alignmentgroup": "True",
           "hovertemplate": "Season=%{x}<br>Ticker=LLY<br>Average Close Price=%{y}<extra></extra>",
           "legendgroup": "Avg Close Summer",
           "marker": {
            "color": "#00cc96",
            "pattern": {
             "shape": ""
            }
           },
           "name": "Avg Close Summer",
           "offsetgroup": "Avg Close Summer",
           "orientation": "v",
           "showlegend": true,
           "textposition": "auto",
           "type": "bar",
           "x": [
            "Avg Close Summer"
           ],
           "xaxis": "x",
           "y": [
            178.90295185903128
           ],
           "yaxis": "y"
          },
          {
           "alignmentgroup": "True",
           "hovertemplate": "Season=%{x}<br>Ticker=LLY<br>Average Close Price=%{y}<extra></extra>",
           "legendgroup": "Avg Close Fall",
           "marker": {
            "color": "#ab63fa",
            "pattern": {
             "shape": ""
            }
           },
           "name": "Avg Close Fall",
           "offsetgroup": "Avg Close Fall",
           "orientation": "v",
           "showlegend": true,
           "textposition": "auto",
           "type": "bar",
           "x": [
            "Avg Close Fall"
           ],
           "xaxis": "x",
           "y": [
            183.23419168616545
           ],
           "yaxis": "y"
          }
         ],
         "name": "LLY"
        },
        {
         "data": [
          {
           "alignmentgroup": "True",
           "hovertemplate": "Season=%{x}<br>Ticker=LMT<br>Average Close Price=%{y}<extra></extra>",
           "legendgroup": "Avg Close Winter",
           "marker": {
            "color": "#636efa",
            "pattern": {
             "shape": ""
            }
           },
           "name": "Avg Close Winter",
           "offsetgroup": "Avg Close Winter",
           "orientation": "v",
           "showlegend": true,
           "textposition": "auto",
           "type": "bar",
           "x": [
            "Avg Close Winter"
           ],
           "xaxis": "x",
           "y": [
            234.23249392606775
           ],
           "yaxis": "y"
          },
          {
           "alignmentgroup": "True",
           "hovertemplate": "Season=%{x}<br>Ticker=LMT<br>Average Close Price=%{y}<extra></extra>",
           "legendgroup": "Avg Close Spring",
           "marker": {
            "color": "#EF553B",
            "pattern": {
             "shape": ""
            }
           },
           "name": "Avg Close Spring",
           "offsetgroup": "Avg Close Spring",
           "orientation": "v",
           "showlegend": true,
           "textposition": "auto",
           "type": "bar",
           "x": [
            "Avg Close Spring"
           ],
           "xaxis": "x",
           "y": [
            231.30622613978684
           ],
           "yaxis": "y"
          },
          {
           "alignmentgroup": "True",
           "hovertemplate": "Season=%{x}<br>Ticker=LMT<br>Average Close Price=%{y}<extra></extra>",
           "legendgroup": "Avg Close Summer",
           "marker": {
            "color": "#00cc96",
            "pattern": {
             "shape": ""
            }
           },
           "name": "Avg Close Summer",
           "offsetgroup": "Avg Close Summer",
           "orientation": "v",
           "showlegend": true,
           "textposition": "auto",
           "type": "bar",
           "x": [
            "Avg Close Summer"
           ],
           "xaxis": "x",
           "y": [
            238.081129405289
           ],
           "yaxis": "y"
          },
          {
           "alignmentgroup": "True",
           "hovertemplate": "Season=%{x}<br>Ticker=LMT<br>Average Close Price=%{y}<extra></extra>",
           "legendgroup": "Avg Close Fall",
           "marker": {
            "color": "#ab63fa",
            "pattern": {
             "shape": ""
            }
           },
           "name": "Avg Close Fall",
           "offsetgroup": "Avg Close Fall",
           "orientation": "v",
           "showlegend": true,
           "textposition": "auto",
           "type": "bar",
           "x": [
            "Avg Close Fall"
           ],
           "xaxis": "x",
           "y": [
            244.1238055790172
           ],
           "yaxis": "y"
          }
         ],
         "name": "LMT"
        },
        {
         "data": [
          {
           "alignmentgroup": "True",
           "hovertemplate": "Season=%{x}<br>Ticker=LOW<br>Average Close Price=%{y}<extra></extra>",
           "legendgroup": "Avg Close Winter",
           "marker": {
            "color": "#636efa",
            "pattern": {
             "shape": ""
            }
           },
           "name": "Avg Close Winter",
           "offsetgroup": "Avg Close Winter",
           "orientation": "v",
           "showlegend": true,
           "textposition": "auto",
           "type": "bar",
           "x": [
            "Avg Close Winter"
           ],
           "xaxis": "x",
           "y": [
            101.85723667728658
           ],
           "yaxis": "y"
          },
          {
           "alignmentgroup": "True",
           "hovertemplate": "Season=%{x}<br>Ticker=LOW<br>Average Close Price=%{y}<extra></extra>",
           "legendgroup": "Avg Close Spring",
           "marker": {
            "color": "#EF553B",
            "pattern": {
             "shape": ""
            }
           },
           "name": "Avg Close Spring",
           "offsetgroup": "Avg Close Spring",
           "orientation": "v",
           "showlegend": true,
           "textposition": "auto",
           "type": "bar",
           "x": [
            "Avg Close Spring"
           ],
           "xaxis": "x",
           "y": [
            94.32152008711044
           ],
           "yaxis": "y"
          },
          {
           "alignmentgroup": "True",
           "hovertemplate": "Season=%{x}<br>Ticker=LOW<br>Average Close Price=%{y}<extra></extra>",
           "legendgroup": "Avg Close Summer",
           "marker": {
            "color": "#00cc96",
            "pattern": {
             "shape": ""
            }
           },
           "name": "Avg Close Summer",
           "offsetgroup": "Avg Close Summer",
           "orientation": "v",
           "showlegend": true,
           "textposition": "auto",
           "type": "bar",
           "x": [
            "Avg Close Summer"
           ],
           "xaxis": "x",
           "y": [
            98.912531479632
           ],
           "yaxis": "y"
          },
          {
           "alignmentgroup": "True",
           "hovertemplate": "Season=%{x}<br>Ticker=LOW<br>Average Close Price=%{y}<extra></extra>",
           "legendgroup": "Avg Close Fall",
           "marker": {
            "color": "#ab63fa",
            "pattern": {
             "shape": ""
            }
           },
           "name": "Avg Close Fall",
           "offsetgroup": "Avg Close Fall",
           "orientation": "v",
           "showlegend": true,
           "textposition": "auto",
           "type": "bar",
           "x": [
            "Avg Close Fall"
           ],
           "xaxis": "x",
           "y": [
            104.56273133013428
           ],
           "yaxis": "y"
          }
         ],
         "name": "LOW"
        },
        {
         "data": [
          {
           "alignmentgroup": "True",
           "hovertemplate": "Season=%{x}<br>Ticker=MA<br>Average Close Price=%{y}<extra></extra>",
           "legendgroup": "Avg Close Winter",
           "marker": {
            "color": "#636efa",
            "pattern": {
             "shape": ""
            }
           },
           "name": "Avg Close Winter",
           "offsetgroup": "Avg Close Winter",
           "orientation": "v",
           "showlegend": true,
           "textposition": "auto",
           "type": "bar",
           "x": [
            "Avg Close Winter"
           ],
           "xaxis": "x",
           "y": [
            198.5996299081919
           ],
           "yaxis": "y"
          },
          {
           "alignmentgroup": "True",
           "hovertemplate": "Season=%{x}<br>Ticker=MA<br>Average Close Price=%{y}<extra></extra>",
           "legendgroup": "Avg Close Spring",
           "marker": {
            "color": "#EF553B",
            "pattern": {
             "shape": ""
            }
           },
           "name": "Avg Close Spring",
           "offsetgroup": "Avg Close Spring",
           "orientation": "v",
           "showlegend": true,
           "textposition": "auto",
           "type": "bar",
           "x": [
            "Avg Close Spring"
           ],
           "xaxis": "x",
           "y": [
            184.14417929629403
           ],
           "yaxis": "y"
          },
          {
           "alignmentgroup": "True",
           "hovertemplate": "Season=%{x}<br>Ticker=MA<br>Average Close Price=%{y}<extra></extra>",
           "legendgroup": "Avg Close Summer",
           "marker": {
            "color": "#00cc96",
            "pattern": {
             "shape": ""
            }
           },
           "name": "Avg Close Summer",
           "offsetgroup": "Avg Close Summer",
           "orientation": "v",
           "showlegend": true,
           "textposition": "auto",
           "type": "bar",
           "x": [
            "Avg Close Summer"
           ],
           "xaxis": "x",
           "y": [
            190.08832315021976
           ],
           "yaxis": "y"
          },
          {
           "alignmentgroup": "True",
           "hovertemplate": "Season=%{x}<br>Ticker=MA<br>Average Close Price=%{y}<extra></extra>",
           "legendgroup": "Avg Close Fall",
           "marker": {
            "color": "#ab63fa",
            "pattern": {
             "shape": ""
            }
           },
           "name": "Avg Close Fall",
           "offsetgroup": "Avg Close Fall",
           "orientation": "v",
           "showlegend": true,
           "textposition": "auto",
           "type": "bar",
           "x": [
            "Avg Close Fall"
           ],
           "xaxis": "x",
           "y": [
            196.59614228601217
           ],
           "yaxis": "y"
          }
         ],
         "name": "MA"
        },
        {
         "data": [
          {
           "alignmentgroup": "True",
           "hovertemplate": "Season=%{x}<br>Ticker=MCD<br>Average Close Price=%{y}<extra></extra>",
           "legendgroup": "Avg Close Winter",
           "marker": {
            "color": "#636efa",
            "pattern": {
             "shape": ""
            }
           },
           "name": "Avg Close Winter",
           "offsetgroup": "Avg Close Winter",
           "orientation": "v",
           "showlegend": true,
           "textposition": "auto",
           "type": "bar",
           "x": [
            "Avg Close Winter"
           ],
           "xaxis": "x",
           "y": [
            144.25234615170226
           ],
           "yaxis": "y"
          },
          {
           "alignmentgroup": "True",
           "hovertemplate": "Season=%{x}<br>Ticker=MCD<br>Average Close Price=%{y}<extra></extra>",
           "legendgroup": "Avg Close Spring",
           "marker": {
            "color": "#EF553B",
            "pattern": {
             "shape": ""
            }
           },
           "name": "Avg Close Spring",
           "offsetgroup": "Avg Close Spring",
           "orientation": "v",
           "showlegend": true,
           "textposition": "auto",
           "type": "bar",
           "x": [
            "Avg Close Spring"
           ],
           "xaxis": "x",
           "y": [
            139.20167832394523
           ],
           "yaxis": "y"
          },
          {
           "alignmentgroup": "True",
           "hovertemplate": "Season=%{x}<br>Ticker=MCD<br>Average Close Price=%{y}<extra></extra>",
           "legendgroup": "Avg Close Summer",
           "marker": {
            "color": "#00cc96",
            "pattern": {
             "shape": ""
            }
           },
           "name": "Avg Close Summer",
           "offsetgroup": "Avg Close Summer",
           "orientation": "v",
           "showlegend": true,
           "textposition": "auto",
           "type": "bar",
           "x": [
            "Avg Close Summer"
           ],
           "xaxis": "x",
           "y": [
            142.3620065824756
           ],
           "yaxis": "y"
          },
          {
           "alignmentgroup": "True",
           "hovertemplate": "Season=%{x}<br>Ticker=MCD<br>Average Close Price=%{y}<extra></extra>",
           "legendgroup": "Avg Close Fall",
           "marker": {
            "color": "#ab63fa",
            "pattern": {
             "shape": ""
            }
           },
           "name": "Avg Close Fall",
           "offsetgroup": "Avg Close Fall",
           "orientation": "v",
           "showlegend": true,
           "textposition": "auto",
           "type": "bar",
           "x": [
            "Avg Close Fall"
           ],
           "xaxis": "x",
           "y": [
            147.81552313956894
           ],
           "yaxis": "y"
          }
         ],
         "name": "MCD"
        },
        {
         "data": [
          {
           "alignmentgroup": "True",
           "hovertemplate": "Season=%{x}<br>Ticker=MDT<br>Average Close Price=%{y}<extra></extra>",
           "legendgroup": "Avg Close Winter",
           "marker": {
            "color": "#636efa",
            "pattern": {
             "shape": ""
            }
           },
           "name": "Avg Close Winter",
           "offsetgroup": "Avg Close Winter",
           "orientation": "v",
           "showlegend": true,
           "textposition": "auto",
           "type": "bar",
           "x": [
            "Avg Close Winter"
           ],
           "xaxis": "x",
           "y": [
            64.24482766365519
           ],
           "yaxis": "y"
          },
          {
           "alignmentgroup": "True",
           "hovertemplate": "Season=%{x}<br>Ticker=MDT<br>Average Close Price=%{y}<extra></extra>",
           "legendgroup": "Avg Close Spring",
           "marker": {
            "color": "#EF553B",
            "pattern": {
             "shape": ""
            }
           },
           "name": "Avg Close Spring",
           "offsetgroup": "Avg Close Spring",
           "orientation": "v",
           "showlegend": true,
           "textposition": "auto",
           "type": "bar",
           "x": [
            "Avg Close Spring"
           ],
           "xaxis": "x",
           "y": [
            63.84430963923243
           ],
           "yaxis": "y"
          },
          {
           "alignmentgroup": "True",
           "hovertemplate": "Season=%{x}<br>Ticker=MDT<br>Average Close Price=%{y}<extra></extra>",
           "legendgroup": "Avg Close Summer",
           "marker": {
            "color": "#00cc96",
            "pattern": {
             "shape": ""
            }
           },
           "name": "Avg Close Summer",
           "offsetgroup": "Avg Close Summer",
           "orientation": "v",
           "showlegend": true,
           "textposition": "auto",
           "type": "bar",
           "x": [
            "Avg Close Summer"
           ],
           "xaxis": "x",
           "y": [
            65.172925597953
           ],
           "yaxis": "y"
          },
          {
           "alignmentgroup": "True",
           "hovertemplate": "Season=%{x}<br>Ticker=MDT<br>Average Close Price=%{y}<extra></extra>",
           "legendgroup": "Avg Close Fall",
           "marker": {
            "color": "#ab63fa",
            "pattern": {
             "shape": ""
            }
           },
           "name": "Avg Close Fall",
           "offsetgroup": "Avg Close Fall",
           "orientation": "v",
           "showlegend": true,
           "textposition": "auto",
           "type": "bar",
           "x": [
            "Avg Close Fall"
           ],
           "xaxis": "x",
           "y": [
            64.9055464067379
           ],
           "yaxis": "y"
          }
         ],
         "name": "MDT"
        },
        {
         "data": [
          {
           "alignmentgroup": "True",
           "hovertemplate": "Season=%{x}<br>Ticker=META<br>Average Close Price=%{y}<extra></extra>",
           "legendgroup": "Avg Close Winter",
           "marker": {
            "color": "#636efa",
            "pattern": {
             "shape": ""
            }
           },
           "name": "Avg Close Winter",
           "offsetgroup": "Avg Close Winter",
           "orientation": "v",
           "showlegend": true,
           "textposition": "auto",
           "type": "bar",
           "x": [
            "Avg Close Winter"
           ],
           "xaxis": "x",
           "y": [
            208.3677041563598
           ],
           "yaxis": "y"
          },
          {
           "alignmentgroup": "True",
           "hovertemplate": "Season=%{x}<br>Ticker=META<br>Average Close Price=%{y}<extra></extra>",
           "legendgroup": "Avg Close Spring",
           "marker": {
            "color": "#EF553B",
            "pattern": {
             "shape": ""
            }
           },
           "name": "Avg Close Spring",
           "offsetgroup": "Avg Close Spring",
           "orientation": "v",
           "showlegend": true,
           "textposition": "auto",
           "type": "bar",
           "x": [
            "Avg Close Spring"
           ],
           "xaxis": "x",
           "y": [
            184.99403655364492
           ],
           "yaxis": "y"
          },
          {
           "alignmentgroup": "True",
           "hovertemplate": "Season=%{x}<br>Ticker=META<br>Average Close Price=%{y}<extra></extra>",
           "legendgroup": "Avg Close Summer",
           "marker": {
            "color": "#00cc96",
            "pattern": {
             "shape": ""
            }
           },
           "name": "Avg Close Summer",
           "offsetgroup": "Avg Close Summer",
           "orientation": "v",
           "showlegend": true,
           "textposition": "auto",
           "type": "bar",
           "x": [
            "Avg Close Summer"
           ],
           "xaxis": "x",
           "y": [
            190.3506452864495
           ],
           "yaxis": "y"
          },
          {
           "alignmentgroup": "True",
           "hovertemplate": "Season=%{x}<br>Ticker=META<br>Average Close Price=%{y}<extra></extra>",
           "legendgroup": "Avg Close Fall",
           "marker": {
            "color": "#ab63fa",
            "pattern": {
             "shape": ""
            }
           },
           "name": "Avg Close Fall",
           "offsetgroup": "Avg Close Fall",
           "orientation": "v",
           "showlegend": true,
           "textposition": "auto",
           "type": "bar",
           "x": [
            "Avg Close Fall"
           ],
           "xaxis": "x",
           "y": [
            194.14304525664355
           ],
           "yaxis": "y"
          }
         ],
         "name": "META"
        },
        {
         "data": [
          {
           "alignmentgroup": "True",
           "hovertemplate": "Season=%{x}<br>Ticker=MMC<br>Average Close Price=%{y}<extra></extra>",
           "legendgroup": "Avg Close Winter",
           "marker": {
            "color": "#636efa",
            "pattern": {
             "shape": ""
            }
           },
           "name": "Avg Close Winter",
           "offsetgroup": "Avg Close Winter",
           "orientation": "v",
           "showlegend": true,
           "textposition": "auto",
           "type": "bar",
           "x": [
            "Avg Close Winter"
           ],
           "xaxis": "x",
           "y": [
            86.34572258287547
           ],
           "yaxis": "y"
          },
          {
           "alignmentgroup": "True",
           "hovertemplate": "Season=%{x}<br>Ticker=MMC<br>Average Close Price=%{y}<extra></extra>",
           "legendgroup": "Avg Close Spring",
           "marker": {
            "color": "#EF553B",
            "pattern": {
             "shape": ""
            }
           },
           "name": "Avg Close Spring",
           "offsetgroup": "Avg Close Spring",
           "orientation": "v",
           "showlegend": true,
           "textposition": "auto",
           "type": "bar",
           "x": [
            "Avg Close Spring"
           ],
           "xaxis": "x",
           "y": [
            82.4919957077154
           ],
           "yaxis": "y"
          },
          {
           "alignmentgroup": "True",
           "hovertemplate": "Season=%{x}<br>Ticker=MMC<br>Average Close Price=%{y}<extra></extra>",
           "legendgroup": "Avg Close Summer",
           "marker": {
            "color": "#00cc96",
            "pattern": {
             "shape": ""
            }
           },
           "name": "Avg Close Summer",
           "offsetgroup": "Avg Close Summer",
           "orientation": "v",
           "showlegend": true,
           "textposition": "auto",
           "type": "bar",
           "x": [
            "Avg Close Summer"
           ],
           "xaxis": "x",
           "y": [
            86.4340893873111
           ],
           "yaxis": "y"
          },
          {
           "alignmentgroup": "True",
           "hovertemplate": "Season=%{x}<br>Ticker=MMC<br>Average Close Price=%{y}<extra></extra>",
           "legendgroup": "Avg Close Fall",
           "marker": {
            "color": "#ab63fa",
            "pattern": {
             "shape": ""
            }
           },
           "name": "Avg Close Fall",
           "offsetgroup": "Avg Close Fall",
           "orientation": "v",
           "showlegend": true,
           "textposition": "auto",
           "type": "bar",
           "x": [
            "Avg Close Fall"
           ],
           "xaxis": "x",
           "y": [
            89.09745823034719
           ],
           "yaxis": "y"
          }
         ],
         "name": "MMC"
        },
        {
         "data": [
          {
           "alignmentgroup": "True",
           "hovertemplate": "Season=%{x}<br>Ticker=MO<br>Average Close Price=%{y}<extra></extra>",
           "legendgroup": "Avg Close Winter",
           "marker": {
            "color": "#636efa",
            "pattern": {
             "shape": ""
            }
           },
           "name": "Avg Close Winter",
           "offsetgroup": "Avg Close Winter",
           "orientation": "v",
           "showlegend": true,
           "textposition": "auto",
           "type": "bar",
           "x": [
            "Avg Close Winter"
           ],
           "xaxis": "x",
           "y": [
            29.09468236456112
           ],
           "yaxis": "y"
          },
          {
           "alignmentgroup": "True",
           "hovertemplate": "Season=%{x}<br>Ticker=MO<br>Average Close Price=%{y}<extra></extra>",
           "legendgroup": "Avg Close Spring",
           "marker": {
            "color": "#EF553B",
            "pattern": {
             "shape": ""
            }
           },
           "name": "Avg Close Spring",
           "offsetgroup": "Avg Close Spring",
           "orientation": "v",
           "showlegend": true,
           "textposition": "auto",
           "type": "bar",
           "x": [
            "Avg Close Spring"
           ],
           "xaxis": "x",
           "y": [
            28.502954836171043
           ],
           "yaxis": "y"
          },
          {
           "alignmentgroup": "True",
           "hovertemplate": "Season=%{x}<br>Ticker=MO<br>Average Close Price=%{y}<extra></extra>",
           "legendgroup": "Avg Close Summer",
           "marker": {
            "color": "#00cc96",
            "pattern": {
             "shape": ""
            }
           },
           "name": "Avg Close Summer",
           "offsetgroup": "Avg Close Summer",
           "orientation": "v",
           "showlegend": true,
           "textposition": "auto",
           "type": "bar",
           "x": [
            "Avg Close Summer"
           ],
           "xaxis": "x",
           "y": [
            28.53765836021391
           ],
           "yaxis": "y"
          },
          {
           "alignmentgroup": "True",
           "hovertemplate": "Season=%{x}<br>Ticker=MO<br>Average Close Price=%{y}<extra></extra>",
           "legendgroup": "Avg Close Fall",
           "marker": {
            "color": "#ab63fa",
            "pattern": {
             "shape": ""
            }
           },
           "name": "Avg Close Fall",
           "offsetgroup": "Avg Close Fall",
           "orientation": "v",
           "showlegend": true,
           "textposition": "auto",
           "type": "bar",
           "x": [
            "Avg Close Fall"
           ],
           "xaxis": "x",
           "y": [
            29.26842005813823
           ],
           "yaxis": "y"
          }
         ],
         "name": "MO"
        },
        {
         "data": [
          {
           "alignmentgroup": "True",
           "hovertemplate": "Season=%{x}<br>Ticker=MRK<br>Average Close Price=%{y}<extra></extra>",
           "legendgroup": "Avg Close Winter",
           "marker": {
            "color": "#636efa",
            "pattern": {
             "shape": ""
            }
           },
           "name": "Avg Close Winter",
           "offsetgroup": "Avg Close Winter",
           "orientation": "v",
           "showlegend": true,
           "textposition": "auto",
           "type": "bar",
           "x": [
            "Avg Close Winter"
           ],
           "xaxis": "x",
           "y": [
            54.92755148556768
           ],
           "yaxis": "y"
          },
          {
           "alignmentgroup": "True",
           "hovertemplate": "Season=%{x}<br>Ticker=MRK<br>Average Close Price=%{y}<extra></extra>",
           "legendgroup": "Avg Close Spring",
           "marker": {
            "color": "#EF553B",
            "pattern": {
             "shape": ""
            }
           },
           "name": "Avg Close Spring",
           "offsetgroup": "Avg Close Spring",
           "orientation": "v",
           "showlegend": true,
           "textposition": "auto",
           "type": "bar",
           "x": [
            "Avg Close Spring"
           ],
           "xaxis": "x",
           "y": [
            54.85126017925629
           ],
           "yaxis": "y"
          },
          {
           "alignmentgroup": "True",
           "hovertemplate": "Season=%{x}<br>Ticker=MRK<br>Average Close Price=%{y}<extra></extra>",
           "legendgroup": "Avg Close Summer",
           "marker": {
            "color": "#00cc96",
            "pattern": {
             "shape": ""
            }
           },
           "name": "Avg Close Summer",
           "offsetgroup": "Avg Close Summer",
           "orientation": "v",
           "showlegend": true,
           "textposition": "auto",
           "type": "bar",
           "x": [
            "Avg Close Summer"
           ],
           "xaxis": "x",
           "y": [
            55.39155868306818
           ],
           "yaxis": "y"
          },
          {
           "alignmentgroup": "True",
           "hovertemplate": "Season=%{x}<br>Ticker=MRK<br>Average Close Price=%{y}<extra></extra>",
           "legendgroup": "Avg Close Fall",
           "marker": {
            "color": "#ab63fa",
            "pattern": {
             "shape": ""
            }
           },
           "name": "Avg Close Fall",
           "offsetgroup": "Avg Close Fall",
           "orientation": "v",
           "showlegend": true,
           "textposition": "auto",
           "type": "bar",
           "x": [
            "Avg Close Fall"
           ],
           "xaxis": "x",
           "y": [
            55.661032306046046
           ],
           "yaxis": "y"
          }
         ],
         "name": "MRK"
        },
        {
         "data": [
          {
           "alignmentgroup": "True",
           "hovertemplate": "Season=%{x}<br>Ticker=MS<br>Average Close Price=%{y}<extra></extra>",
           "legendgroup": "Avg Close Winter",
           "marker": {
            "color": "#636efa",
            "pattern": {
             "shape": ""
            }
           },
           "name": "Avg Close Winter",
           "offsetgroup": "Avg Close Winter",
           "orientation": "v",
           "showlegend": true,
           "textposition": "auto",
           "type": "bar",
           "x": [
            "Avg Close Winter"
           ],
           "xaxis": "x",
           "y": [
            46.85432642722616
           ],
           "yaxis": "y"
          },
          {
           "alignmentgroup": "True",
           "hovertemplate": "Season=%{x}<br>Ticker=MS<br>Average Close Price=%{y}<extra></extra>",
           "legendgroup": "Avg Close Spring",
           "marker": {
            "color": "#EF553B",
            "pattern": {
             "shape": ""
            }
           },
           "name": "Avg Close Spring",
           "offsetgroup": "Avg Close Spring",
           "orientation": "v",
           "showlegend": true,
           "textposition": "auto",
           "type": "bar",
           "x": [
            "Avg Close Spring"
           ],
           "xaxis": "x",
           "y": [
            41.32191042121983
           ],
           "yaxis": "y"
          },
          {
           "alignmentgroup": "True",
           "hovertemplate": "Season=%{x}<br>Ticker=MS<br>Average Close Price=%{y}<extra></extra>",
           "legendgroup": "Avg Close Summer",
           "marker": {
            "color": "#00cc96",
            "pattern": {
             "shape": ""
            }
           },
           "name": "Avg Close Summer",
           "offsetgroup": "Avg Close Summer",
           "orientation": "v",
           "showlegend": true,
           "textposition": "auto",
           "type": "bar",
           "x": [
            "Avg Close Summer"
           ],
           "xaxis": "x",
           "y": [
            42.73255696256789
           ],
           "yaxis": "y"
          },
          {
           "alignmentgroup": "True",
           "hovertemplate": "Season=%{x}<br>Ticker=MS<br>Average Close Price=%{y}<extra></extra>",
           "legendgroup": "Avg Close Fall",
           "marker": {
            "color": "#ab63fa",
            "pattern": {
             "shape": ""
            }
           },
           "name": "Avg Close Fall",
           "offsetgroup": "Avg Close Fall",
           "orientation": "v",
           "showlegend": true,
           "textposition": "auto",
           "type": "bar",
           "x": [
            "Avg Close Fall"
           ],
           "xaxis": "x",
           "y": [
            45.34156411535599
           ],
           "yaxis": "y"
          }
         ],
         "name": "MS"
        },
        {
         "data": [
          {
           "alignmentgroup": "True",
           "hovertemplate": "Season=%{x}<br>Ticker=MSFT<br>Average Close Price=%{y}<extra></extra>",
           "legendgroup": "Avg Close Winter",
           "marker": {
            "color": "#636efa",
            "pattern": {
             "shape": ""
            }
           },
           "name": "Avg Close Winter",
           "offsetgroup": "Avg Close Winter",
           "orientation": "v",
           "showlegend": true,
           "textposition": "auto",
           "type": "bar",
           "x": [
            "Avg Close Winter"
           ],
           "xaxis": "x",
           "y": [
            136.329541015625
           ],
           "yaxis": "y"
          },
          {
           "alignmentgroup": "True",
           "hovertemplate": "Season=%{x}<br>Ticker=MSFT<br>Average Close Price=%{y}<extra></extra>",
           "legendgroup": "Avg Close Spring",
           "marker": {
            "color": "#EF553B",
            "pattern": {
             "shape": ""
            }
           },
           "name": "Avg Close Spring",
           "offsetgroup": "Avg Close Spring",
           "orientation": "v",
           "showlegend": true,
           "textposition": "auto",
           "type": "bar",
           "x": [
            "Avg Close Spring"
           ],
           "xaxis": "x",
           "y": [
            128.56591090796883
           ],
           "yaxis": "y"
          },
          {
           "alignmentgroup": "True",
           "hovertemplate": "Season=%{x}<br>Ticker=MSFT<br>Average Close Price=%{y}<extra></extra>",
           "legendgroup": "Avg Close Summer",
           "marker": {
            "color": "#00cc96",
            "pattern": {
             "shape": ""
            }
           },
           "name": "Avg Close Summer",
           "offsetgroup": "Avg Close Summer",
           "orientation": "v",
           "showlegend": true,
           "textposition": "auto",
           "type": "bar",
           "x": [
            "Avg Close Summer"
           ],
           "xaxis": "x",
           "y": [
            134.09318997969686
           ],
           "yaxis": "y"
          },
          {
           "alignmentgroup": "True",
           "hovertemplate": "Season=%{x}<br>Ticker=MSFT<br>Average Close Price=%{y}<extra></extra>",
           "legendgroup": "Avg Close Fall",
           "marker": {
            "color": "#ab63fa",
            "pattern": {
             "shape": ""
            }
           },
           "name": "Avg Close Fall",
           "offsetgroup": "Avg Close Fall",
           "orientation": "v",
           "showlegend": true,
           "textposition": "auto",
           "type": "bar",
           "x": [
            "Avg Close Fall"
           ],
           "xaxis": "x",
           "y": [
            139.19820286846962
           ],
           "yaxis": "y"
          }
         ],
         "name": "MSFT"
        },
        {
         "data": [
          {
           "alignmentgroup": "True",
           "hovertemplate": "Season=%{x}<br>Ticker=NEE<br>Average Close Price=%{y}<extra></extra>",
           "legendgroup": "Avg Close Winter",
           "marker": {
            "color": "#636efa",
            "pattern": {
             "shape": ""
            }
           },
           "name": "Avg Close Winter",
           "offsetgroup": "Avg Close Winter",
           "orientation": "v",
           "showlegend": true,
           "textposition": "auto",
           "type": "bar",
           "x": [
            "Avg Close Winter"
           ],
           "xaxis": "x",
           "y": [
            37.29271027555271
           ],
           "yaxis": "y"
          },
          {
           "alignmentgroup": "True",
           "hovertemplate": "Season=%{x}<br>Ticker=NEE<br>Average Close Price=%{y}<extra></extra>",
           "legendgroup": "Avg Close Spring",
           "marker": {
            "color": "#EF553B",
            "pattern": {
             "shape": ""
            }
           },
           "name": "Avg Close Spring",
           "offsetgroup": "Avg Close Spring",
           "orientation": "v",
           "showlegend": true,
           "textposition": "auto",
           "type": "bar",
           "x": [
            "Avg Close Spring"
           ],
           "xaxis": "x",
           "y": [
            36.42928670789407
           ],
           "yaxis": "y"
          },
          {
           "alignmentgroup": "True",
           "hovertemplate": "Season=%{x}<br>Ticker=NEE<br>Average Close Price=%{y}<extra></extra>",
           "legendgroup": "Avg Close Summer",
           "marker": {
            "color": "#00cc96",
            "pattern": {
             "shape": ""
            }
           },
           "name": "Avg Close Summer",
           "offsetgroup": "Avg Close Summer",
           "orientation": "v",
           "showlegend": true,
           "textposition": "auto",
           "type": "bar",
           "x": [
            "Avg Close Summer"
           ],
           "xaxis": "x",
           "y": [
            38.65321868433613
           ],
           "yaxis": "y"
          },
          {
           "alignmentgroup": "True",
           "hovertemplate": "Season=%{x}<br>Ticker=NEE<br>Average Close Price=%{y}<extra></extra>",
           "legendgroup": "Avg Close Fall",
           "marker": {
            "color": "#ab63fa",
            "pattern": {
             "shape": ""
            }
           },
           "name": "Avg Close Fall",
           "offsetgroup": "Avg Close Fall",
           "orientation": "v",
           "showlegend": true,
           "textposition": "auto",
           "type": "bar",
           "x": [
            "Avg Close Fall"
           ],
           "xaxis": "x",
           "y": [
            39.0078893088493
           ],
           "yaxis": "y"
          }
         ],
         "name": "NEE"
        },
        {
         "data": [
          {
           "alignmentgroup": "True",
           "hovertemplate": "Season=%{x}<br>Ticker=NFLX<br>Average Close Price=%{y}<extra></extra>",
           "legendgroup": "Avg Close Winter",
           "marker": {
            "color": "#636efa",
            "pattern": {
             "shape": ""
            }
           },
           "name": "Avg Close Winter",
           "offsetgroup": "Avg Close Winter",
           "orientation": "v",
           "showlegend": true,
           "textposition": "auto",
           "type": "bar",
           "x": [
            "Avg Close Winter"
           ],
           "xaxis": "x",
           "y": [
            261.694446317517
           ],
           "yaxis": "y"
          },
          {
           "alignmentgroup": "True",
           "hovertemplate": "Season=%{x}<br>Ticker=NFLX<br>Average Close Price=%{y}<extra></extra>",
           "legendgroup": "Avg Close Spring",
           "marker": {
            "color": "#EF553B",
            "pattern": {
             "shape": ""
            }
           },
           "name": "Avg Close Spring",
           "offsetgroup": "Avg Close Spring",
           "orientation": "v",
           "showlegend": true,
           "textposition": "auto",
           "type": "bar",
           "x": [
            "Avg Close Spring"
           ],
           "xaxis": "x",
           "y": [
            228.95140160975595
           ],
           "yaxis": "y"
          },
          {
           "alignmentgroup": "True",
           "hovertemplate": "Season=%{x}<br>Ticker=NFLX<br>Average Close Price=%{y}<extra></extra>",
           "legendgroup": "Avg Close Summer",
           "marker": {
            "color": "#00cc96",
            "pattern": {
             "shape": ""
            }
           },
           "name": "Avg Close Summer",
           "offsetgroup": "Avg Close Summer",
           "orientation": "v",
           "showlegend": true,
           "textposition": "auto",
           "type": "bar",
           "x": [
            "Avg Close Summer"
           ],
           "xaxis": "x",
           "y": [
            238.60219780820185
           ],
           "yaxis": "y"
          },
          {
           "alignmentgroup": "True",
           "hovertemplate": "Season=%{x}<br>Ticker=NFLX<br>Average Close Price=%{y}<extra></extra>",
           "legendgroup": "Avg Close Fall",
           "marker": {
            "color": "#ab63fa",
            "pattern": {
             "shape": ""
            }
           },
           "name": "Avg Close Fall",
           "offsetgroup": "Avg Close Fall",
           "orientation": "v",
           "showlegend": true,
           "textposition": "auto",
           "type": "bar",
           "x": [
            "Avg Close Fall"
           ],
           "xaxis": "x",
           "y": [
            257.9391965305104
           ],
           "yaxis": "y"
          }
         ],
         "name": "NFLX"
        },
        {
         "data": [
          {
           "alignmentgroup": "True",
           "hovertemplate": "Season=%{x}<br>Ticker=NOW<br>Average Close Price=%{y}<extra></extra>",
           "legendgroup": "Avg Close Winter",
           "marker": {
            "color": "#636efa",
            "pattern": {
             "shape": ""
            }
           },
           "name": "Avg Close Winter",
           "offsetgroup": "Avg Close Winter",
           "orientation": "v",
           "showlegend": true,
           "textposition": "auto",
           "type": "bar",
           "x": [
            "Avg Close Winter"
           ],
           "xaxis": "x",
           "y": [
            326.6948557103955
           ],
           "yaxis": "y"
          },
          {
           "alignmentgroup": "True",
           "hovertemplate": "Season=%{x}<br>Ticker=NOW<br>Average Close Price=%{y}<extra></extra>",
           "legendgroup": "Avg Close Spring",
           "marker": {
            "color": "#EF553B",
            "pattern": {
             "shape": ""
            }
           },
           "name": "Avg Close Spring",
           "offsetgroup": "Avg Close Spring",
           "orientation": "v",
           "showlegend": true,
           "textposition": "auto",
           "type": "bar",
           "x": [
            "Avg Close Spring"
           ],
           "xaxis": "x",
           "y": [
            283.447643113633
           ],
           "yaxis": "y"
          },
          {
           "alignmentgroup": "True",
           "hovertemplate": "Season=%{x}<br>Ticker=NOW<br>Average Close Price=%{y}<extra></extra>",
           "legendgroup": "Avg Close Summer",
           "marker": {
            "color": "#00cc96",
            "pattern": {
             "shape": ""
            }
           },
           "name": "Avg Close Summer",
           "offsetgroup": "Avg Close Summer",
           "orientation": "v",
           "showlegend": true,
           "textposition": "auto",
           "type": "bar",
           "x": [
            "Avg Close Summer"
           ],
           "xaxis": "x",
           "y": [
            288.8172831604446
           ],
           "yaxis": "y"
          },
          {
           "alignmentgroup": "True",
           "hovertemplate": "Season=%{x}<br>Ticker=NOW<br>Average Close Price=%{y}<extra></extra>",
           "legendgroup": "Avg Close Fall",
           "marker": {
            "color": "#ab63fa",
            "pattern": {
             "shape": ""
            }
           },
           "name": "Avg Close Fall",
           "offsetgroup": "Avg Close Fall",
           "orientation": "v",
           "showlegend": true,
           "textposition": "auto",
           "type": "bar",
           "x": [
            "Avg Close Fall"
           ],
           "xaxis": "x",
           "y": [
            315.30254487933536
           ],
           "yaxis": "y"
          }
         ],
         "name": "NOW"
        },
        {
         "data": [
          {
           "alignmentgroup": "True",
           "hovertemplate": "Season=%{x}<br>Ticker=NVDA<br>Average Close Price=%{y}<extra></extra>",
           "legendgroup": "Avg Close Winter",
           "marker": {
            "color": "#636efa",
            "pattern": {
             "shape": ""
            }
           },
           "name": "Avg Close Winter",
           "offsetgroup": "Avg Close Winter",
           "orientation": "v",
           "showlegend": true,
           "textposition": "auto",
           "type": "bar",
           "x": [
            "Avg Close Winter"
           ],
           "xaxis": "x",
           "y": [
            17.41886608460728
           ],
           "yaxis": "y"
          },
          {
           "alignmentgroup": "True",
           "hovertemplate": "Season=%{x}<br>Ticker=NVDA<br>Average Close Price=%{y}<extra></extra>",
           "legendgroup": "Avg Close Spring",
           "marker": {
            "color": "#EF553B",
            "pattern": {
             "shape": ""
            }
           },
           "name": "Avg Close Spring",
           "offsetgroup": "Avg Close Spring",
           "orientation": "v",
           "showlegend": true,
           "textposition": "auto",
           "type": "bar",
           "x": [
            "Avg Close Spring"
           ],
           "xaxis": "x",
           "y": [
            13.823815332343765
           ],
           "yaxis": "y"
          },
          {
           "alignmentgroup": "True",
           "hovertemplate": "Season=%{x}<br>Ticker=NVDA<br>Average Close Price=%{y}<extra></extra>",
           "legendgroup": "Avg Close Summer",
           "marker": {
            "color": "#00cc96",
            "pattern": {
             "shape": ""
            }
           },
           "name": "Avg Close Summer",
           "offsetgroup": "Avg Close Summer",
           "orientation": "v",
           "showlegend": true,
           "textposition": "auto",
           "type": "bar",
           "x": [
            "Avg Close Summer"
           ],
           "xaxis": "x",
           "y": [
            15.296203705790028
           ],
           "yaxis": "y"
          },
          {
           "alignmentgroup": "True",
           "hovertemplate": "Season=%{x}<br>Ticker=NVDA<br>Average Close Price=%{y}<extra></extra>",
           "legendgroup": "Avg Close Fall",
           "marker": {
            "color": "#ab63fa",
            "pattern": {
             "shape": ""
            }
           },
           "name": "Avg Close Fall",
           "offsetgroup": "Avg Close Fall",
           "orientation": "v",
           "showlegend": true,
           "textposition": "auto",
           "type": "bar",
           "x": [
            "Avg Close Fall"
           ],
           "xaxis": "x",
           "y": [
            17.33238189628332
           ],
           "yaxis": "y"
          }
         ],
         "name": "NVDA"
        },
        {
         "data": [
          {
           "alignmentgroup": "True",
           "hovertemplate": "Season=%{x}<br>Ticker=ORCL<br>Average Close Price=%{y}<extra></extra>",
           "legendgroup": "Avg Close Winter",
           "marker": {
            "color": "#636efa",
            "pattern": {
             "shape": ""
            }
           },
           "name": "Avg Close Winter",
           "offsetgroup": "Avg Close Winter",
           "orientation": "v",
           "showlegend": true,
           "textposition": "auto",
           "type": "bar",
           "x": [
            "Avg Close Winter"
           ],
           "xaxis": "x",
           "y": [
            54.47497623404678
           ],
           "yaxis": "y"
          },
          {
           "alignmentgroup": "True",
           "hovertemplate": "Season=%{x}<br>Ticker=ORCL<br>Average Close Price=%{y}<extra></extra>",
           "legendgroup": "Avg Close Spring",
           "marker": {
            "color": "#EF553B",
            "pattern": {
             "shape": ""
            }
           },
           "name": "Avg Close Spring",
           "offsetgroup": "Avg Close Spring",
           "orientation": "v",
           "showlegend": true,
           "textposition": "auto",
           "type": "bar",
           "x": [
            "Avg Close Spring"
           ],
           "xaxis": "x",
           "y": [
            50.89223876657845
           ],
           "yaxis": "y"
          },
          {
           "alignmentgroup": "True",
           "hovertemplate": "Season=%{x}<br>Ticker=ORCL<br>Average Close Price=%{y}<extra></extra>",
           "legendgroup": "Avg Close Summer",
           "marker": {
            "color": "#00cc96",
            "pattern": {
             "shape": ""
            }
           },
           "name": "Avg Close Summer",
           "offsetgroup": "Avg Close Summer",
           "orientation": "v",
           "showlegend": true,
           "textposition": "auto",
           "type": "bar",
           "x": [
            "Avg Close Summer"
           ],
           "xaxis": "x",
           "y": [
            53.44311889744204
           ],
           "yaxis": "y"
          },
          {
           "alignmentgroup": "True",
           "hovertemplate": "Season=%{x}<br>Ticker=ORCL<br>Average Close Price=%{y}<extra></extra>",
           "legendgroup": "Avg Close Fall",
           "marker": {
            "color": "#ab63fa",
            "pattern": {
             "shape": ""
            }
           },
           "name": "Avg Close Fall",
           "offsetgroup": "Avg Close Fall",
           "orientation": "v",
           "showlegend": true,
           "textposition": "auto",
           "type": "bar",
           "x": [
            "Avg Close Fall"
           ],
           "xaxis": "x",
           "y": [
            56.4450928423585
           ],
           "yaxis": "y"
          }
         ],
         "name": "ORCL"
        },
        {
         "data": [
          {
           "alignmentgroup": "True",
           "hovertemplate": "Season=%{x}<br>Ticker=PANW<br>Average Close Price=%{y}<extra></extra>",
           "legendgroup": "Avg Close Winter",
           "marker": {
            "color": "#636efa",
            "pattern": {
             "shape": ""
            }
           },
           "name": "Avg Close Winter",
           "offsetgroup": "Avg Close Winter",
           "orientation": "v",
           "showlegend": true,
           "textposition": "auto",
           "type": "bar",
           "x": [
            "Avg Close Winter"
           ],
           "xaxis": "x",
           "y": [
            58.817090069872776
           ],
           "yaxis": "y"
          },
          {
           "alignmentgroup": "True",
           "hovertemplate": "Season=%{x}<br>Ticker=PANW<br>Average Close Price=%{y}<extra></extra>",
           "legendgroup": "Avg Close Spring",
           "marker": {
            "color": "#EF553B",
            "pattern": {
             "shape": ""
            }
           },
           "name": "Avg Close Spring",
           "offsetgroup": "Avg Close Spring",
           "orientation": "v",
           "showlegend": true,
           "textposition": "auto",
           "type": "bar",
           "x": [
            "Avg Close Spring"
           ],
           "xaxis": "x",
           "y": [
            51.065601904047206
           ],
           "yaxis": "y"
          },
          {
           "alignmentgroup": "True",
           "hovertemplate": "Season=%{x}<br>Ticker=PANW<br>Average Close Price=%{y}<extra></extra>",
           "legendgroup": "Avg Close Summer",
           "marker": {
            "color": "#00cc96",
            "pattern": {
             "shape": ""
            }
           },
           "name": "Avg Close Summer",
           "offsetgroup": "Avg Close Summer",
           "orientation": "v",
           "showlegend": true,
           "textposition": "auto",
           "type": "bar",
           "x": [
            "Avg Close Summer"
           ],
           "xaxis": "x",
           "y": [
            51.798132915730854
           ],
           "yaxis": "y"
          },
          {
           "alignmentgroup": "True",
           "hovertemplate": "Season=%{x}<br>Ticker=PANW<br>Average Close Price=%{y}<extra></extra>",
           "legendgroup": "Avg Close Fall",
           "marker": {
            "color": "#ab63fa",
            "pattern": {
             "shape": ""
            }
           },
           "name": "Avg Close Fall",
           "offsetgroup": "Avg Close Fall",
           "orientation": "v",
           "showlegend": true,
           "textposition": "auto",
           "type": "bar",
           "x": [
            "Avg Close Fall"
           ],
           "xaxis": "x",
           "y": [
            55.31635349447077
           ],
           "yaxis": "y"
          }
         ],
         "name": "PANW"
        },
        {
         "data": [
          {
           "alignmentgroup": "True",
           "hovertemplate": "Season=%{x}<br>Ticker=PEP<br>Average Close Price=%{y}<extra></extra>",
           "legendgroup": "Avg Close Winter",
           "marker": {
            "color": "#636efa",
            "pattern": {
             "shape": ""
            }
           },
           "name": "Avg Close Winter",
           "offsetgroup": "Avg Close Winter",
           "orientation": "v",
           "showlegend": true,
           "textposition": "auto",
           "type": "bar",
           "x": [
            "Avg Close Winter"
           ],
           "xaxis": "x",
           "y": [
            95.09631014843376
           ],
           "yaxis": "y"
          },
          {
           "alignmentgroup": "True",
           "hovertemplate": "Season=%{x}<br>Ticker=PEP<br>Average Close Price=%{y}<extra></extra>",
           "legendgroup": "Avg Close Spring",
           "marker": {
            "color": "#EF553B",
            "pattern": {
             "shape": ""
            }
           },
           "name": "Avg Close Spring",
           "offsetgroup": "Avg Close Spring",
           "orientation": "v",
           "showlegend": true,
           "textposition": "auto",
           "type": "bar",
           "x": [
            "Avg Close Spring"
           ],
           "xaxis": "x",
           "y": [
            95.65436928641348
           ],
           "yaxis": "y"
          },
          {
           "alignmentgroup": "True",
           "hovertemplate": "Season=%{x}<br>Ticker=PEP<br>Average Close Price=%{y}<extra></extra>",
           "legendgroup": "Avg Close Summer",
           "marker": {
            "color": "#00cc96",
            "pattern": {
             "shape": ""
            }
           },
           "name": "Avg Close Summer",
           "offsetgroup": "Avg Close Summer",
           "orientation": "v",
           "showlegend": true,
           "textposition": "auto",
           "type": "bar",
           "x": [
            "Avg Close Summer"
           ],
           "xaxis": "x",
           "y": [
            98.01898310673286
           ],
           "yaxis": "y"
          },
          {
           "alignmentgroup": "True",
           "hovertemplate": "Season=%{x}<br>Ticker=PEP<br>Average Close Price=%{y}<extra></extra>",
           "legendgroup": "Avg Close Fall",
           "marker": {
            "color": "#ab63fa",
            "pattern": {
             "shape": ""
            }
           },
           "name": "Avg Close Fall",
           "offsetgroup": "Avg Close Fall",
           "orientation": "v",
           "showlegend": true,
           "textposition": "auto",
           "type": "bar",
           "x": [
            "Avg Close Fall"
           ],
           "xaxis": "x",
           "y": [
            98.86304426994644
           ],
           "yaxis": "y"
          }
         ],
         "name": "PEP"
        },
        {
         "data": [
          {
           "alignmentgroup": "True",
           "hovertemplate": "Season=%{x}<br>Ticker=PFE<br>Average Close Price=%{y}<extra></extra>",
           "legendgroup": "Avg Close Winter",
           "marker": {
            "color": "#636efa",
            "pattern": {
             "shape": ""
            }
           },
           "name": "Avg Close Winter",
           "offsetgroup": "Avg Close Winter",
           "orientation": "v",
           "showlegend": true,
           "textposition": "auto",
           "type": "bar",
           "x": [
            "Avg Close Winter"
           ],
           "xaxis": "x",
           "y": [
            23.754808454124294
           ],
           "yaxis": "y"
          },
          {
           "alignmentgroup": "True",
           "hovertemplate": "Season=%{x}<br>Ticker=PFE<br>Average Close Price=%{y}<extra></extra>",
           "legendgroup": "Avg Close Spring",
           "marker": {
            "color": "#EF553B",
            "pattern": {
             "shape": ""
            }
           },
           "name": "Avg Close Spring",
           "offsetgroup": "Avg Close Spring",
           "orientation": "v",
           "showlegend": true,
           "textposition": "auto",
           "type": "bar",
           "x": [
            "Avg Close Spring"
           ],
           "xaxis": "x",
           "y": [
            23.787094505262175
           ],
           "yaxis": "y"
          },
          {
           "alignmentgroup": "True",
           "hovertemplate": "Season=%{x}<br>Ticker=PFE<br>Average Close Price=%{y}<extra></extra>",
           "legendgroup": "Avg Close Summer",
           "marker": {
            "color": "#00cc96",
            "pattern": {
             "shape": ""
            }
           },
           "name": "Avg Close Summer",
           "offsetgroup": "Avg Close Summer",
           "orientation": "v",
           "showlegend": true,
           "textposition": "auto",
           "type": "bar",
           "x": [
            "Avg Close Summer"
           ],
           "xaxis": "x",
           "y": [
            24.2695923385261
           ],
           "yaxis": "y"
          },
          {
           "alignmentgroup": "True",
           "hovertemplate": "Season=%{x}<br>Ticker=PFE<br>Average Close Price=%{y}<extra></extra>",
           "legendgroup": "Avg Close Fall",
           "marker": {
            "color": "#ab63fa",
            "pattern": {
             "shape": ""
            }
           },
           "name": "Avg Close Fall",
           "offsetgroup": "Avg Close Fall",
           "orientation": "v",
           "showlegend": true,
           "textposition": "auto",
           "type": "bar",
           "x": [
            "Avg Close Fall"
           ],
           "xaxis": "x",
           "y": [
            24.68175516409033
           ],
           "yaxis": "y"
          }
         ],
         "name": "PFE"
        },
        {
         "data": [
          {
           "alignmentgroup": "True",
           "hovertemplate": "Season=%{x}<br>Ticker=PG<br>Average Close Price=%{y}<extra></extra>",
           "legendgroup": "Avg Close Winter",
           "marker": {
            "color": "#636efa",
            "pattern": {
             "shape": ""
            }
           },
           "name": "Avg Close Winter",
           "offsetgroup": "Avg Close Winter",
           "orientation": "v",
           "showlegend": true,
           "textposition": "auto",
           "type": "bar",
           "x": [
            "Avg Close Winter"
           ],
           "xaxis": "x",
           "y": [
            88.4346296816456
           ],
           "yaxis": "y"
          },
          {
           "alignmentgroup": "True",
           "hovertemplate": "Season=%{x}<br>Ticker=PG<br>Average Close Price=%{y}<extra></extra>",
           "legendgroup": "Avg Close Spring",
           "marker": {
            "color": "#EF553B",
            "pattern": {
             "shape": ""
            }
           },
           "name": "Avg Close Spring",
           "offsetgroup": "Avg Close Spring",
           "orientation": "v",
           "showlegend": true,
           "textposition": "auto",
           "type": "bar",
           "x": [
            "Avg Close Spring"
           ],
           "xaxis": "x",
           "y": [
            85.14730581179822
           ],
           "yaxis": "y"
          },
          {
           "alignmentgroup": "True",
           "hovertemplate": "Season=%{x}<br>Ticker=PG<br>Average Close Price=%{y}<extra></extra>",
           "legendgroup": "Avg Close Summer",
           "marker": {
            "color": "#00cc96",
            "pattern": {
             "shape": ""
            }
           },
           "name": "Avg Close Summer",
           "offsetgroup": "Avg Close Summer",
           "orientation": "v",
           "showlegend": true,
           "textposition": "auto",
           "type": "bar",
           "x": [
            "Avg Close Summer"
           ],
           "xaxis": "x",
           "y": [
            87.75535901919568
           ],
           "yaxis": "y"
          },
          {
           "alignmentgroup": "True",
           "hovertemplate": "Season=%{x}<br>Ticker=PG<br>Average Close Price=%{y}<extra></extra>",
           "legendgroup": "Avg Close Fall",
           "marker": {
            "color": "#ab63fa",
            "pattern": {
             "shape": ""
            }
           },
           "name": "Avg Close Fall",
           "offsetgroup": "Avg Close Fall",
           "orientation": "v",
           "showlegend": true,
           "textposition": "auto",
           "type": "bar",
           "x": [
            "Avg Close Fall"
           ],
           "xaxis": "x",
           "y": [
            90.1905550596093
           ],
           "yaxis": "y"
          }
         ],
         "name": "PG"
        },
        {
         "data": [
          {
           "alignmentgroup": "True",
           "hovertemplate": "Season=%{x}<br>Ticker=PGR<br>Average Close Price=%{y}<extra></extra>",
           "legendgroup": "Avg Close Winter",
           "marker": {
            "color": "#636efa",
            "pattern": {
             "shape": ""
            }
           },
           "name": "Avg Close Winter",
           "offsetgroup": "Avg Close Winter",
           "orientation": "v",
           "showlegend": true,
           "textposition": "auto",
           "type": "bar",
           "x": [
            "Avg Close Winter"
           ],
           "xaxis": "x",
           "y": [
            68.26081737498848
           ],
           "yaxis": "y"
          },
          {
           "alignmentgroup": "True",
           "hovertemplate": "Season=%{x}<br>Ticker=PGR<br>Average Close Price=%{y}<extra></extra>",
           "legendgroup": "Avg Close Spring",
           "marker": {
            "color": "#EF553B",
            "pattern": {
             "shape": ""
            }
           },
           "name": "Avg Close Spring",
           "offsetgroup": "Avg Close Spring",
           "orientation": "v",
           "showlegend": true,
           "textposition": "auto",
           "type": "bar",
           "x": [
            "Avg Close Spring"
           ],
           "xaxis": "x",
           "y": [
            61.31842870792086
           ],
           "yaxis": "y"
          },
          {
           "alignmentgroup": "True",
           "hovertemplate": "Season=%{x}<br>Ticker=PGR<br>Average Close Price=%{y}<extra></extra>",
           "legendgroup": "Avg Close Summer",
           "marker": {
            "color": "#00cc96",
            "pattern": {
             "shape": ""
            }
           },
           "name": "Avg Close Summer",
           "offsetgroup": "Avg Close Summer",
           "orientation": "v",
           "showlegend": true,
           "textposition": "auto",
           "type": "bar",
           "x": [
            "Avg Close Summer"
           ],
           "xaxis": "x",
           "y": [
            62.17097583774742
           ],
           "yaxis": "y"
          },
          {
           "alignmentgroup": "True",
           "hovertemplate": "Season=%{x}<br>Ticker=PGR<br>Average Close Price=%{y}<extra></extra>",
           "legendgroup": "Avg Close Fall",
           "marker": {
            "color": "#ab63fa",
            "pattern": {
             "shape": ""
            }
           },
           "name": "Avg Close Fall",
           "offsetgroup": "Avg Close Fall",
           "orientation": "v",
           "showlegend": true,
           "textposition": "auto",
           "type": "bar",
           "x": [
            "Avg Close Fall"
           ],
           "xaxis": "x",
           "y": [
            66.27043286892547
           ],
           "yaxis": "y"
          }
         ],
         "name": "PGR"
        },
        {
         "data": [
          {
           "alignmentgroup": "True",
           "hovertemplate": "Season=%{x}<br>Ticker=PLTR<br>Average Close Price=%{y}<extra></extra>",
           "legendgroup": "Avg Close Winter",
           "marker": {
            "color": "#636efa",
            "pattern": {
             "shape": ""
            }
           },
           "name": "Avg Close Winter",
           "offsetgroup": "Avg Close Winter",
           "orientation": "v",
           "showlegend": true,
           "textposition": "auto",
           "type": "bar",
           "x": [
            "Avg Close Winter"
           ],
           "xaxis": "x",
           "y": [
            31.222222236246843
           ],
           "yaxis": "y"
          },
          {
           "alignmentgroup": "True",
           "hovertemplate": "Season=%{x}<br>Ticker=PLTR<br>Average Close Price=%{y}<extra></extra>",
           "legendgroup": "Avg Close Spring",
           "marker": {
            "color": "#EF553B",
            "pattern": {
             "shape": ""
            }
           },
           "name": "Avg Close Spring",
           "offsetgroup": "Avg Close Spring",
           "orientation": "v",
           "showlegend": true,
           "textposition": "auto",
           "type": "bar",
           "x": [
            "Avg Close Spring"
           ],
           "xaxis": "x",
           "y": [
            19.3837691783905
           ],
           "yaxis": "y"
          },
          {
           "alignmentgroup": "True",
           "hovertemplate": "Season=%{x}<br>Ticker=PLTR<br>Average Close Price=%{y}<extra></extra>",
           "legendgroup": "Avg Close Summer",
           "marker": {
            "color": "#00cc96",
            "pattern": {
             "shape": ""
            }
           },
           "name": "Avg Close Summer",
           "offsetgroup": "Avg Close Summer",
           "orientation": "v",
           "showlegend": true,
           "textposition": "auto",
           "type": "bar",
           "x": [
            "Avg Close Summer"
           ],
           "xaxis": "x",
           "y": [
            19.949882805347443
           ],
           "yaxis": "y"
          },
          {
           "alignmentgroup": "True",
           "hovertemplate": "Season=%{x}<br>Ticker=PLTR<br>Average Close Price=%{y}<extra></extra>",
           "legendgroup": "Avg Close Fall",
           "marker": {
            "color": "#ab63fa",
            "pattern": {
             "shape": ""
            }
           },
           "name": "Avg Close Fall",
           "offsetgroup": "Avg Close Fall",
           "orientation": "v",
           "showlegend": true,
           "textposition": "auto",
           "type": "bar",
           "x": [
            "Avg Close Fall"
           ],
           "xaxis": "x",
           "y": [
            24.7979559583484
           ],
           "yaxis": "y"
          }
         ],
         "name": "PLTR"
        },
        {
         "data": [
          {
           "alignmentgroup": "True",
           "hovertemplate": "Season=%{x}<br>Ticker=PM<br>Average Close Price=%{y}<extra></extra>",
           "legendgroup": "Avg Close Winter",
           "marker": {
            "color": "#636efa",
            "pattern": {
             "shape": ""
            }
           },
           "name": "Avg Close Winter",
           "offsetgroup": "Avg Close Winter",
           "orientation": "v",
           "showlegend": true,
           "textposition": "auto",
           "type": "bar",
           "x": [
            "Avg Close Winter"
           ],
           "xaxis": "x",
           "y": [
            64.09288875034878
           ],
           "yaxis": "y"
          },
          {
           "alignmentgroup": "True",
           "hovertemplate": "Season=%{x}<br>Ticker=PM<br>Average Close Price=%{y}<extra></extra>",
           "legendgroup": "Avg Close Spring",
           "marker": {
            "color": "#EF553B",
            "pattern": {
             "shape": ""
            }
           },
           "name": "Avg Close Spring",
           "offsetgroup": "Avg Close Spring",
           "orientation": "v",
           "showlegend": true,
           "textposition": "auto",
           "type": "bar",
           "x": [
            "Avg Close Spring"
           ],
           "xaxis": "x",
           "y": [
            61.88153373047896
           ],
           "yaxis": "y"
          },
          {
           "alignmentgroup": "True",
           "hovertemplate": "Season=%{x}<br>Ticker=PM<br>Average Close Price=%{y}<extra></extra>",
           "legendgroup": "Avg Close Summer",
           "marker": {
            "color": "#00cc96",
            "pattern": {
             "shape": ""
            }
           },
           "name": "Avg Close Summer",
           "offsetgroup": "Avg Close Summer",
           "orientation": "v",
           "showlegend": true,
           "textposition": "auto",
           "type": "bar",
           "x": [
            "Avg Close Summer"
           ],
           "xaxis": "x",
           "y": [
            62.784053714704314
           ],
           "yaxis": "y"
          },
          {
           "alignmentgroup": "True",
           "hovertemplate": "Season=%{x}<br>Ticker=PM<br>Average Close Price=%{y}<extra></extra>",
           "legendgroup": "Avg Close Fall",
           "marker": {
            "color": "#ab63fa",
            "pattern": {
             "shape": ""
            }
           },
           "name": "Avg Close Fall",
           "offsetgroup": "Avg Close Fall",
           "orientation": "v",
           "showlegend": true,
           "textposition": "auto",
           "type": "bar",
           "x": [
            "Avg Close Fall"
           ],
           "xaxis": "x",
           "y": [
            63.569751537146686
           ],
           "yaxis": "y"
          }
         ],
         "name": "PM"
        },
        {
         "data": [
          {
           "alignmentgroup": "True",
           "hovertemplate": "Season=%{x}<br>Ticker=QCOM<br>Average Close Price=%{y}<extra></extra>",
           "legendgroup": "Avg Close Winter",
           "marker": {
            "color": "#636efa",
            "pattern": {
             "shape": ""
            }
           },
           "name": "Avg Close Winter",
           "offsetgroup": "Avg Close Winter",
           "orientation": "v",
           "showlegend": true,
           "textposition": "auto",
           "type": "bar",
           "x": [
            "Avg Close Winter"
           ],
           "xaxis": "x",
           "y": [
            77.45401850719841
           ],
           "yaxis": "y"
          },
          {
           "alignmentgroup": "True",
           "hovertemplate": "Season=%{x}<br>Ticker=QCOM<br>Average Close Price=%{y}<extra></extra>",
           "legendgroup": "Avg Close Spring",
           "marker": {
            "color": "#EF553B",
            "pattern": {
             "shape": ""
            }
           },
           "name": "Avg Close Spring",
           "offsetgroup": "Avg Close Spring",
           "orientation": "v",
           "showlegend": true,
           "textposition": "auto",
           "type": "bar",
           "x": [
            "Avg Close Spring"
           ],
           "xaxis": "x",
           "y": [
            72.3690972328186
           ],
           "yaxis": "y"
          },
          {
           "alignmentgroup": "True",
           "hovertemplate": "Season=%{x}<br>Ticker=QCOM<br>Average Close Price=%{y}<extra></extra>",
           "legendgroup": "Avg Close Summer",
           "marker": {
            "color": "#00cc96",
            "pattern": {
             "shape": ""
            }
           },
           "name": "Avg Close Summer",
           "offsetgroup": "Avg Close Summer",
           "orientation": "v",
           "showlegend": true,
           "textposition": "auto",
           "type": "bar",
           "x": [
            "Avg Close Summer"
           ],
           "xaxis": "x",
           "y": [
            74.06327523945764
           ],
           "yaxis": "y"
          },
          {
           "alignmentgroup": "True",
           "hovertemplate": "Season=%{x}<br>Ticker=QCOM<br>Average Close Price=%{y}<extra></extra>",
           "legendgroup": "Avg Close Fall",
           "marker": {
            "color": "#ab63fa",
            "pattern": {
             "shape": ""
            }
           },
           "name": "Avg Close Fall",
           "offsetgroup": "Avg Close Fall",
           "orientation": "v",
           "showlegend": true,
           "textposition": "auto",
           "type": "bar",
           "x": [
            "Avg Close Fall"
           ],
           "xaxis": "x",
           "y": [
            77.27168363883716
           ],
           "yaxis": "y"
          }
         ],
         "name": "QCOM"
        },
        {
         "data": [
          {
           "alignmentgroup": "True",
           "hovertemplate": "Season=%{x}<br>Ticker=RTX<br>Average Close Price=%{y}<extra></extra>",
           "legendgroup": "Avg Close Winter",
           "marker": {
            "color": "#636efa",
            "pattern": {
             "shape": ""
            }
           },
           "name": "Avg Close Winter",
           "offsetgroup": "Avg Close Winter",
           "orientation": "v",
           "showlegend": true,
           "textposition": "auto",
           "type": "bar",
           "x": [
            "Avg Close Winter"
           ],
           "xaxis": "x",
           "y": [
            64.74554593611737
           ],
           "yaxis": "y"
          },
          {
           "alignmentgroup": "True",
           "hovertemplate": "Season=%{x}<br>Ticker=RTX<br>Average Close Price=%{y}<extra></extra>",
           "legendgroup": "Avg Close Spring",
           "marker": {
            "color": "#EF553B",
            "pattern": {
             "shape": ""
            }
           },
           "name": "Avg Close Spring",
           "offsetgroup": "Avg Close Spring",
           "orientation": "v",
           "showlegend": true,
           "textposition": "auto",
           "type": "bar",
           "x": [
            "Avg Close Spring"
           ],
           "xaxis": "x",
           "y": [
            62.851530607774166
           ],
           "yaxis": "y"
          },
          {
           "alignmentgroup": "True",
           "hovertemplate": "Season=%{x}<br>Ticker=RTX<br>Average Close Price=%{y}<extra></extra>",
           "legendgroup": "Avg Close Summer",
           "marker": {
            "color": "#00cc96",
            "pattern": {
             "shape": ""
            }
           },
           "name": "Avg Close Summer",
           "offsetgroup": "Avg Close Summer",
           "orientation": "v",
           "showlegend": true,
           "textposition": "auto",
           "type": "bar",
           "x": [
            "Avg Close Summer"
           ],
           "xaxis": "x",
           "y": [
            61.69058613398085
           ],
           "yaxis": "y"
          },
          {
           "alignmentgroup": "True",
           "hovertemplate": "Season=%{x}<br>Ticker=RTX<br>Average Close Price=%{y}<extra></extra>",
           "legendgroup": "Avg Close Fall",
           "marker": {
            "color": "#ab63fa",
            "pattern": {
             "shape": ""
            }
           },
           "name": "Avg Close Fall",
           "offsetgroup": "Avg Close Fall",
           "orientation": "v",
           "showlegend": true,
           "textposition": "auto",
           "type": "bar",
           "x": [
            "Avg Close Fall"
           ],
           "xaxis": "x",
           "y": [
            63.24338399662691
           ],
           "yaxis": "y"
          }
         ],
         "name": "RTX"
        },
        {
         "data": [
          {
           "alignmentgroup": "True",
           "hovertemplate": "Season=%{x}<br>Ticker=SBUX<br>Average Close Price=%{y}<extra></extra>",
           "legendgroup": "Avg Close Winter",
           "marker": {
            "color": "#636efa",
            "pattern": {
             "shape": ""
            }
           },
           "name": "Avg Close Winter",
           "offsetgroup": "Avg Close Winter",
           "orientation": "v",
           "showlegend": true,
           "textposition": "auto",
           "type": "bar",
           "x": [
            "Avg Close Winter"
           ],
           "xaxis": "x",
           "y": [
            55.361143528685275
           ],
           "yaxis": "y"
          },
          {
           "alignmentgroup": "True",
           "hovertemplate": "Season=%{x}<br>Ticker=SBUX<br>Average Close Price=%{y}<extra></extra>",
           "legendgroup": "Avg Close Spring",
           "marker": {
            "color": "#EF553B",
            "pattern": {
             "shape": ""
            }
           },
           "name": "Avg Close Spring",
           "offsetgroup": "Avg Close Spring",
           "orientation": "v",
           "showlegend": true,
           "textposition": "auto",
           "type": "bar",
           "x": [
            "Avg Close Spring"
           ],
           "xaxis": "x",
           "y": [
            52.370977656113055
           ],
           "yaxis": "y"
          },
          {
           "alignmentgroup": "True",
           "hovertemplate": "Season=%{x}<br>Ticker=SBUX<br>Average Close Price=%{y}<extra></extra>",
           "legendgroup": "Avg Close Summer",
           "marker": {
            "color": "#00cc96",
            "pattern": {
             "shape": ""
            }
           },
           "name": "Avg Close Summer",
           "offsetgroup": "Avg Close Summer",
           "orientation": "v",
           "showlegend": true,
           "textposition": "auto",
           "type": "bar",
           "x": [
            "Avg Close Summer"
           ],
           "xaxis": "x",
           "y": [
            54.17139744559093
           ],
           "yaxis": "y"
          },
          {
           "alignmentgroup": "True",
           "hovertemplate": "Season=%{x}<br>Ticker=SBUX<br>Average Close Price=%{y}<extra></extra>",
           "legendgroup": "Avg Close Fall",
           "marker": {
            "color": "#ab63fa",
            "pattern": {
             "shape": ""
            }
           },
           "name": "Avg Close Fall",
           "offsetgroup": "Avg Close Fall",
           "orientation": "v",
           "showlegend": true,
           "textposition": "auto",
           "type": "bar",
           "x": [
            "Avg Close Fall"
           ],
           "xaxis": "x",
           "y": [
            57.33761196577248
           ],
           "yaxis": "y"
          }
         ],
         "name": "SBUX"
        },
        {
         "data": [
          {
           "alignmentgroup": "True",
           "hovertemplate": "Season=%{x}<br>Ticker=SCHW<br>Average Close Price=%{y}<extra></extra>",
           "legendgroup": "Avg Close Winter",
           "marker": {
            "color": "#636efa",
            "pattern": {
             "shape": ""
            }
           },
           "name": "Avg Close Winter",
           "offsetgroup": "Avg Close Winter",
           "orientation": "v",
           "showlegend": true,
           "textposition": "auto",
           "type": "bar",
           "x": [
            "Avg Close Winter"
           ],
           "xaxis": "x",
           "y": [
            40.62365980440256
           ],
           "yaxis": "y"
          },
          {
           "alignmentgroup": "True",
           "hovertemplate": "Season=%{x}<br>Ticker=SCHW<br>Average Close Price=%{y}<extra></extra>",
           "legendgroup": "Avg Close Spring",
           "marker": {
            "color": "#EF553B",
            "pattern": {
             "shape": ""
            }
           },
           "name": "Avg Close Spring",
           "offsetgroup": "Avg Close Spring",
           "orientation": "v",
           "showlegend": true,
           "textposition": "auto",
           "type": "bar",
           "x": [
            "Avg Close Spring"
           ],
           "xaxis": "x",
           "y": [
            36.98156157597338
           ],
           "yaxis": "y"
          },
          {
           "alignmentgroup": "True",
           "hovertemplate": "Season=%{x}<br>Ticker=SCHW<br>Average Close Price=%{y}<extra></extra>",
           "legendgroup": "Avg Close Summer",
           "marker": {
            "color": "#00cc96",
            "pattern": {
             "shape": ""
            }
           },
           "name": "Avg Close Summer",
           "offsetgroup": "Avg Close Summer",
           "orientation": "v",
           "showlegend": true,
           "textposition": "auto",
           "type": "bar",
           "x": [
            "Avg Close Summer"
           ],
           "xaxis": "x",
           "y": [
            36.36366035349698
           ],
           "yaxis": "y"
          },
          {
           "alignmentgroup": "True",
           "hovertemplate": "Season=%{x}<br>Ticker=SCHW<br>Average Close Price=%{y}<extra></extra>",
           "legendgroup": "Avg Close Fall",
           "marker": {
            "color": "#ab63fa",
            "pattern": {
             "shape": ""
            }
           },
           "name": "Avg Close Fall",
           "offsetgroup": "Avg Close Fall",
           "orientation": "v",
           "showlegend": true,
           "textposition": "auto",
           "type": "bar",
           "x": [
            "Avg Close Fall"
           ],
           "xaxis": "x",
           "y": [
            39.44666090332159
           ],
           "yaxis": "y"
          }
         ],
         "name": "SCHW"
        },
        {
         "data": [
          {
           "alignmentgroup": "True",
           "hovertemplate": "Season=%{x}<br>Ticker=SO<br>Average Close Price=%{y}<extra></extra>",
           "legendgroup": "Avg Close Winter",
           "marker": {
            "color": "#636efa",
            "pattern": {
             "shape": ""
            }
           },
           "name": "Avg Close Winter",
           "offsetgroup": "Avg Close Winter",
           "orientation": "v",
           "showlegend": true,
           "textposition": "auto",
           "type": "bar",
           "x": [
            "Avg Close Winter"
           ],
           "xaxis": "x",
           "y": [
            41.36606592061568
           ],
           "yaxis": "y"
          },
          {
           "alignmentgroup": "True",
           "hovertemplate": "Season=%{x}<br>Ticker=SO<br>Average Close Price=%{y}<extra></extra>",
           "legendgroup": "Avg Close Spring",
           "marker": {
            "color": "#EF553B",
            "pattern": {
             "shape": ""
            }
           },
           "name": "Avg Close Spring",
           "offsetgroup": "Avg Close Spring",
           "orientation": "v",
           "showlegend": true,
           "textposition": "auto",
           "type": "bar",
           "x": [
            "Avg Close Spring"
           ],
           "xaxis": "x",
           "y": [
            40.61239867030826
           ],
           "yaxis": "y"
          },
          {
           "alignmentgroup": "True",
           "hovertemplate": "Season=%{x}<br>Ticker=SO<br>Average Close Price=%{y}<extra></extra>",
           "legendgroup": "Avg Close Summer",
           "marker": {
            "color": "#00cc96",
            "pattern": {
             "shape": ""
            }
           },
           "name": "Avg Close Summer",
           "offsetgroup": "Avg Close Summer",
           "orientation": "v",
           "showlegend": true,
           "textposition": "auto",
           "type": "bar",
           "x": [
            "Avg Close Summer"
           ],
           "xaxis": "x",
           "y": [
            41.51080234080678
           ],
           "yaxis": "y"
          },
          {
           "alignmentgroup": "True",
           "hovertemplate": "Season=%{x}<br>Ticker=SO<br>Average Close Price=%{y}<extra></extra>",
           "legendgroup": "Avg Close Fall",
           "marker": {
            "color": "#ab63fa",
            "pattern": {
             "shape": ""
            }
           },
           "name": "Avg Close Fall",
           "offsetgroup": "Avg Close Fall",
           "orientation": "v",
           "showlegend": true,
           "textposition": "auto",
           "type": "bar",
           "x": [
            "Avg Close Fall"
           ],
           "xaxis": "x",
           "y": [
            42.231736561831305
           ],
           "yaxis": "y"
          }
         ],
         "name": "SO"
        },
        {
         "data": [
          {
           "alignmentgroup": "True",
           "hovertemplate": "Season=%{x}<br>Ticker=SPGI<br>Average Close Price=%{y}<extra></extra>",
           "legendgroup": "Avg Close Winter",
           "marker": {
            "color": "#636efa",
            "pattern": {
             "shape": ""
            }
           },
           "name": "Avg Close Winter",
           "offsetgroup": "Avg Close Winter",
           "orientation": "v",
           "showlegend": true,
           "textposition": "auto",
           "type": "bar",
           "x": [
            "Avg Close Winter"
           ],
           "xaxis": "x",
           "y": [
            194.7221498625619
           ],
           "yaxis": "y"
          },
          {
           "alignmentgroup": "True",
           "hovertemplate": "Season=%{x}<br>Ticker=SPGI<br>Average Close Price=%{y}<extra></extra>",
           "legendgroup": "Avg Close Spring",
           "marker": {
            "color": "#EF553B",
            "pattern": {
             "shape": ""
            }
           },
           "name": "Avg Close Spring",
           "offsetgroup": "Avg Close Spring",
           "orientation": "v",
           "showlegend": true,
           "textposition": "auto",
           "type": "bar",
           "x": [
            "Avg Close Spring"
           ],
           "xaxis": "x",
           "y": [
            183.8432531795741
           ],
           "yaxis": "y"
          },
          {
           "alignmentgroup": "True",
           "hovertemplate": "Season=%{x}<br>Ticker=SPGI<br>Average Close Price=%{y}<extra></extra>",
           "legendgroup": "Avg Close Summer",
           "marker": {
            "color": "#00cc96",
            "pattern": {
             "shape": ""
            }
           },
           "name": "Avg Close Summer",
           "offsetgroup": "Avg Close Summer",
           "orientation": "v",
           "showlegend": true,
           "textposition": "auto",
           "type": "bar",
           "x": [
            "Avg Close Summer"
           ],
           "xaxis": "x",
           "y": [
            199.38115790099775
           ],
           "yaxis": "y"
          },
          {
           "alignmentgroup": "True",
           "hovertemplate": "Season=%{x}<br>Ticker=SPGI<br>Average Close Price=%{y}<extra></extra>",
           "legendgroup": "Avg Close Fall",
           "marker": {
            "color": "#ab63fa",
            "pattern": {
             "shape": ""
            }
           },
           "name": "Avg Close Fall",
           "offsetgroup": "Avg Close Fall",
           "orientation": "v",
           "showlegend": true,
           "textposition": "auto",
           "type": "bar",
           "x": [
            "Avg Close Fall"
           ],
           "xaxis": "x",
           "y": [
            200.84164313308332
           ],
           "yaxis": "y"
          }
         ],
         "name": "SPGI"
        },
        {
         "data": [
          {
           "alignmentgroup": "True",
           "hovertemplate": "Season=%{x}<br>Ticker=SYK<br>Average Close Price=%{y}<extra></extra>",
           "legendgroup": "Avg Close Winter",
           "marker": {
            "color": "#636efa",
            "pattern": {
             "shape": ""
            }
           },
           "name": "Avg Close Winter",
           "offsetgroup": "Avg Close Winter",
           "orientation": "v",
           "showlegend": true,
           "textposition": "auto",
           "type": "bar",
           "x": [
            "Avg Close Winter"
           ],
           "xaxis": "x",
           "y": [
            156.30120701692542
           ],
           "yaxis": "y"
          },
          {
           "alignmentgroup": "True",
           "hovertemplate": "Season=%{x}<br>Ticker=SYK<br>Average Close Price=%{y}<extra></extra>",
           "legendgroup": "Avg Close Spring",
           "marker": {
            "color": "#EF553B",
            "pattern": {
             "shape": ""
            }
           },
           "name": "Avg Close Spring",
           "offsetgroup": "Avg Close Spring",
           "orientation": "v",
           "showlegend": true,
           "textposition": "auto",
           "type": "bar",
           "x": [
            "Avg Close Spring"
           ],
           "xaxis": "x",
           "y": [
            147.3172535357615
           ],
           "yaxis": "y"
          },
          {
           "alignmentgroup": "True",
           "hovertemplate": "Season=%{x}<br>Ticker=SYK<br>Average Close Price=%{y}<extra></extra>",
           "legendgroup": "Avg Close Summer",
           "marker": {
            "color": "#00cc96",
            "pattern": {
             "shape": ""
            }
           },
           "name": "Avg Close Summer",
           "offsetgroup": "Avg Close Summer",
           "orientation": "v",
           "showlegend": true,
           "textposition": "auto",
           "type": "bar",
           "x": [
            "Avg Close Summer"
           ],
           "xaxis": "x",
           "y": [
            147.82160426582752
           ],
           "yaxis": "y"
          },
          {
           "alignmentgroup": "True",
           "hovertemplate": "Season=%{x}<br>Ticker=SYK<br>Average Close Price=%{y}<extra></extra>",
           "legendgroup": "Avg Close Fall",
           "marker": {
            "color": "#ab63fa",
            "pattern": {
             "shape": ""
            }
           },
           "name": "Avg Close Fall",
           "offsetgroup": "Avg Close Fall",
           "orientation": "v",
           "showlegend": true,
           "textposition": "auto",
           "type": "bar",
           "x": [
            "Avg Close Fall"
           ],
           "xaxis": "x",
           "y": [
            152.8479658014634
           ],
           "yaxis": "y"
          }
         ],
         "name": "SYK"
        },
        {
         "data": [
          {
           "alignmentgroup": "True",
           "hovertemplate": "Season=%{x}<br>Ticker=T<br>Average Close Price=%{y}<extra></extra>",
           "legendgroup": "Avg Close Winter",
           "marker": {
            "color": "#636efa",
            "pattern": {
             "shape": ""
            }
           },
           "name": "Avg Close Winter",
           "offsetgroup": "Avg Close Winter",
           "orientation": "v",
           "showlegend": true,
           "textposition": "auto",
           "type": "bar",
           "x": [
            "Avg Close Winter"
           ],
           "xaxis": "x",
           "y": [
            14.156787438781894
           ],
           "yaxis": "y"
          },
          {
           "alignmentgroup": "True",
           "hovertemplate": "Season=%{x}<br>Ticker=T<br>Average Close Price=%{y}<extra></extra>",
           "legendgroup": "Avg Close Spring",
           "marker": {
            "color": "#EF553B",
            "pattern": {
             "shape": ""
            }
           },
           "name": "Avg Close Spring",
           "offsetgroup": "Avg Close Spring",
           "orientation": "v",
           "showlegend": true,
           "textposition": "auto",
           "type": "bar",
           "x": [
            "Avg Close Spring"
           ],
           "xaxis": "x",
           "y": [
            13.753027475029851
           ],
           "yaxis": "y"
          },
          {
           "alignmentgroup": "True",
           "hovertemplate": "Season=%{x}<br>Ticker=T<br>Average Close Price=%{y}<extra></extra>",
           "legendgroup": "Avg Close Summer",
           "marker": {
            "color": "#00cc96",
            "pattern": {
             "shape": ""
            }
           },
           "name": "Avg Close Summer",
           "offsetgroup": "Avg Close Summer",
           "orientation": "v",
           "showlegend": true,
           "textposition": "auto",
           "type": "bar",
           "x": [
            "Avg Close Summer"
           ],
           "xaxis": "x",
           "y": [
            13.788892651202788
           ],
           "yaxis": "y"
          },
          {
           "alignmentgroup": "True",
           "hovertemplate": "Season=%{x}<br>Ticker=T<br>Average Close Price=%{y}<extra></extra>",
           "legendgroup": "Avg Close Fall",
           "marker": {
            "color": "#ab63fa",
            "pattern": {
             "shape": ""
            }
           },
           "name": "Avg Close Fall",
           "offsetgroup": "Avg Close Fall",
           "orientation": "v",
           "showlegend": true,
           "textposition": "auto",
           "type": "bar",
           "x": [
            "Avg Close Fall"
           ],
           "xaxis": "x",
           "y": [
            14.015807515933734
           ],
           "yaxis": "y"
          }
         ],
         "name": "T"
        },
        {
         "data": [
          {
           "alignmentgroup": "True",
           "hovertemplate": "Season=%{x}<br>Ticker=TJX<br>Average Close Price=%{y}<extra></extra>",
           "legendgroup": "Avg Close Winter",
           "marker": {
            "color": "#636efa",
            "pattern": {
             "shape": ""
            }
           },
           "name": "Avg Close Winter",
           "offsetgroup": "Avg Close Winter",
           "orientation": "v",
           "showlegend": true,
           "textposition": "auto",
           "type": "bar",
           "x": [
            "Avg Close Winter"
           ],
           "xaxis": "x",
           "y": [
            45.51351617501707
           ],
           "yaxis": "y"
          },
          {
           "alignmentgroup": "True",
           "hovertemplate": "Season=%{x}<br>Ticker=TJX<br>Average Close Price=%{y}<extra></extra>",
           "legendgroup": "Avg Close Spring",
           "marker": {
            "color": "#EF553B",
            "pattern": {
             "shape": ""
            }
           },
           "name": "Avg Close Spring",
           "offsetgroup": "Avg Close Spring",
           "orientation": "v",
           "showlegend": true,
           "textposition": "auto",
           "type": "bar",
           "x": [
            "Avg Close Spring"
           ],
           "xaxis": "x",
           "y": [
            41.73554372089178
           ],
           "yaxis": "y"
          },
          {
           "alignmentgroup": "True",
           "hovertemplate": "Season=%{x}<br>Ticker=TJX<br>Average Close Price=%{y}<extra></extra>",
           "legendgroup": "Avg Close Summer",
           "marker": {
            "color": "#00cc96",
            "pattern": {
             "shape": ""
            }
           },
           "name": "Avg Close Summer",
           "offsetgroup": "Avg Close Summer",
           "orientation": "v",
           "showlegend": true,
           "textposition": "auto",
           "type": "bar",
           "x": [
            "Avg Close Summer"
           ],
           "xaxis": "x",
           "y": [
            43.84628011791277
           ],
           "yaxis": "y"
          },
          {
           "alignmentgroup": "True",
           "hovertemplate": "Season=%{x}<br>Ticker=TJX<br>Average Close Price=%{y}<extra></extra>",
           "legendgroup": "Avg Close Fall",
           "marker": {
            "color": "#ab63fa",
            "pattern": {
             "shape": ""
            }
           },
           "name": "Avg Close Fall",
           "offsetgroup": "Avg Close Fall",
           "orientation": "v",
           "showlegend": true,
           "textposition": "auto",
           "type": "bar",
           "x": [
            "Avg Close Fall"
           ],
           "xaxis": "x",
           "y": [
            46.301237752457624
           ],
           "yaxis": "y"
          }
         ],
         "name": "TJX"
        },
        {
         "data": [
          {
           "alignmentgroup": "True",
           "hovertemplate": "Season=%{x}<br>Ticker=TMO<br>Average Close Price=%{y}<extra></extra>",
           "legendgroup": "Avg Close Winter",
           "marker": {
            "color": "#636efa",
            "pattern": {
             "shape": ""
            }
           },
           "name": "Avg Close Winter",
           "offsetgroup": "Avg Close Winter",
           "orientation": "v",
           "showlegend": true,
           "textposition": "auto",
           "type": "bar",
           "x": [
            "Avg Close Winter"
           ],
           "xaxis": "x",
           "y": [
            262.91833524898607
           ],
           "yaxis": "y"
          },
          {
           "alignmentgroup": "True",
           "hovertemplate": "Season=%{x}<br>Ticker=TMO<br>Average Close Price=%{y}<extra></extra>",
           "legendgroup": "Avg Close Spring",
           "marker": {
            "color": "#EF553B",
            "pattern": {
             "shape": ""
            }
           },
           "name": "Avg Close Spring",
           "offsetgroup": "Avg Close Spring",
           "orientation": "v",
           "showlegend": true,
           "textposition": "auto",
           "type": "bar",
           "x": [
            "Avg Close Spring"
           ],
           "xaxis": "x",
           "y": [
            249.1171527208145
           ],
           "yaxis": "y"
          },
          {
           "alignmentgroup": "True",
           "hovertemplate": "Season=%{x}<br>Ticker=TMO<br>Average Close Price=%{y}<extra></extra>",
           "legendgroup": "Avg Close Summer",
           "marker": {
            "color": "#00cc96",
            "pattern": {
             "shape": ""
            }
           },
           "name": "Avg Close Summer",
           "offsetgroup": "Avg Close Summer",
           "orientation": "v",
           "showlegend": true,
           "textposition": "auto",
           "type": "bar",
           "x": [
            "Avg Close Summer"
           ],
           "xaxis": "x",
           "y": [
            263.264092644887
           ],
           "yaxis": "y"
          },
          {
           "alignmentgroup": "True",
           "hovertemplate": "Season=%{x}<br>Ticker=TMO<br>Average Close Price=%{y}<extra></extra>",
           "legendgroup": "Avg Close Fall",
           "marker": {
            "color": "#ab63fa",
            "pattern": {
             "shape": ""
            }
           },
           "name": "Avg Close Fall",
           "offsetgroup": "Avg Close Fall",
           "orientation": "v",
           "showlegend": true,
           "textposition": "auto",
           "type": "bar",
           "x": [
            "Avg Close Fall"
           ],
           "xaxis": "x",
           "y": [
            267.08072475224986
           ],
           "yaxis": "y"
          }
         ],
         "name": "TMO"
        },
        {
         "data": [
          {
           "alignmentgroup": "True",
           "hovertemplate": "Season=%{x}<br>Ticker=TMUS<br>Average Close Price=%{y}<extra></extra>",
           "legendgroup": "Avg Close Winter",
           "marker": {
            "color": "#636efa",
            "pattern": {
             "shape": ""
            }
           },
           "name": "Avg Close Winter",
           "offsetgroup": "Avg Close Winter",
           "orientation": "v",
           "showlegend": true,
           "textposition": "auto",
           "type": "bar",
           "x": [
            "Avg Close Winter"
           ],
           "xaxis": "x",
           "y": [
            76.30722747335629
           ],
           "yaxis": "y"
          },
          {
           "alignmentgroup": "True",
           "hovertemplate": "Season=%{x}<br>Ticker=TMUS<br>Average Close Price=%{y}<extra></extra>",
           "legendgroup": "Avg Close Spring",
           "marker": {
            "color": "#EF553B",
            "pattern": {
             "shape": ""
            }
           },
           "name": "Avg Close Spring",
           "offsetgroup": "Avg Close Spring",
           "orientation": "v",
           "showlegend": true,
           "textposition": "auto",
           "type": "bar",
           "x": [
            "Avg Close Spring"
           ],
           "xaxis": "x",
           "y": [
            70.53380635093944
           ],
           "yaxis": "y"
          },
          {
           "alignmentgroup": "True",
           "hovertemplate": "Season=%{x}<br>Ticker=TMUS<br>Average Close Price=%{y}<extra></extra>",
           "legendgroup": "Avg Close Summer",
           "marker": {
            "color": "#00cc96",
            "pattern": {
             "shape": ""
            }
           },
           "name": "Avg Close Summer",
           "offsetgroup": "Avg Close Summer",
           "orientation": "v",
           "showlegend": true,
           "textposition": "auto",
           "type": "bar",
           "x": [
            "Avg Close Summer"
           ],
           "xaxis": "x",
           "y": [
            73.04283521564436
           ],
           "yaxis": "y"
          },
          {
           "alignmentgroup": "True",
           "hovertemplate": "Season=%{x}<br>Ticker=TMUS<br>Average Close Price=%{y}<extra></extra>",
           "legendgroup": "Avg Close Fall",
           "marker": {
            "color": "#ab63fa",
            "pattern": {
             "shape": ""
            }
           },
           "name": "Avg Close Fall",
           "offsetgroup": "Avg Close Fall",
           "orientation": "v",
           "showlegend": true,
           "textposition": "auto",
           "type": "bar",
           "x": [
            "Avg Close Fall"
           ],
           "xaxis": "x",
           "y": [
            76.26624989709934
           ],
           "yaxis": "y"
          }
         ],
         "name": "TMUS"
        },
        {
         "data": [
          {
           "alignmentgroup": "True",
           "hovertemplate": "Season=%{x}<br>Ticker=TSLA<br>Average Close Price=%{y}<extra></extra>",
           "legendgroup": "Avg Close Winter",
           "marker": {
            "color": "#636efa",
            "pattern": {
             "shape": ""
            }
           },
           "name": "Avg Close Winter",
           "offsetgroup": "Avg Close Winter",
           "orientation": "v",
           "showlegend": true,
           "textposition": "auto",
           "type": "bar",
           "x": [
            "Avg Close Winter"
           ],
           "xaxis": "x",
           "y": [
            93.97332731009308
           ],
           "yaxis": "y"
          },
          {
           "alignmentgroup": "True",
           "hovertemplate": "Season=%{x}<br>Ticker=TSLA<br>Average Close Price=%{y}<extra></extra>",
           "legendgroup": "Avg Close Spring",
           "marker": {
            "color": "#EF553B",
            "pattern": {
             "shape": ""
            }
           },
           "name": "Avg Close Spring",
           "offsetgroup": "Avg Close Spring",
           "orientation": "v",
           "showlegend": true,
           "textposition": "auto",
           "type": "bar",
           "x": [
            "Avg Close Spring"
           ],
           "xaxis": "x",
           "y": [
            74.90774162454979
           ],
           "yaxis": "y"
          },
          {
           "alignmentgroup": "True",
           "hovertemplate": "Season=%{x}<br>Ticker=TSLA<br>Average Close Price=%{y}<extra></extra>",
           "legendgroup": "Avg Close Summer",
           "marker": {
            "color": "#00cc96",
            "pattern": {
             "shape": ""
            }
           },
           "name": "Avg Close Summer",
           "offsetgroup": "Avg Close Summer",
           "orientation": "v",
           "showlegend": true,
           "textposition": "auto",
           "type": "bar",
           "x": [
            "Avg Close Summer"
           ],
           "xaxis": "x",
           "y": [
            82.69921559868497
           ],
           "yaxis": "y"
          },
          {
           "alignmentgroup": "True",
           "hovertemplate": "Season=%{x}<br>Ticker=TSLA<br>Average Close Price=%{y}<extra></extra>",
           "legendgroup": "Avg Close Fall",
           "marker": {
            "color": "#ab63fa",
            "pattern": {
             "shape": ""
            }
           },
           "name": "Avg Close Fall",
           "offsetgroup": "Avg Close Fall",
           "orientation": "v",
           "showlegend": true,
           "textposition": "auto",
           "type": "bar",
           "x": [
            "Avg Close Fall"
           ],
           "xaxis": "x",
           "y": [
            92.22811406612897
           ],
           "yaxis": "y"
          }
         ],
         "name": "TSLA"
        },
        {
         "data": [
          {
           "alignmentgroup": "True",
           "hovertemplate": "Season=%{x}<br>Ticker=TXN<br>Average Close Price=%{y}<extra></extra>",
           "legendgroup": "Avg Close Winter",
           "marker": {
            "color": "#636efa",
            "pattern": {
             "shape": ""
            }
           },
           "name": "Avg Close Winter",
           "offsetgroup": "Avg Close Winter",
           "orientation": "v",
           "showlegend": true,
           "textposition": "auto",
           "type": "bar",
           "x": [
            "Avg Close Winter"
           ],
           "xaxis": "x",
           "y": [
            86.09700598327481
           ],
           "yaxis": "y"
          },
          {
           "alignmentgroup": "True",
           "hovertemplate": "Season=%{x}<br>Ticker=TXN<br>Average Close Price=%{y}<extra></extra>",
           "legendgroup": "Avg Close Spring",
           "marker": {
            "color": "#EF553B",
            "pattern": {
             "shape": ""
            }
           },
           "name": "Avg Close Spring",
           "offsetgroup": "Avg Close Spring",
           "orientation": "v",
           "showlegend": true,
           "textposition": "auto",
           "type": "bar",
           "x": [
            "Avg Close Spring"
           ],
           "xaxis": "x",
           "y": [
            82.53783878920966
           ],
           "yaxis": "y"
          },
          {
           "alignmentgroup": "True",
           "hovertemplate": "Season=%{x}<br>Ticker=TXN<br>Average Close Price=%{y}<extra></extra>",
           "legendgroup": "Avg Close Summer",
           "marker": {
            "color": "#00cc96",
            "pattern": {
             "shape": ""
            }
           },
           "name": "Avg Close Summer",
           "offsetgroup": "Avg Close Summer",
           "orientation": "v",
           "showlegend": true,
           "textposition": "auto",
           "type": "bar",
           "x": [
            "Avg Close Summer"
           ],
           "xaxis": "x",
           "y": [
            85.69871035280586
           ],
           "yaxis": "y"
          },
          {
           "alignmentgroup": "True",
           "hovertemplate": "Season=%{x}<br>Ticker=TXN<br>Average Close Price=%{y}<extra></extra>",
           "legendgroup": "Avg Close Fall",
           "marker": {
            "color": "#ab63fa",
            "pattern": {
             "shape": ""
            }
           },
           "name": "Avg Close Fall",
           "offsetgroup": "Avg Close Fall",
           "orientation": "v",
           "showlegend": true,
           "textposition": "auto",
           "type": "bar",
           "x": [
            "Avg Close Fall"
           ],
           "xaxis": "x",
           "y": [
            87.74379030596309
           ],
           "yaxis": "y"
          }
         ],
         "name": "TXN"
        },
        {
         "data": [
          {
           "alignmentgroup": "True",
           "hovertemplate": "Season=%{x}<br>Ticker=UBER<br>Average Close Price=%{y}<extra></extra>",
           "legendgroup": "Avg Close Winter",
           "marker": {
            "color": "#636efa",
            "pattern": {
             "shape": ""
            }
           },
           "name": "Avg Close Winter",
           "offsetgroup": "Avg Close Winter",
           "orientation": "v",
           "showlegend": true,
           "textposition": "auto",
           "type": "bar",
           "x": [
            "Avg Close Winter"
           ],
           "xaxis": "x",
           "y": [
            49.84070651945861
           ],
           "yaxis": "y"
          },
          {
           "alignmentgroup": "True",
           "hovertemplate": "Season=%{x}<br>Ticker=UBER<br>Average Close Price=%{y}<extra></extra>",
           "legendgroup": "Avg Close Spring",
           "marker": {
            "color": "#EF553B",
            "pattern": {
             "shape": ""
            }
           },
           "name": "Avg Close Spring",
           "offsetgroup": "Avg Close Spring",
           "orientation": "v",
           "showlegend": true,
           "textposition": "auto",
           "type": "bar",
           "x": [
            "Avg Close Spring"
           ],
           "xaxis": "x",
           "y": [
            44.05198328455067
           ],
           "yaxis": "y"
          },
          {
           "alignmentgroup": "True",
           "hovertemplate": "Season=%{x}<br>Ticker=UBER<br>Average Close Price=%{y}<extra></extra>",
           "legendgroup": "Avg Close Summer",
           "marker": {
            "color": "#00cc96",
            "pattern": {
             "shape": ""
            }
           },
           "name": "Avg Close Summer",
           "offsetgroup": "Avg Close Summer",
           "orientation": "v",
           "showlegend": true,
           "textposition": "auto",
           "type": "bar",
           "x": [
            "Avg Close Summer"
           ],
           "xaxis": "x",
           "y": [
            43.00041774919077
           ],
           "yaxis": "y"
          },
          {
           "alignmentgroup": "True",
           "hovertemplate": "Season=%{x}<br>Ticker=UBER<br>Average Close Price=%{y}<extra></extra>",
           "legendgroup": "Avg Close Fall",
           "marker": {
            "color": "#ab63fa",
            "pattern": {
             "shape": ""
            }
           },
           "name": "Avg Close Fall",
           "offsetgroup": "Avg Close Fall",
           "orientation": "v",
           "showlegend": true,
           "textposition": "auto",
           "type": "bar",
           "x": [
            "Avg Close Fall"
           ],
           "xaxis": "x",
           "y": [
            44.80536650612717
           ],
           "yaxis": "y"
          }
         ],
         "name": "UBER"
        },
        {
         "data": [
          {
           "alignmentgroup": "True",
           "hovertemplate": "Season=%{x}<br>Ticker=UNH<br>Average Close Price=%{y}<extra></extra>",
           "legendgroup": "Avg Close Winter",
           "marker": {
            "color": "#636efa",
            "pattern": {
             "shape": ""
            }
           },
           "name": "Avg Close Winter",
           "offsetgroup": "Avg Close Winter",
           "orientation": "v",
           "showlegend": true,
           "textposition": "auto",
           "type": "bar",
           "x": [
            "Avg Close Winter"
           ],
           "xaxis": "x",
           "y": [
            219.33103852369348
           ],
           "yaxis": "y"
          },
          {
           "alignmentgroup": "True",
           "hovertemplate": "Season=%{x}<br>Ticker=UNH<br>Average Close Price=%{y}<extra></extra>",
           "legendgroup": "Avg Close Spring",
           "marker": {
            "color": "#EF553B",
            "pattern": {
             "shape": ""
            }
           },
           "name": "Avg Close Spring",
           "offsetgroup": "Avg Close Spring",
           "orientation": "v",
           "showlegend": true,
           "textposition": "auto",
           "type": "bar",
           "x": [
            "Avg Close Spring"
           ],
           "xaxis": "x",
           "y": [
            210.7740719527879
           ],
           "yaxis": "y"
          },
          {
           "alignmentgroup": "True",
           "hovertemplate": "Season=%{x}<br>Ticker=UNH<br>Average Close Price=%{y}<extra></extra>",
           "legendgroup": "Avg Close Summer",
           "marker": {
            "color": "#00cc96",
            "pattern": {
             "shape": ""
            }
           },
           "name": "Avg Close Summer",
           "offsetgroup": "Avg Close Summer",
           "orientation": "v",
           "showlegend": true,
           "textposition": "auto",
           "type": "bar",
           "x": [
            "Avg Close Summer"
           ],
           "xaxis": "x",
           "y": [
            221.28252295370385
           ],
           "yaxis": "y"
          },
          {
           "alignmentgroup": "True",
           "hovertemplate": "Season=%{x}<br>Ticker=UNH<br>Average Close Price=%{y}<extra></extra>",
           "legendgroup": "Avg Close Fall",
           "marker": {
            "color": "#ab63fa",
            "pattern": {
             "shape": ""
            }
           },
           "name": "Avg Close Fall",
           "offsetgroup": "Avg Close Fall",
           "orientation": "v",
           "showlegend": true,
           "textposition": "auto",
           "type": "bar",
           "x": [
            "Avg Close Fall"
           ],
           "xaxis": "x",
           "y": [
            233.4537978613076
           ],
           "yaxis": "y"
          }
         ],
         "name": "UNH"
        },
        {
         "data": [
          {
           "alignmentgroup": "True",
           "hovertemplate": "Season=%{x}<br>Ticker=UNP<br>Average Close Price=%{y}<extra></extra>",
           "legendgroup": "Avg Close Winter",
           "marker": {
            "color": "#636efa",
            "pattern": {
             "shape": ""
            }
           },
           "name": "Avg Close Winter",
           "offsetgroup": "Avg Close Winter",
           "orientation": "v",
           "showlegend": true,
           "textposition": "auto",
           "type": "bar",
           "x": [
            "Avg Close Winter"
           ],
           "xaxis": "x",
           "y": [
            123.13182044710432
           ],
           "yaxis": "y"
          },
          {
           "alignmentgroup": "True",
           "hovertemplate": "Season=%{x}<br>Ticker=UNP<br>Average Close Price=%{y}<extra></extra>",
           "legendgroup": "Avg Close Spring",
           "marker": {
            "color": "#EF553B",
            "pattern": {
             "shape": ""
            }
           },
           "name": "Avg Close Spring",
           "offsetgroup": "Avg Close Spring",
           "orientation": "v",
           "showlegend": true,
           "textposition": "auto",
           "type": "bar",
           "x": [
            "Avg Close Spring"
           ],
           "xaxis": "x",
           "y": [
            116.55820786504069
           ],
           "yaxis": "y"
          },
          {
           "alignmentgroup": "True",
           "hovertemplate": "Season=%{x}<br>Ticker=UNP<br>Average Close Price=%{y}<extra></extra>",
           "legendgroup": "Avg Close Summer",
           "marker": {
            "color": "#00cc96",
            "pattern": {
             "shape": ""
            }
           },
           "name": "Avg Close Summer",
           "offsetgroup": "Avg Close Summer",
           "orientation": "v",
           "showlegend": true,
           "textposition": "auto",
           "type": "bar",
           "x": [
            "Avg Close Summer"
           ],
           "xaxis": "x",
           "y": [
            119.66683981109364
           ],
           "yaxis": "y"
          },
          {
           "alignmentgroup": "True",
           "hovertemplate": "Season=%{x}<br>Ticker=UNP<br>Average Close Price=%{y}<extra></extra>",
           "legendgroup": "Avg Close Fall",
           "marker": {
            "color": "#ab63fa",
            "pattern": {
             "shape": ""
            }
           },
           "name": "Avg Close Fall",
           "offsetgroup": "Avg Close Fall",
           "orientation": "v",
           "showlegend": true,
           "textposition": "auto",
           "type": "bar",
           "x": [
            "Avg Close Fall"
           ],
           "xaxis": "x",
           "y": [
            123.1530244190152
           ],
           "yaxis": "y"
          }
         ],
         "name": "UNP"
        },
        {
         "data": [
          {
           "alignmentgroup": "True",
           "hovertemplate": "Season=%{x}<br>Ticker=V<br>Average Close Price=%{y}<extra></extra>",
           "legendgroup": "Avg Close Winter",
           "marker": {
            "color": "#636efa",
            "pattern": {
             "shape": ""
            }
           },
           "name": "Avg Close Winter",
           "offsetgroup": "Avg Close Winter",
           "orientation": "v",
           "showlegend": true,
           "textposition": "auto",
           "type": "bar",
           "x": [
            "Avg Close Winter"
           ],
           "xaxis": "x",
           "y": [
            127.45537542031737
           ],
           "yaxis": "y"
          },
          {
           "alignmentgroup": "True",
           "hovertemplate": "Season=%{x}<br>Ticker=V<br>Average Close Price=%{y}<extra></extra>",
           "legendgroup": "Avg Close Spring",
           "marker": {
            "color": "#EF553B",
            "pattern": {
             "shape": ""
            }
           },
           "name": "Avg Close Spring",
           "offsetgroup": "Avg Close Spring",
           "orientation": "v",
           "showlegend": true,
           "textposition": "auto",
           "type": "bar",
           "x": [
            "Avg Close Spring"
           ],
           "xaxis": "x",
           "y": [
            118.9208619415012
           ],
           "yaxis": "y"
          },
          {
           "alignmentgroup": "True",
           "hovertemplate": "Season=%{x}<br>Ticker=V<br>Average Close Price=%{y}<extra></extra>",
           "legendgroup": "Avg Close Summer",
           "marker": {
            "color": "#00cc96",
            "pattern": {
             "shape": ""
            }
           },
           "name": "Avg Close Summer",
           "offsetgroup": "Avg Close Summer",
           "orientation": "v",
           "showlegend": true,
           "textposition": "auto",
           "type": "bar",
           "x": [
            "Avg Close Summer"
           ],
           "xaxis": "x",
           "y": [
            122.0373154733969
           ],
           "yaxis": "y"
          },
          {
           "alignmentgroup": "True",
           "hovertemplate": "Season=%{x}<br>Ticker=V<br>Average Close Price=%{y}<extra></extra>",
           "legendgroup": "Avg Close Fall",
           "marker": {
            "color": "#ab63fa",
            "pattern": {
             "shape": ""
            }
           },
           "name": "Avg Close Fall",
           "offsetgroup": "Avg Close Fall",
           "orientation": "v",
           "showlegend": true,
           "textposition": "auto",
           "type": "bar",
           "x": [
            "Avg Close Fall"
           ],
           "xaxis": "x",
           "y": [
            125.66306199045742
           ],
           "yaxis": "y"
          }
         ],
         "name": "V"
        },
        {
         "data": [
          {
           "alignmentgroup": "True",
           "hovertemplate": "Season=%{x}<br>Ticker=VRTX<br>Average Close Price=%{y}<extra></extra>",
           "legendgroup": "Avg Close Winter",
           "marker": {
            "color": "#636efa",
            "pattern": {
             "shape": ""
            }
           },
           "name": "Avg Close Winter",
           "offsetgroup": "Avg Close Winter",
           "orientation": "v",
           "showlegend": true,
           "textposition": "auto",
           "type": "bar",
           "x": [
            "Avg Close Winter"
           ],
           "xaxis": "x",
           "y": [
            172.8250614010558
           ],
           "yaxis": "y"
          },
          {
           "alignmentgroup": "True",
           "hovertemplate": "Season=%{x}<br>Ticker=VRTX<br>Average Close Price=%{y}<extra></extra>",
           "legendgroup": "Avg Close Spring",
           "marker": {
            "color": "#EF553B",
            "pattern": {
             "shape": ""
            }
           },
           "name": "Avg Close Spring",
           "offsetgroup": "Avg Close Spring",
           "orientation": "v",
           "showlegend": true,
           "textposition": "auto",
           "type": "bar",
           "x": [
            "Avg Close Spring"
           ],
           "xaxis": "x",
           "y": [
            167.1615585662331
           ],
           "yaxis": "y"
          },
          {
           "alignmentgroup": "True",
           "hovertemplate": "Season=%{x}<br>Ticker=VRTX<br>Average Close Price=%{y}<extra></extra>",
           "legendgroup": "Avg Close Summer",
           "marker": {
            "color": "#00cc96",
            "pattern": {
             "shape": ""
            }
           },
           "name": "Avg Close Summer",
           "offsetgroup": "Avg Close Summer",
           "orientation": "v",
           "showlegend": true,
           "textposition": "auto",
           "type": "bar",
           "x": [
            "Avg Close Summer"
           ],
           "xaxis": "x",
           "y": [
            175.21432007506303
           ],
           "yaxis": "y"
          },
          {
           "alignmentgroup": "True",
           "hovertemplate": "Season=%{x}<br>Ticker=VRTX<br>Average Close Price=%{y}<extra></extra>",
           "legendgroup": "Avg Close Fall",
           "marker": {
            "color": "#ab63fa",
            "pattern": {
             "shape": ""
            }
           },
           "name": "Avg Close Fall",
           "offsetgroup": "Avg Close Fall",
           "orientation": "v",
           "showlegend": true,
           "textposition": "auto",
           "type": "bar",
           "x": [
            "Avg Close Fall"
           ],
           "xaxis": "x",
           "y": [
            172.5560927250806
           ],
           "yaxis": "y"
          }
         ],
         "name": "VRTX"
        },
        {
         "data": [
          {
           "alignmentgroup": "True",
           "hovertemplate": "Season=%{x}<br>Ticker=VZ<br>Average Close Price=%{y}<extra></extra>",
           "legendgroup": "Avg Close Winter",
           "marker": {
            "color": "#636efa",
            "pattern": {
             "shape": ""
            }
           },
           "name": "Avg Close Winter",
           "offsetgroup": "Avg Close Winter",
           "orientation": "v",
           "showlegend": true,
           "textposition": "auto",
           "type": "bar",
           "x": [
            "Avg Close Winter"
           ],
           "xaxis": "x",
           "y": [
            31.831100391855045
           ],
           "yaxis": "y"
          },
          {
           "alignmentgroup": "True",
           "hovertemplate": "Season=%{x}<br>Ticker=VZ<br>Average Close Price=%{y}<extra></extra>",
           "legendgroup": "Avg Close Spring",
           "marker": {
            "color": "#EF553B",
            "pattern": {
             "shape": ""
            }
           },
           "name": "Avg Close Spring",
           "offsetgroup": "Avg Close Spring",
           "orientation": "v",
           "showlegend": true,
           "textposition": "auto",
           "type": "bar",
           "x": [
            "Avg Close Spring"
           ],
           "xaxis": "x",
           "y": [
            31.674850867881936
           ],
           "yaxis": "y"
          },
          {
           "alignmentgroup": "True",
           "hovertemplate": "Season=%{x}<br>Ticker=VZ<br>Average Close Price=%{y}<extra></extra>",
           "legendgroup": "Avg Close Summer",
           "marker": {
            "color": "#00cc96",
            "pattern": {
             "shape": ""
            }
           },
           "name": "Avg Close Summer",
           "offsetgroup": "Avg Close Summer",
           "orientation": "v",
           "showlegend": true,
           "textposition": "auto",
           "type": "bar",
           "x": [
            "Avg Close Summer"
           ],
           "xaxis": "x",
           "y": [
            31.850329579668564
           ],
           "yaxis": "y"
          },
          {
           "alignmentgroup": "True",
           "hovertemplate": "Season=%{x}<br>Ticker=VZ<br>Average Close Price=%{y}<extra></extra>",
           "legendgroup": "Avg Close Fall",
           "marker": {
            "color": "#ab63fa",
            "pattern": {
             "shape": ""
            }
           },
           "name": "Avg Close Fall",
           "offsetgroup": "Avg Close Fall",
           "orientation": "v",
           "showlegend": true,
           "textposition": "auto",
           "type": "bar",
           "x": [
            "Avg Close Fall"
           ],
           "xaxis": "x",
           "y": [
            32.27539890854298
           ],
           "yaxis": "y"
          }
         ],
         "name": "VZ"
        },
        {
         "data": [
          {
           "alignmentgroup": "True",
           "hovertemplate": "Season=%{x}<br>Ticker=WELL<br>Average Close Price=%{y}<extra></extra>",
           "legendgroup": "Avg Close Winter",
           "marker": {
            "color": "#636efa",
            "pattern": {
             "shape": ""
            }
           },
           "name": "Avg Close Winter",
           "offsetgroup": "Avg Close Winter",
           "orientation": "v",
           "showlegend": true,
           "textposition": "auto",
           "type": "bar",
           "x": [
            "Avg Close Winter"
           ],
           "xaxis": "x",
           "y": [
            56.67815984803803
           ],
           "yaxis": "y"
          },
          {
           "alignmentgroup": "True",
           "hovertemplate": "Season=%{x}<br>Ticker=WELL<br>Average Close Price=%{y}<extra></extra>",
           "legendgroup": "Avg Close Spring",
           "marker": {
            "color": "#EF553B",
            "pattern": {
             "shape": ""
            }
           },
           "name": "Avg Close Spring",
           "offsetgroup": "Avg Close Spring",
           "orientation": "v",
           "showlegend": true,
           "textposition": "auto",
           "type": "bar",
           "x": [
            "Avg Close Spring"
           ],
           "xaxis": "x",
           "y": [
            53.66496715585557
           ],
           "yaxis": "y"
          },
          {
           "alignmentgroup": "True",
           "hovertemplate": "Season=%{x}<br>Ticker=WELL<br>Average Close Price=%{y}<extra></extra>",
           "legendgroup": "Avg Close Summer",
           "marker": {
            "color": "#00cc96",
            "pattern": {
             "shape": ""
            }
           },
           "name": "Avg Close Summer",
           "offsetgroup": "Avg Close Summer",
           "orientation": "v",
           "showlegend": true,
           "textposition": "auto",
           "type": "bar",
           "x": [
            "Avg Close Summer"
           ],
           "xaxis": "x",
           "y": [
            55.967095478808034
           ],
           "yaxis": "y"
          },
          {
           "alignmentgroup": "True",
           "hovertemplate": "Season=%{x}<br>Ticker=WELL<br>Average Close Price=%{y}<extra></extra>",
           "legendgroup": "Avg Close Fall",
           "marker": {
            "color": "#ab63fa",
            "pattern": {
             "shape": ""
            }
           },
           "name": "Avg Close Fall",
           "offsetgroup": "Avg Close Fall",
           "orientation": "v",
           "showlegend": true,
           "textposition": "auto",
           "type": "bar",
           "x": [
            "Avg Close Fall"
           ],
           "xaxis": "x",
           "y": [
            56.633914154116844
           ],
           "yaxis": "y"
          }
         ],
         "name": "WELL"
        },
        {
         "data": [
          {
           "alignmentgroup": "True",
           "hovertemplate": "Season=%{x}<br>Ticker=WFC<br>Average Close Price=%{y}<extra></extra>",
           "legendgroup": "Avg Close Winter",
           "marker": {
            "color": "#636efa",
            "pattern": {
             "shape": ""
            }
           },
           "name": "Avg Close Winter",
           "offsetgroup": "Avg Close Winter",
           "orientation": "v",
           "showlegend": true,
           "textposition": "auto",
           "type": "bar",
           "x": [
            "Avg Close Winter"
           ],
           "xaxis": "x",
           "y": [
            38.75482890070701
           ],
           "yaxis": "y"
          },
          {
           "alignmentgroup": "True",
           "hovertemplate": "Season=%{x}<br>Ticker=WFC<br>Average Close Price=%{y}<extra></extra>",
           "legendgroup": "Avg Close Spring",
           "marker": {
            "color": "#EF553B",
            "pattern": {
             "shape": ""
            }
           },
           "name": "Avg Close Spring",
           "offsetgroup": "Avg Close Spring",
           "orientation": "v",
           "showlegend": true,
           "textposition": "auto",
           "type": "bar",
           "x": [
            "Avg Close Spring"
           ],
           "xaxis": "x",
           "y": [
            36.00157837887688
           ],
           "yaxis": "y"
          },
          {
           "alignmentgroup": "True",
           "hovertemplate": "Season=%{x}<br>Ticker=WFC<br>Average Close Price=%{y}<extra></extra>",
           "legendgroup": "Avg Close Summer",
           "marker": {
            "color": "#00cc96",
            "pattern": {
             "shape": ""
            }
           },
           "name": "Avg Close Summer",
           "offsetgroup": "Avg Close Summer",
           "orientation": "v",
           "showlegend": true,
           "textposition": "auto",
           "type": "bar",
           "x": [
            "Avg Close Summer"
           ],
           "xaxis": "x",
           "y": [
            35.93258782610235
           ],
           "yaxis": "y"
          },
          {
           "alignmentgroup": "True",
           "hovertemplate": "Season=%{x}<br>Ticker=WFC<br>Average Close Price=%{y}<extra></extra>",
           "legendgroup": "Avg Close Fall",
           "marker": {
            "color": "#ab63fa",
            "pattern": {
             "shape": ""
            }
           },
           "name": "Avg Close Fall",
           "offsetgroup": "Avg Close Fall",
           "orientation": "v",
           "showlegend": true,
           "textposition": "auto",
           "type": "bar",
           "x": [
            "Avg Close Fall"
           ],
           "xaxis": "x",
           "y": [
            37.73287077210531
           ],
           "yaxis": "y"
          }
         ],
         "name": "WFC"
        },
        {
         "data": [
          {
           "alignmentgroup": "True",
           "hovertemplate": "Season=%{x}<br>Ticker=WMT<br>Average Close Price=%{y}<extra></extra>",
           "legendgroup": "Avg Close Winter",
           "marker": {
            "color": "#636efa",
            "pattern": {
             "shape": ""
            }
           },
           "name": "Avg Close Winter",
           "offsetgroup": "Avg Close Winter",
           "orientation": "v",
           "showlegend": true,
           "textposition": "auto",
           "type": "bar",
           "x": [
            "Avg Close Winter"
           ],
           "xaxis": "x",
           "y": [
            32.42470282827105
           ],
           "yaxis": "y"
          },
          {
           "alignmentgroup": "True",
           "hovertemplate": "Season=%{x}<br>Ticker=WMT<br>Average Close Price=%{y}<extra></extra>",
           "legendgroup": "Avg Close Spring",
           "marker": {
            "color": "#EF553B",
            "pattern": {
             "shape": ""
            }
           },
           "name": "Avg Close Spring",
           "offsetgroup": "Avg Close Spring",
           "orientation": "v",
           "showlegend": true,
           "textposition": "auto",
           "type": "bar",
           "x": [
            "Avg Close Spring"
           ],
           "xaxis": "x",
           "y": [
            29.973513278003516
           ],
           "yaxis": "y"
          },
          {
           "alignmentgroup": "True",
           "hovertemplate": "Season=%{x}<br>Ticker=WMT<br>Average Close Price=%{y}<extra></extra>",
           "legendgroup": "Avg Close Summer",
           "marker": {
            "color": "#00cc96",
            "pattern": {
             "shape": ""
            }
           },
           "name": "Avg Close Summer",
           "offsetgroup": "Avg Close Summer",
           "orientation": "v",
           "showlegend": true,
           "textposition": "auto",
           "type": "bar",
           "x": [
            "Avg Close Summer"
           ],
           "xaxis": "x",
           "y": [
            30.980797230947964
           ],
           "yaxis": "y"
          },
          {
           "alignmentgroup": "True",
           "hovertemplate": "Season=%{x}<br>Ticker=WMT<br>Average Close Price=%{y}<extra></extra>",
           "legendgroup": "Avg Close Fall",
           "marker": {
            "color": "#ab63fa",
            "pattern": {
             "shape": ""
            }
           },
           "name": "Avg Close Fall",
           "offsetgroup": "Avg Close Fall",
           "orientation": "v",
           "showlegend": true,
           "textposition": "auto",
           "type": "bar",
           "x": [
            "Avg Close Fall"
           ],
           "xaxis": "x",
           "y": [
            32.93996467610367
           ],
           "yaxis": "y"
          }
         ],
         "name": "WMT"
        },
        {
         "data": [
          {
           "alignmentgroup": "True",
           "hovertemplate": "Season=%{x}<br>Ticker=XOM<br>Average Close Price=%{y}<extra></extra>",
           "legendgroup": "Avg Close Winter",
           "marker": {
            "color": "#636efa",
            "pattern": {
             "shape": ""
            }
           },
           "name": "Avg Close Winter",
           "offsetgroup": "Avg Close Winter",
           "orientation": "v",
           "showlegend": true,
           "textposition": "auto",
           "type": "bar",
           "x": [
            "Avg Close Winter"
           ],
           "xaxis": "x",
           "y": [
            62.69818775215928
           ],
           "yaxis": "y"
          },
          {
           "alignmentgroup": "True",
           "hovertemplate": "Season=%{x}<br>Ticker=XOM<br>Average Close Price=%{y}<extra></extra>",
           "legendgroup": "Avg Close Spring",
           "marker": {
            "color": "#EF553B",
            "pattern": {
             "shape": ""
            }
           },
           "name": "Avg Close Spring",
           "offsetgroup": "Avg Close Spring",
           "orientation": "v",
           "showlegend": true,
           "textposition": "auto",
           "type": "bar",
           "x": [
            "Avg Close Spring"
           ],
           "xaxis": "x",
           "y": [
            62.11005906180856
           ],
           "yaxis": "y"
          },
          {
           "alignmentgroup": "True",
           "hovertemplate": "Season=%{x}<br>Ticker=XOM<br>Average Close Price=%{y}<extra></extra>",
           "legendgroup": "Avg Close Summer",
           "marker": {
            "color": "#00cc96",
            "pattern": {
             "shape": ""
            }
           },
           "name": "Avg Close Summer",
           "offsetgroup": "Avg Close Summer",
           "orientation": "v",
           "showlegend": true,
           "textposition": "auto",
           "type": "bar",
           "x": [
            "Avg Close Summer"
           ],
           "xaxis": "x",
           "y": [
            61.0096106768652
           ],
           "yaxis": "y"
          },
          {
           "alignmentgroup": "True",
           "hovertemplate": "Season=%{x}<br>Ticker=XOM<br>Average Close Price=%{y}<extra></extra>",
           "legendgroup": "Avg Close Fall",
           "marker": {
            "color": "#ab63fa",
            "pattern": {
             "shape": ""
            }
           },
           "name": "Avg Close Fall",
           "offsetgroup": "Avg Close Fall",
           "orientation": "v",
           "showlegend": true,
           "textposition": "auto",
           "type": "bar",
           "x": [
            "Avg Close Fall"
           ],
           "xaxis": "x",
           "y": [
            62.73800563010849
           ],
           "yaxis": "y"
          }
         ],
         "name": "XOM"
        }
       ],
       "layout": {
        "barmode": "relative",
        "legend": {
         "title": {
          "text": "Season"
         },
         "tracegroupgap": 0
        },
        "sliders": [
         {
          "active": 0,
          "currentvalue": {
           "prefix": "Ticker="
          },
          "len": 0.9,
          "pad": {
           "b": 10,
           "t": 60
          },
          "steps": [
           {
            "args": [
             [
              "AAPL"
             ],
             {
              "frame": {
               "duration": 0,
               "redraw": true
              },
              "fromcurrent": true,
              "mode": "immediate",
              "transition": {
               "duration": 0,
               "easing": "linear"
              }
             }
            ],
            "label": "AAPL",
            "method": "animate"
           },
           {
            "args": [
             [
              "ABBV"
             ],
             {
              "frame": {
               "duration": 0,
               "redraw": true
              },
              "fromcurrent": true,
              "mode": "immediate",
              "transition": {
               "duration": 0,
               "easing": "linear"
              }
             }
            ],
            "label": "ABBV",
            "method": "animate"
           },
           {
            "args": [
             [
              "ABT"
             ],
             {
              "frame": {
               "duration": 0,
               "redraw": true
              },
              "fromcurrent": true,
              "mode": "immediate",
              "transition": {
               "duration": 0,
               "easing": "linear"
              }
             }
            ],
            "label": "ABT",
            "method": "animate"
           },
           {
            "args": [
             [
              "ACN"
             ],
             {
              "frame": {
               "duration": 0,
               "redraw": true
              },
              "fromcurrent": true,
              "mode": "immediate",
              "transition": {
               "duration": 0,
               "easing": "linear"
              }
             }
            ],
            "label": "ACN",
            "method": "animate"
           },
           {
            "args": [
             [
              "ADBE"
             ],
             {
              "frame": {
               "duration": 0,
               "redraw": true
              },
              "fromcurrent": true,
              "mode": "immediate",
              "transition": {
               "duration": 0,
               "easing": "linear"
              }
             }
            ],
            "label": "ADBE",
            "method": "animate"
           },
           {
            "args": [
             [
              "ADP"
             ],
             {
              "frame": {
               "duration": 0,
               "redraw": true
              },
              "fromcurrent": true,
              "mode": "immediate",
              "transition": {
               "duration": 0,
               "easing": "linear"
              }
             }
            ],
            "label": "ADP",
            "method": "animate"
           },
           {
            "args": [
             [
              "AMAT"
             ],
             {
              "frame": {
               "duration": 0,
               "redraw": true
              },
              "fromcurrent": true,
              "mode": "immediate",
              "transition": {
               "duration": 0,
               "easing": "linear"
              }
             }
            ],
            "label": "AMAT",
            "method": "animate"
           },
           {
            "args": [
             [
              "AMD"
             ],
             {
              "frame": {
               "duration": 0,
               "redraw": true
              },
              "fromcurrent": true,
              "mode": "immediate",
              "transition": {
               "duration": 0,
               "easing": "linear"
              }
             }
            ],
            "label": "AMD",
            "method": "animate"
           },
           {
            "args": [
             [
              "AMGN"
             ],
             {
              "frame": {
               "duration": 0,
               "redraw": true
              },
              "fromcurrent": true,
              "mode": "immediate",
              "transition": {
               "duration": 0,
               "easing": "linear"
              }
             }
            ],
            "label": "AMGN",
            "method": "animate"
           },
           {
            "args": [
             [
              "AMT"
             ],
             {
              "frame": {
               "duration": 0,
               "redraw": true
              },
              "fromcurrent": true,
              "mode": "immediate",
              "transition": {
               "duration": 0,
               "easing": "linear"
              }
             }
            ],
            "label": "AMT",
            "method": "animate"
           },
           {
            "args": [
             [
              "AMZN"
             ],
             {
              "frame": {
               "duration": 0,
               "redraw": true
              },
              "fromcurrent": true,
              "mode": "immediate",
              "transition": {
               "duration": 0,
               "easing": "linear"
              }
             }
            ],
            "label": "AMZN",
            "method": "animate"
           },
           {
            "args": [
             [
              "AVGO"
             ],
             {
              "frame": {
               "duration": 0,
               "redraw": true
              },
              "fromcurrent": true,
              "mode": "immediate",
              "transition": {
               "duration": 0,
               "easing": "linear"
              }
             }
            ],
            "label": "AVGO",
            "method": "animate"
           },
           {
            "args": [
             [
              "AXP"
             ],
             {
              "frame": {
               "duration": 0,
               "redraw": true
              },
              "fromcurrent": true,
              "mode": "immediate",
              "transition": {
               "duration": 0,
               "easing": "linear"
              }
             }
            ],
            "label": "AXP",
            "method": "animate"
           },
           {
            "args": [
             [
              "BA"
             ],
             {
              "frame": {
               "duration": 0,
               "redraw": true
              },
              "fromcurrent": true,
              "mode": "immediate",
              "transition": {
               "duration": 0,
               "easing": "linear"
              }
             }
            ],
            "label": "BA",
            "method": "animate"
           },
           {
            "args": [
             [
              "BAC"
             ],
             {
              "frame": {
               "duration": 0,
               "redraw": true
              },
              "fromcurrent": true,
              "mode": "immediate",
              "transition": {
               "duration": 0,
               "easing": "linear"
              }
             }
            ],
            "label": "BAC",
            "method": "animate"
           },
           {
            "args": [
             [
              "BKNG"
             ],
             {
              "frame": {
               "duration": 0,
               "redraw": true
              },
              "fromcurrent": true,
              "mode": "immediate",
              "transition": {
               "duration": 0,
               "easing": "linear"
              }
             }
            ],
            "label": "BKNG",
            "method": "animate"
           },
           {
            "args": [
             [
              "BLK"
             ],
             {
              "frame": {
               "duration": 0,
               "redraw": true
              },
              "fromcurrent": true,
              "mode": "immediate",
              "transition": {
               "duration": 0,
               "easing": "linear"
              }
             }
            ],
            "label": "BLK",
            "method": "animate"
           },
           {
            "args": [
             [
              "BMY"
             ],
             {
              "frame": {
               "duration": 0,
               "redraw": true
              },
              "fromcurrent": true,
              "mode": "immediate",
              "transition": {
               "duration": 0,
               "easing": "linear"
              }
             }
            ],
            "label": "BMY",
            "method": "animate"
           },
           {
            "args": [
             [
              "BRK-B"
             ],
             {
              "frame": {
               "duration": 0,
               "redraw": true
              },
              "fromcurrent": true,
              "mode": "immediate",
              "transition": {
               "duration": 0,
               "easing": "linear"
              }
             }
            ],
            "label": "BRK-B",
            "method": "animate"
           },
           {
            "args": [
             [
              "BSX"
             ],
             {
              "frame": {
               "duration": 0,
               "redraw": true
              },
              "fromcurrent": true,
              "mode": "immediate",
              "transition": {
               "duration": 0,
               "easing": "linear"
              }
             }
            ],
            "label": "BSX",
            "method": "animate"
           },
           {
            "args": [
             [
              "BX"
             ],
             {
              "frame": {
               "duration": 0,
               "redraw": true
              },
              "fromcurrent": true,
              "mode": "immediate",
              "transition": {
               "duration": 0,
               "easing": "linear"
              }
             }
            ],
            "label": "BX",
            "method": "animate"
           },
           {
            "args": [
             [
              "C"
             ],
             {
              "frame": {
               "duration": 0,
               "redraw": true
              },
              "fromcurrent": true,
              "mode": "immediate",
              "transition": {
               "duration": 0,
               "easing": "linear"
              }
             }
            ],
            "label": "C",
            "method": "animate"
           },
           {
            "args": [
             [
              "CAT"
             ],
             {
              "frame": {
               "duration": 0,
               "redraw": true
              },
              "fromcurrent": true,
              "mode": "immediate",
              "transition": {
               "duration": 0,
               "easing": "linear"
              }
             }
            ],
            "label": "CAT",
            "method": "animate"
           },
           {
            "args": [
             [
              "CB"
             ],
             {
              "frame": {
               "duration": 0,
               "redraw": true
              },
              "fromcurrent": true,
              "mode": "immediate",
              "transition": {
               "duration": 0,
               "easing": "linear"
              }
             }
            ],
            "label": "CB",
            "method": "animate"
           },
           {
            "args": [
             [
              "CMCSA"
             ],
             {
              "frame": {
               "duration": 0,
               "redraw": true
              },
              "fromcurrent": true,
              "mode": "immediate",
              "transition": {
               "duration": 0,
               "easing": "linear"
              }
             }
            ],
            "label": "CMCSA",
            "method": "animate"
           },
           {
            "args": [
             [
              "CME"
             ],
             {
              "frame": {
               "duration": 0,
               "redraw": true
              },
              "fromcurrent": true,
              "mode": "immediate",
              "transition": {
               "duration": 0,
               "easing": "linear"
              }
             }
            ],
            "label": "CME",
            "method": "animate"
           },
           {
            "args": [
             [
              "COP"
             ],
             {
              "frame": {
               "duration": 0,
               "redraw": true
              },
              "fromcurrent": true,
              "mode": "immediate",
              "transition": {
               "duration": 0,
               "easing": "linear"
              }
             }
            ],
            "label": "COP",
            "method": "animate"
           },
           {
            "args": [
             [
              "COST"
             ],
             {
              "frame": {
               "duration": 0,
               "redraw": true
              },
              "fromcurrent": true,
              "mode": "immediate",
              "transition": {
               "duration": 0,
               "easing": "linear"
              }
             }
            ],
            "label": "COST",
            "method": "animate"
           },
           {
            "args": [
             [
              "CRM"
             ],
             {
              "frame": {
               "duration": 0,
               "redraw": true
              },
              "fromcurrent": true,
              "mode": "immediate",
              "transition": {
               "duration": 0,
               "easing": "linear"
              }
             }
            ],
            "label": "CRM",
            "method": "animate"
           },
           {
            "args": [
             [
              "CRWD"
             ],
             {
              "frame": {
               "duration": 0,
               "redraw": true
              },
              "fromcurrent": true,
              "mode": "immediate",
              "transition": {
               "duration": 0,
               "easing": "linear"
              }
             }
            ],
            "label": "CRWD",
            "method": "animate"
           },
           {
            "args": [
             [
              "CSCO"
             ],
             {
              "frame": {
               "duration": 0,
               "redraw": true
              },
              "fromcurrent": true,
              "mode": "immediate",
              "transition": {
               "duration": 0,
               "easing": "linear"
              }
             }
            ],
            "label": "CSCO",
            "method": "animate"
           },
           {
            "args": [
             [
              "CVX"
             ],
             {
              "frame": {
               "duration": 0,
               "redraw": true
              },
              "fromcurrent": true,
              "mode": "immediate",
              "transition": {
               "duration": 0,
               "easing": "linear"
              }
             }
            ],
            "label": "CVX",
            "method": "animate"
           },
           {
            "args": [
             [
              "DE"
             ],
             {
              "frame": {
               "duration": 0,
               "redraw": true
              },
              "fromcurrent": true,
              "mode": "immediate",
              "transition": {
               "duration": 0,
               "easing": "linear"
              }
             }
            ],
            "label": "DE",
            "method": "animate"
           },
           {
            "args": [
             [
              "DHR"
             ],
             {
              "frame": {
               "duration": 0,
               "redraw": true
              },
              "fromcurrent": true,
              "mode": "immediate",
              "transition": {
               "duration": 0,
               "easing": "linear"
              }
             }
            ],
            "label": "DHR",
            "method": "animate"
           },
           {
            "args": [
             [
              "DIS"
             ],
             {
              "frame": {
               "duration": 0,
               "redraw": true
              },
              "fromcurrent": true,
              "mode": "immediate",
              "transition": {
               "duration": 0,
               "easing": "linear"
              }
             }
            ],
            "label": "DIS",
            "method": "animate"
           },
           {
            "args": [
             [
              "ELV"
             ],
             {
              "frame": {
               "duration": 0,
               "redraw": true
              },
              "fromcurrent": true,
              "mode": "immediate",
              "transition": {
               "duration": 0,
               "easing": "linear"
              }
             }
            ],
            "label": "ELV",
            "method": "animate"
           },
           {
            "args": [
             [
              "ETN"
             ],
             {
              "frame": {
               "duration": 0,
               "redraw": true
              },
              "fromcurrent": true,
              "mode": "immediate",
              "transition": {
               "duration": 0,
               "easing": "linear"
              }
             }
            ],
            "label": "ETN",
            "method": "animate"
           },
           {
            "args": [
             [
              "FI"
             ],
             {
              "frame": {
               "duration": 0,
               "redraw": true
              },
              "fromcurrent": true,
              "mode": "immediate",
              "transition": {
               "duration": 0,
               "easing": "linear"
              }
             }
            ],
            "label": "FI",
            "method": "animate"
           },
           {
            "args": [
             [
              "GE"
             ],
             {
              "frame": {
               "duration": 0,
               "redraw": true
              },
              "fromcurrent": true,
              "mode": "immediate",
              "transition": {
               "duration": 0,
               "easing": "linear"
              }
             }
            ],
            "label": "GE",
            "method": "animate"
           },
           {
            "args": [
             [
              "GILD"
             ],
             {
              "frame": {
               "duration": 0,
               "redraw": true
              },
              "fromcurrent": true,
              "mode": "immediate",
              "transition": {
               "duration": 0,
               "easing": "linear"
              }
             }
            ],
            "label": "GILD",
            "method": "animate"
           },
           {
            "args": [
             [
              "GOOG"
             ],
             {
              "frame": {
               "duration": 0,
               "redraw": true
              },
              "fromcurrent": true,
              "mode": "immediate",
              "transition": {
               "duration": 0,
               "easing": "linear"
              }
             }
            ],
            "label": "GOOG",
            "method": "animate"
           },
           {
            "args": [
             [
              "GOOGL"
             ],
             {
              "frame": {
               "duration": 0,
               "redraw": true
              },
              "fromcurrent": true,
              "mode": "immediate",
              "transition": {
               "duration": 0,
               "easing": "linear"
              }
             }
            ],
            "label": "GOOGL",
            "method": "animate"
           },
           {
            "args": [
             [
              "GS"
             ],
             {
              "frame": {
               "duration": 0,
               "redraw": true
              },
              "fromcurrent": true,
              "mode": "immediate",
              "transition": {
               "duration": 0,
               "easing": "linear"
              }
             }
            ],
            "label": "GS",
            "method": "animate"
           },
           {
            "args": [
             [
              "HD"
             ],
             {
              "frame": {
               "duration": 0,
               "redraw": true
              },
              "fromcurrent": true,
              "mode": "immediate",
              "transition": {
               "duration": 0,
               "easing": "linear"
              }
             }
            ],
            "label": "HD",
            "method": "animate"
           },
           {
            "args": [
             [
              "HON"
             ],
             {
              "frame": {
               "duration": 0,
               "redraw": true
              },
              "fromcurrent": true,
              "mode": "immediate",
              "transition": {
               "duration": 0,
               "easing": "linear"
              }
             }
            ],
            "label": "HON",
            "method": "animate"
           },
           {
            "args": [
             [
              "IBM"
             ],
             {
              "frame": {
               "duration": 0,
               "redraw": true
              },
              "fromcurrent": true,
              "mode": "immediate",
              "transition": {
               "duration": 0,
               "easing": "linear"
              }
             }
            ],
            "label": "IBM",
            "method": "animate"
           },
           {
            "args": [
             [
              "INTU"
             ],
             {
              "frame": {
               "duration": 0,
               "redraw": true
              },
              "fromcurrent": true,
              "mode": "immediate",
              "transition": {
               "duration": 0,
               "easing": "linear"
              }
             }
            ],
            "label": "INTU",
            "method": "animate"
           },
           {
            "args": [
             [
              "ISRG"
             ],
             {
              "frame": {
               "duration": 0,
               "redraw": true
              },
              "fromcurrent": true,
              "mode": "immediate",
              "transition": {
               "duration": 0,
               "easing": "linear"
              }
             }
            ],
            "label": "ISRG",
            "method": "animate"
           },
           {
            "args": [
             [
              "JNJ"
             ],
             {
              "frame": {
               "duration": 0,
               "redraw": true
              },
              "fromcurrent": true,
              "mode": "immediate",
              "transition": {
               "duration": 0,
               "easing": "linear"
              }
             }
            ],
            "label": "JNJ",
            "method": "animate"
           },
           {
            "args": [
             [
              "JPM"
             ],
             {
              "frame": {
               "duration": 0,
               "redraw": true
              },
              "fromcurrent": true,
              "mode": "immediate",
              "transition": {
               "duration": 0,
               "easing": "linear"
              }
             }
            ],
            "label": "JPM",
            "method": "animate"
           },
           {
            "args": [
             [
              "KKR"
             ],
             {
              "frame": {
               "duration": 0,
               "redraw": true
              },
              "fromcurrent": true,
              "mode": "immediate",
              "transition": {
               "duration": 0,
               "easing": "linear"
              }
             }
            ],
            "label": "KKR",
            "method": "animate"
           },
           {
            "args": [
             [
              "KO"
             ],
             {
              "frame": {
               "duration": 0,
               "redraw": true
              },
              "fromcurrent": true,
              "mode": "immediate",
              "transition": {
               "duration": 0,
               "easing": "linear"
              }
             }
            ],
            "label": "KO",
            "method": "animate"
           },
           {
            "args": [
             [
              "LIN"
             ],
             {
              "frame": {
               "duration": 0,
               "redraw": true
              },
              "fromcurrent": true,
              "mode": "immediate",
              "transition": {
               "duration": 0,
               "easing": "linear"
              }
             }
            ],
            "label": "LIN",
            "method": "animate"
           },
           {
            "args": [
             [
              "LLY"
             ],
             {
              "frame": {
               "duration": 0,
               "redraw": true
              },
              "fromcurrent": true,
              "mode": "immediate",
              "transition": {
               "duration": 0,
               "easing": "linear"
              }
             }
            ],
            "label": "LLY",
            "method": "animate"
           },
           {
            "args": [
             [
              "LMT"
             ],
             {
              "frame": {
               "duration": 0,
               "redraw": true
              },
              "fromcurrent": true,
              "mode": "immediate",
              "transition": {
               "duration": 0,
               "easing": "linear"
              }
             }
            ],
            "label": "LMT",
            "method": "animate"
           },
           {
            "args": [
             [
              "LOW"
             ],
             {
              "frame": {
               "duration": 0,
               "redraw": true
              },
              "fromcurrent": true,
              "mode": "immediate",
              "transition": {
               "duration": 0,
               "easing": "linear"
              }
             }
            ],
            "label": "LOW",
            "method": "animate"
           },
           {
            "args": [
             [
              "MA"
             ],
             {
              "frame": {
               "duration": 0,
               "redraw": true
              },
              "fromcurrent": true,
              "mode": "immediate",
              "transition": {
               "duration": 0,
               "easing": "linear"
              }
             }
            ],
            "label": "MA",
            "method": "animate"
           },
           {
            "args": [
             [
              "MCD"
             ],
             {
              "frame": {
               "duration": 0,
               "redraw": true
              },
              "fromcurrent": true,
              "mode": "immediate",
              "transition": {
               "duration": 0,
               "easing": "linear"
              }
             }
            ],
            "label": "MCD",
            "method": "animate"
           },
           {
            "args": [
             [
              "MDT"
             ],
             {
              "frame": {
               "duration": 0,
               "redraw": true
              },
              "fromcurrent": true,
              "mode": "immediate",
              "transition": {
               "duration": 0,
               "easing": "linear"
              }
             }
            ],
            "label": "MDT",
            "method": "animate"
           },
           {
            "args": [
             [
              "META"
             ],
             {
              "frame": {
               "duration": 0,
               "redraw": true
              },
              "fromcurrent": true,
              "mode": "immediate",
              "transition": {
               "duration": 0,
               "easing": "linear"
              }
             }
            ],
            "label": "META",
            "method": "animate"
           },
           {
            "args": [
             [
              "MMC"
             ],
             {
              "frame": {
               "duration": 0,
               "redraw": true
              },
              "fromcurrent": true,
              "mode": "immediate",
              "transition": {
               "duration": 0,
               "easing": "linear"
              }
             }
            ],
            "label": "MMC",
            "method": "animate"
           },
           {
            "args": [
             [
              "MO"
             ],
             {
              "frame": {
               "duration": 0,
               "redraw": true
              },
              "fromcurrent": true,
              "mode": "immediate",
              "transition": {
               "duration": 0,
               "easing": "linear"
              }
             }
            ],
            "label": "MO",
            "method": "animate"
           },
           {
            "args": [
             [
              "MRK"
             ],
             {
              "frame": {
               "duration": 0,
               "redraw": true
              },
              "fromcurrent": true,
              "mode": "immediate",
              "transition": {
               "duration": 0,
               "easing": "linear"
              }
             }
            ],
            "label": "MRK",
            "method": "animate"
           },
           {
            "args": [
             [
              "MS"
             ],
             {
              "frame": {
               "duration": 0,
               "redraw": true
              },
              "fromcurrent": true,
              "mode": "immediate",
              "transition": {
               "duration": 0,
               "easing": "linear"
              }
             }
            ],
            "label": "MS",
            "method": "animate"
           },
           {
            "args": [
             [
              "MSFT"
             ],
             {
              "frame": {
               "duration": 0,
               "redraw": true
              },
              "fromcurrent": true,
              "mode": "immediate",
              "transition": {
               "duration": 0,
               "easing": "linear"
              }
             }
            ],
            "label": "MSFT",
            "method": "animate"
           },
           {
            "args": [
             [
              "NEE"
             ],
             {
              "frame": {
               "duration": 0,
               "redraw": true
              },
              "fromcurrent": true,
              "mode": "immediate",
              "transition": {
               "duration": 0,
               "easing": "linear"
              }
             }
            ],
            "label": "NEE",
            "method": "animate"
           },
           {
            "args": [
             [
              "NFLX"
             ],
             {
              "frame": {
               "duration": 0,
               "redraw": true
              },
              "fromcurrent": true,
              "mode": "immediate",
              "transition": {
               "duration": 0,
               "easing": "linear"
              }
             }
            ],
            "label": "NFLX",
            "method": "animate"
           },
           {
            "args": [
             [
              "NOW"
             ],
             {
              "frame": {
               "duration": 0,
               "redraw": true
              },
              "fromcurrent": true,
              "mode": "immediate",
              "transition": {
               "duration": 0,
               "easing": "linear"
              }
             }
            ],
            "label": "NOW",
            "method": "animate"
           },
           {
            "args": [
             [
              "NVDA"
             ],
             {
              "frame": {
               "duration": 0,
               "redraw": true
              },
              "fromcurrent": true,
              "mode": "immediate",
              "transition": {
               "duration": 0,
               "easing": "linear"
              }
             }
            ],
            "label": "NVDA",
            "method": "animate"
           },
           {
            "args": [
             [
              "ORCL"
             ],
             {
              "frame": {
               "duration": 0,
               "redraw": true
              },
              "fromcurrent": true,
              "mode": "immediate",
              "transition": {
               "duration": 0,
               "easing": "linear"
              }
             }
            ],
            "label": "ORCL",
            "method": "animate"
           },
           {
            "args": [
             [
              "PANW"
             ],
             {
              "frame": {
               "duration": 0,
               "redraw": true
              },
              "fromcurrent": true,
              "mode": "immediate",
              "transition": {
               "duration": 0,
               "easing": "linear"
              }
             }
            ],
            "label": "PANW",
            "method": "animate"
           },
           {
            "args": [
             [
              "PEP"
             ],
             {
              "frame": {
               "duration": 0,
               "redraw": true
              },
              "fromcurrent": true,
              "mode": "immediate",
              "transition": {
               "duration": 0,
               "easing": "linear"
              }
             }
            ],
            "label": "PEP",
            "method": "animate"
           },
           {
            "args": [
             [
              "PFE"
             ],
             {
              "frame": {
               "duration": 0,
               "redraw": true
              },
              "fromcurrent": true,
              "mode": "immediate",
              "transition": {
               "duration": 0,
               "easing": "linear"
              }
             }
            ],
            "label": "PFE",
            "method": "animate"
           },
           {
            "args": [
             [
              "PG"
             ],
             {
              "frame": {
               "duration": 0,
               "redraw": true
              },
              "fromcurrent": true,
              "mode": "immediate",
              "transition": {
               "duration": 0,
               "easing": "linear"
              }
             }
            ],
            "label": "PG",
            "method": "animate"
           },
           {
            "args": [
             [
              "PGR"
             ],
             {
              "frame": {
               "duration": 0,
               "redraw": true
              },
              "fromcurrent": true,
              "mode": "immediate",
              "transition": {
               "duration": 0,
               "easing": "linear"
              }
             }
            ],
            "label": "PGR",
            "method": "animate"
           },
           {
            "args": [
             [
              "PLTR"
             ],
             {
              "frame": {
               "duration": 0,
               "redraw": true
              },
              "fromcurrent": true,
              "mode": "immediate",
              "transition": {
               "duration": 0,
               "easing": "linear"
              }
             }
            ],
            "label": "PLTR",
            "method": "animate"
           },
           {
            "args": [
             [
              "PM"
             ],
             {
              "frame": {
               "duration": 0,
               "redraw": true
              },
              "fromcurrent": true,
              "mode": "immediate",
              "transition": {
               "duration": 0,
               "easing": "linear"
              }
             }
            ],
            "label": "PM",
            "method": "animate"
           },
           {
            "args": [
             [
              "QCOM"
             ],
             {
              "frame": {
               "duration": 0,
               "redraw": true
              },
              "fromcurrent": true,
              "mode": "immediate",
              "transition": {
               "duration": 0,
               "easing": "linear"
              }
             }
            ],
            "label": "QCOM",
            "method": "animate"
           },
           {
            "args": [
             [
              "RTX"
             ],
             {
              "frame": {
               "duration": 0,
               "redraw": true
              },
              "fromcurrent": true,
              "mode": "immediate",
              "transition": {
               "duration": 0,
               "easing": "linear"
              }
             }
            ],
            "label": "RTX",
            "method": "animate"
           },
           {
            "args": [
             [
              "SBUX"
             ],
             {
              "frame": {
               "duration": 0,
               "redraw": true
              },
              "fromcurrent": true,
              "mode": "immediate",
              "transition": {
               "duration": 0,
               "easing": "linear"
              }
             }
            ],
            "label": "SBUX",
            "method": "animate"
           },
           {
            "args": [
             [
              "SCHW"
             ],
             {
              "frame": {
               "duration": 0,
               "redraw": true
              },
              "fromcurrent": true,
              "mode": "immediate",
              "transition": {
               "duration": 0,
               "easing": "linear"
              }
             }
            ],
            "label": "SCHW",
            "method": "animate"
           },
           {
            "args": [
             [
              "SO"
             ],
             {
              "frame": {
               "duration": 0,
               "redraw": true
              },
              "fromcurrent": true,
              "mode": "immediate",
              "transition": {
               "duration": 0,
               "easing": "linear"
              }
             }
            ],
            "label": "SO",
            "method": "animate"
           },
           {
            "args": [
             [
              "SPGI"
             ],
             {
              "frame": {
               "duration": 0,
               "redraw": true
              },
              "fromcurrent": true,
              "mode": "immediate",
              "transition": {
               "duration": 0,
               "easing": "linear"
              }
             }
            ],
            "label": "SPGI",
            "method": "animate"
           },
           {
            "args": [
             [
              "SYK"
             ],
             {
              "frame": {
               "duration": 0,
               "redraw": true
              },
              "fromcurrent": true,
              "mode": "immediate",
              "transition": {
               "duration": 0,
               "easing": "linear"
              }
             }
            ],
            "label": "SYK",
            "method": "animate"
           },
           {
            "args": [
             [
              "T"
             ],
             {
              "frame": {
               "duration": 0,
               "redraw": true
              },
              "fromcurrent": true,
              "mode": "immediate",
              "transition": {
               "duration": 0,
               "easing": "linear"
              }
             }
            ],
            "label": "T",
            "method": "animate"
           },
           {
            "args": [
             [
              "TJX"
             ],
             {
              "frame": {
               "duration": 0,
               "redraw": true
              },
              "fromcurrent": true,
              "mode": "immediate",
              "transition": {
               "duration": 0,
               "easing": "linear"
              }
             }
            ],
            "label": "TJX",
            "method": "animate"
           },
           {
            "args": [
             [
              "TMO"
             ],
             {
              "frame": {
               "duration": 0,
               "redraw": true
              },
              "fromcurrent": true,
              "mode": "immediate",
              "transition": {
               "duration": 0,
               "easing": "linear"
              }
             }
            ],
            "label": "TMO",
            "method": "animate"
           },
           {
            "args": [
             [
              "TMUS"
             ],
             {
              "frame": {
               "duration": 0,
               "redraw": true
              },
              "fromcurrent": true,
              "mode": "immediate",
              "transition": {
               "duration": 0,
               "easing": "linear"
              }
             }
            ],
            "label": "TMUS",
            "method": "animate"
           },
           {
            "args": [
             [
              "TSLA"
             ],
             {
              "frame": {
               "duration": 0,
               "redraw": true
              },
              "fromcurrent": true,
              "mode": "immediate",
              "transition": {
               "duration": 0,
               "easing": "linear"
              }
             }
            ],
            "label": "TSLA",
            "method": "animate"
           },
           {
            "args": [
             [
              "TXN"
             ],
             {
              "frame": {
               "duration": 0,
               "redraw": true
              },
              "fromcurrent": true,
              "mode": "immediate",
              "transition": {
               "duration": 0,
               "easing": "linear"
              }
             }
            ],
            "label": "TXN",
            "method": "animate"
           },
           {
            "args": [
             [
              "UBER"
             ],
             {
              "frame": {
               "duration": 0,
               "redraw": true
              },
              "fromcurrent": true,
              "mode": "immediate",
              "transition": {
               "duration": 0,
               "easing": "linear"
              }
             }
            ],
            "label": "UBER",
            "method": "animate"
           },
           {
            "args": [
             [
              "UNH"
             ],
             {
              "frame": {
               "duration": 0,
               "redraw": true
              },
              "fromcurrent": true,
              "mode": "immediate",
              "transition": {
               "duration": 0,
               "easing": "linear"
              }
             }
            ],
            "label": "UNH",
            "method": "animate"
           },
           {
            "args": [
             [
              "UNP"
             ],
             {
              "frame": {
               "duration": 0,
               "redraw": true
              },
              "fromcurrent": true,
              "mode": "immediate",
              "transition": {
               "duration": 0,
               "easing": "linear"
              }
             }
            ],
            "label": "UNP",
            "method": "animate"
           },
           {
            "args": [
             [
              "V"
             ],
             {
              "frame": {
               "duration": 0,
               "redraw": true
              },
              "fromcurrent": true,
              "mode": "immediate",
              "transition": {
               "duration": 0,
               "easing": "linear"
              }
             }
            ],
            "label": "V",
            "method": "animate"
           },
           {
            "args": [
             [
              "VRTX"
             ],
             {
              "frame": {
               "duration": 0,
               "redraw": true
              },
              "fromcurrent": true,
              "mode": "immediate",
              "transition": {
               "duration": 0,
               "easing": "linear"
              }
             }
            ],
            "label": "VRTX",
            "method": "animate"
           },
           {
            "args": [
             [
              "VZ"
             ],
             {
              "frame": {
               "duration": 0,
               "redraw": true
              },
              "fromcurrent": true,
              "mode": "immediate",
              "transition": {
               "duration": 0,
               "easing": "linear"
              }
             }
            ],
            "label": "VZ",
            "method": "animate"
           },
           {
            "args": [
             [
              "WELL"
             ],
             {
              "frame": {
               "duration": 0,
               "redraw": true
              },
              "fromcurrent": true,
              "mode": "immediate",
              "transition": {
               "duration": 0,
               "easing": "linear"
              }
             }
            ],
            "label": "WELL",
            "method": "animate"
           },
           {
            "args": [
             [
              "WFC"
             ],
             {
              "frame": {
               "duration": 0,
               "redraw": true
              },
              "fromcurrent": true,
              "mode": "immediate",
              "transition": {
               "duration": 0,
               "easing": "linear"
              }
             }
            ],
            "label": "WFC",
            "method": "animate"
           },
           {
            "args": [
             [
              "WMT"
             ],
             {
              "frame": {
               "duration": 0,
               "redraw": true
              },
              "fromcurrent": true,
              "mode": "immediate",
              "transition": {
               "duration": 0,
               "easing": "linear"
              }
             }
            ],
            "label": "WMT",
            "method": "animate"
           },
           {
            "args": [
             [
              "XOM"
             ],
             {
              "frame": {
               "duration": 0,
               "redraw": true
              },
              "fromcurrent": true,
              "mode": "immediate",
              "transition": {
               "duration": 0,
               "easing": "linear"
              }
             }
            ],
            "label": "XOM",
            "method": "animate"
           }
          ],
          "x": 0.1,
          "xanchor": "left",
          "y": 0,
          "yanchor": "top"
         }
        ],
        "template": {
         "data": {
          "bar": [
           {
            "error_x": {
             "color": "#2a3f5f"
            },
            "error_y": {
             "color": "#2a3f5f"
            },
            "marker": {
             "line": {
              "color": "#E5ECF6",
              "width": 0.5
             },
             "pattern": {
              "fillmode": "overlay",
              "size": 10,
              "solidity": 0.2
             }
            },
            "type": "bar"
           }
          ],
          "barpolar": [
           {
            "marker": {
             "line": {
              "color": "#E5ECF6",
              "width": 0.5
             },
             "pattern": {
              "fillmode": "overlay",
              "size": 10,
              "solidity": 0.2
             }
            },
            "type": "barpolar"
           }
          ],
          "carpet": [
           {
            "aaxis": {
             "endlinecolor": "#2a3f5f",
             "gridcolor": "white",
             "linecolor": "white",
             "minorgridcolor": "white",
             "startlinecolor": "#2a3f5f"
            },
            "baxis": {
             "endlinecolor": "#2a3f5f",
             "gridcolor": "white",
             "linecolor": "white",
             "minorgridcolor": "white",
             "startlinecolor": "#2a3f5f"
            },
            "type": "carpet"
           }
          ],
          "choropleth": [
           {
            "colorbar": {
             "outlinewidth": 0,
             "ticks": ""
            },
            "type": "choropleth"
           }
          ],
          "contour": [
           {
            "colorbar": {
             "outlinewidth": 0,
             "ticks": ""
            },
            "colorscale": [
             [
              0,
              "#0d0887"
             ],
             [
              0.1111111111111111,
              "#46039f"
             ],
             [
              0.2222222222222222,
              "#7201a8"
             ],
             [
              0.3333333333333333,
              "#9c179e"
             ],
             [
              0.4444444444444444,
              "#bd3786"
             ],
             [
              0.5555555555555556,
              "#d8576b"
             ],
             [
              0.6666666666666666,
              "#ed7953"
             ],
             [
              0.7777777777777778,
              "#fb9f3a"
             ],
             [
              0.8888888888888888,
              "#fdca26"
             ],
             [
              1,
              "#f0f921"
             ]
            ],
            "type": "contour"
           }
          ],
          "contourcarpet": [
           {
            "colorbar": {
             "outlinewidth": 0,
             "ticks": ""
            },
            "type": "contourcarpet"
           }
          ],
          "heatmap": [
           {
            "colorbar": {
             "outlinewidth": 0,
             "ticks": ""
            },
            "colorscale": [
             [
              0,
              "#0d0887"
             ],
             [
              0.1111111111111111,
              "#46039f"
             ],
             [
              0.2222222222222222,
              "#7201a8"
             ],
             [
              0.3333333333333333,
              "#9c179e"
             ],
             [
              0.4444444444444444,
              "#bd3786"
             ],
             [
              0.5555555555555556,
              "#d8576b"
             ],
             [
              0.6666666666666666,
              "#ed7953"
             ],
             [
              0.7777777777777778,
              "#fb9f3a"
             ],
             [
              0.8888888888888888,
              "#fdca26"
             ],
             [
              1,
              "#f0f921"
             ]
            ],
            "type": "heatmap"
           }
          ],
          "heatmapgl": [
           {
            "colorbar": {
             "outlinewidth": 0,
             "ticks": ""
            },
            "colorscale": [
             [
              0,
              "#0d0887"
             ],
             [
              0.1111111111111111,
              "#46039f"
             ],
             [
              0.2222222222222222,
              "#7201a8"
             ],
             [
              0.3333333333333333,
              "#9c179e"
             ],
             [
              0.4444444444444444,
              "#bd3786"
             ],
             [
              0.5555555555555556,
              "#d8576b"
             ],
             [
              0.6666666666666666,
              "#ed7953"
             ],
             [
              0.7777777777777778,
              "#fb9f3a"
             ],
             [
              0.8888888888888888,
              "#fdca26"
             ],
             [
              1,
              "#f0f921"
             ]
            ],
            "type": "heatmapgl"
           }
          ],
          "histogram": [
           {
            "marker": {
             "pattern": {
              "fillmode": "overlay",
              "size": 10,
              "solidity": 0.2
             }
            },
            "type": "histogram"
           }
          ],
          "histogram2d": [
           {
            "colorbar": {
             "outlinewidth": 0,
             "ticks": ""
            },
            "colorscale": [
             [
              0,
              "#0d0887"
             ],
             [
              0.1111111111111111,
              "#46039f"
             ],
             [
              0.2222222222222222,
              "#7201a8"
             ],
             [
              0.3333333333333333,
              "#9c179e"
             ],
             [
              0.4444444444444444,
              "#bd3786"
             ],
             [
              0.5555555555555556,
              "#d8576b"
             ],
             [
              0.6666666666666666,
              "#ed7953"
             ],
             [
              0.7777777777777778,
              "#fb9f3a"
             ],
             [
              0.8888888888888888,
              "#fdca26"
             ],
             [
              1,
              "#f0f921"
             ]
            ],
            "type": "histogram2d"
           }
          ],
          "histogram2dcontour": [
           {
            "colorbar": {
             "outlinewidth": 0,
             "ticks": ""
            },
            "colorscale": [
             [
              0,
              "#0d0887"
             ],
             [
              0.1111111111111111,
              "#46039f"
             ],
             [
              0.2222222222222222,
              "#7201a8"
             ],
             [
              0.3333333333333333,
              "#9c179e"
             ],
             [
              0.4444444444444444,
              "#bd3786"
             ],
             [
              0.5555555555555556,
              "#d8576b"
             ],
             [
              0.6666666666666666,
              "#ed7953"
             ],
             [
              0.7777777777777778,
              "#fb9f3a"
             ],
             [
              0.8888888888888888,
              "#fdca26"
             ],
             [
              1,
              "#f0f921"
             ]
            ],
            "type": "histogram2dcontour"
           }
          ],
          "mesh3d": [
           {
            "colorbar": {
             "outlinewidth": 0,
             "ticks": ""
            },
            "type": "mesh3d"
           }
          ],
          "parcoords": [
           {
            "line": {
             "colorbar": {
              "outlinewidth": 0,
              "ticks": ""
             }
            },
            "type": "parcoords"
           }
          ],
          "pie": [
           {
            "automargin": true,
            "type": "pie"
           }
          ],
          "scatter": [
           {
            "fillpattern": {
             "fillmode": "overlay",
             "size": 10,
             "solidity": 0.2
            },
            "type": "scatter"
           }
          ],
          "scatter3d": [
           {
            "line": {
             "colorbar": {
              "outlinewidth": 0,
              "ticks": ""
             }
            },
            "marker": {
             "colorbar": {
              "outlinewidth": 0,
              "ticks": ""
             }
            },
            "type": "scatter3d"
           }
          ],
          "scattercarpet": [
           {
            "marker": {
             "colorbar": {
              "outlinewidth": 0,
              "ticks": ""
             }
            },
            "type": "scattercarpet"
           }
          ],
          "scattergeo": [
           {
            "marker": {
             "colorbar": {
              "outlinewidth": 0,
              "ticks": ""
             }
            },
            "type": "scattergeo"
           }
          ],
          "scattergl": [
           {
            "marker": {
             "colorbar": {
              "outlinewidth": 0,
              "ticks": ""
             }
            },
            "type": "scattergl"
           }
          ],
          "scattermapbox": [
           {
            "marker": {
             "colorbar": {
              "outlinewidth": 0,
              "ticks": ""
             }
            },
            "type": "scattermapbox"
           }
          ],
          "scatterpolar": [
           {
            "marker": {
             "colorbar": {
              "outlinewidth": 0,
              "ticks": ""
             }
            },
            "type": "scatterpolar"
           }
          ],
          "scatterpolargl": [
           {
            "marker": {
             "colorbar": {
              "outlinewidth": 0,
              "ticks": ""
             }
            },
            "type": "scatterpolargl"
           }
          ],
          "scatterternary": [
           {
            "marker": {
             "colorbar": {
              "outlinewidth": 0,
              "ticks": ""
             }
            },
            "type": "scatterternary"
           }
          ],
          "surface": [
           {
            "colorbar": {
             "outlinewidth": 0,
             "ticks": ""
            },
            "colorscale": [
             [
              0,
              "#0d0887"
             ],
             [
              0.1111111111111111,
              "#46039f"
             ],
             [
              0.2222222222222222,
              "#7201a8"
             ],
             [
              0.3333333333333333,
              "#9c179e"
             ],
             [
              0.4444444444444444,
              "#bd3786"
             ],
             [
              0.5555555555555556,
              "#d8576b"
             ],
             [
              0.6666666666666666,
              "#ed7953"
             ],
             [
              0.7777777777777778,
              "#fb9f3a"
             ],
             [
              0.8888888888888888,
              "#fdca26"
             ],
             [
              1,
              "#f0f921"
             ]
            ],
            "type": "surface"
           }
          ],
          "table": [
           {
            "cells": {
             "fill": {
              "color": "#EBF0F8"
             },
             "line": {
              "color": "white"
             }
            },
            "header": {
             "fill": {
              "color": "#C8D4E3"
             },
             "line": {
              "color": "white"
             }
            },
            "type": "table"
           }
          ]
         },
         "layout": {
          "annotationdefaults": {
           "arrowcolor": "#2a3f5f",
           "arrowhead": 0,
           "arrowwidth": 1
          },
          "autotypenumbers": "strict",
          "coloraxis": {
           "colorbar": {
            "outlinewidth": 0,
            "ticks": ""
           }
          },
          "colorscale": {
           "diverging": [
            [
             0,
             "#8e0152"
            ],
            [
             0.1,
             "#c51b7d"
            ],
            [
             0.2,
             "#de77ae"
            ],
            [
             0.3,
             "#f1b6da"
            ],
            [
             0.4,
             "#fde0ef"
            ],
            [
             0.5,
             "#f7f7f7"
            ],
            [
             0.6,
             "#e6f5d0"
            ],
            [
             0.7,
             "#b8e186"
            ],
            [
             0.8,
             "#7fbc41"
            ],
            [
             0.9,
             "#4d9221"
            ],
            [
             1,
             "#276419"
            ]
           ],
           "sequential": [
            [
             0,
             "#0d0887"
            ],
            [
             0.1111111111111111,
             "#46039f"
            ],
            [
             0.2222222222222222,
             "#7201a8"
            ],
            [
             0.3333333333333333,
             "#9c179e"
            ],
            [
             0.4444444444444444,
             "#bd3786"
            ],
            [
             0.5555555555555556,
             "#d8576b"
            ],
            [
             0.6666666666666666,
             "#ed7953"
            ],
            [
             0.7777777777777778,
             "#fb9f3a"
            ],
            [
             0.8888888888888888,
             "#fdca26"
            ],
            [
             1,
             "#f0f921"
            ]
           ],
           "sequentialminus": [
            [
             0,
             "#0d0887"
            ],
            [
             0.1111111111111111,
             "#46039f"
            ],
            [
             0.2222222222222222,
             "#7201a8"
            ],
            [
             0.3333333333333333,
             "#9c179e"
            ],
            [
             0.4444444444444444,
             "#bd3786"
            ],
            [
             0.5555555555555556,
             "#d8576b"
            ],
            [
             0.6666666666666666,
             "#ed7953"
            ],
            [
             0.7777777777777778,
             "#fb9f3a"
            ],
            [
             0.8888888888888888,
             "#fdca26"
            ],
            [
             1,
             "#f0f921"
            ]
           ]
          },
          "colorway": [
           "#636efa",
           "#EF553B",
           "#00cc96",
           "#ab63fa",
           "#FFA15A",
           "#19d3f3",
           "#FF6692",
           "#B6E880",
           "#FF97FF",
           "#FECB52"
          ],
          "font": {
           "color": "#2a3f5f"
          },
          "geo": {
           "bgcolor": "white",
           "lakecolor": "white",
           "landcolor": "#E5ECF6",
           "showlakes": true,
           "showland": true,
           "subunitcolor": "white"
          },
          "hoverlabel": {
           "align": "left"
          },
          "hovermode": "closest",
          "mapbox": {
           "style": "light"
          },
          "paper_bgcolor": "white",
          "plot_bgcolor": "#E5ECF6",
          "polar": {
           "angularaxis": {
            "gridcolor": "white",
            "linecolor": "white",
            "ticks": ""
           },
           "bgcolor": "#E5ECF6",
           "radialaxis": {
            "gridcolor": "white",
            "linecolor": "white",
            "ticks": ""
           }
          },
          "scene": {
           "xaxis": {
            "backgroundcolor": "#E5ECF6",
            "gridcolor": "white",
            "gridwidth": 2,
            "linecolor": "white",
            "showbackground": true,
            "ticks": "",
            "zerolinecolor": "white"
           },
           "yaxis": {
            "backgroundcolor": "#E5ECF6",
            "gridcolor": "white",
            "gridwidth": 2,
            "linecolor": "white",
            "showbackground": true,
            "ticks": "",
            "zerolinecolor": "white"
           },
           "zaxis": {
            "backgroundcolor": "#E5ECF6",
            "gridcolor": "white",
            "gridwidth": 2,
            "linecolor": "white",
            "showbackground": true,
            "ticks": "",
            "zerolinecolor": "white"
           }
          },
          "shapedefaults": {
           "line": {
            "color": "#2a3f5f"
           }
          },
          "ternary": {
           "aaxis": {
            "gridcolor": "white",
            "linecolor": "white",
            "ticks": ""
           },
           "baxis": {
            "gridcolor": "white",
            "linecolor": "white",
            "ticks": ""
           },
           "bgcolor": "#E5ECF6",
           "caxis": {
            "gridcolor": "white",
            "linecolor": "white",
            "ticks": ""
           }
          },
          "title": {
           "x": 0.05
          },
          "xaxis": {
           "automargin": true,
           "gridcolor": "white",
           "linecolor": "white",
           "ticks": "",
           "title": {
            "standoff": 15
           },
           "zerolinecolor": "white",
           "zerolinewidth": 2
          },
          "yaxis": {
           "automargin": true,
           "gridcolor": "white",
           "linecolor": "white",
           "ticks": "",
           "title": {
            "standoff": 15
           },
           "zerolinecolor": "white",
           "zerolinewidth": 2
          }
         }
        },
        "title": {
         "text": "Seasonal Stock Close Averages"
        },
        "updatemenus": [
         {
          "buttons": [
           {
            "args": [
             null,
             {
              "frame": {
               "duration": 500,
               "redraw": true
              },
              "fromcurrent": true,
              "mode": "immediate",
              "transition": {
               "duration": 500,
               "easing": "linear"
              }
             }
            ],
            "label": "&#9654;",
            "method": "animate"
           },
           {
            "args": [
             [
              null
             ],
             {
              "frame": {
               "duration": 0,
               "redraw": true
              },
              "fromcurrent": true,
              "mode": "immediate",
              "transition": {
               "duration": 0,
               "easing": "linear"
              }
             }
            ],
            "label": "&#9724;",
            "method": "animate"
           }
          ],
          "direction": "left",
          "pad": {
           "r": 10,
           "t": 70
          },
          "showactive": false,
          "type": "buttons",
          "x": 0.1,
          "xanchor": "right",
          "y": 0,
          "yanchor": "top"
         }
        ],
        "xaxis": {
         "anchor": "y",
         "categoryarray": [
          "WINTER",
          "SPRING",
          "SUMMER",
          "MONSOON"
         ],
         "categoryorder": "array",
         "domain": [
          0,
          1
         ],
         "title": {
          "text": "Season"
         }
        },
        "yaxis": {
         "anchor": "x",
         "domain": [
          0,
          1
         ],
         "title": {
          "text": "Average Close Price"
         }
        }
       }
      }
     },
     "metadata": {},
     "output_type": "display_data"
    }
   ],
   "source": [
    "import pandas as pd\n",
    "import plotly.express as px\n",
    "\n",
    "seasonal_agg = pd.read_csv(\"seasonal_stock_analysis_top100.csv\")\n",
    "seasonal_melted = seasonal_agg.melt(id_vars=['Ticker', 'Highest Avg Season'], \n",
    "                                    var_name='Season', value_name='Avg Close')\n",
    "fig = px.bar(seasonal_melted, \n",
    "             x='Season', \n",
    "             y='Avg Close', \n",
    "             color='Season',\n",
    "             title=\"Seasonal Stock Close Averages\",\n",
    "             labels={'Avg Close': 'Average Close Price'},\n",
    "             animation_frame=\"Ticker\")  # Creates an interactive dropdown for tickers\n",
    "\n",
    "fig.update_layout(xaxis_title=\"Season\", yaxis_title=\"Average Close Price\", xaxis={'categoryorder':'array', 'categoryarray':['WINTER', 'SPRING', 'SUMMER', 'MONSOON']})\n",
    "\n",
    "fig.show()\n"
   ]
  },
  {
   "cell_type": "code",
   "execution_count": null,
   "metadata": {},
   "outputs": [
    {
     "name": "stdout",
     "output_type": "stream",
     "text": [
      "✅ Added 1D, 5D, 20D targets — saved as top100_targets.csv\n",
      "✅ Features added and saved to top100_features.csv\n"
     ]
    }
   ],
   "source": [
    "import pandas as pd\n",
    "import ta\n",
    "data = pd.read_csv(\"top100.csv\", parse_dates=[\"Date\"])\n",
    "\n",
    "def add_targets(data):\n",
    "    data = data.sort_values(by=['Ticker', 'Date']).copy()\n",
    "    data['target_1d'] = data.groupby('Ticker')['Close'].shift(-1)\n",
    "    data['target_5d'] = data.groupby('Ticker')['Close'].shift(-5)\n",
    "    data['target_20d'] = data.groupby('Ticker')['Close'].shift(-20)\n",
    "\n",
    "    # Directional targets: 1 = price goes up, 0 = price goes down or same\n",
    "    data['direction_1d'] = (data['target_1d'] > data['Close']).astype(int)\n",
    "    data['direction_5d'] = (data['target_5d'] > data['Close']).astype(int)\n",
    "    data['direction_20d'] = (data['target_20d'] > data['Close']).astype(int)\n",
    "\n",
    "    return data\n",
    "\n",
    "data_with_targets = add_targets(data)\n",
    "data_with_targets = data_with_targets.dropna().reset_index(drop=True)\n",
    "data_with_targets.to_csv(\"top100_targets.csv\", index=False)\n",
    "print(\"✅ Added 1D, 5D, 20D targets — saved as top100_targets.csv\")\n",
    "\n",
    "\n",
    "\n",
    "def add_features(data, lag_days=5):\n",
    "    data = data.sort_values(by=[\"Ticker\", \"Date\"]).copy()\n",
    "    for lag in range(1, lag_days + 1):\n",
    "        data[f'Close_lag_{lag}'] = data.groupby('Ticker')['Close'].shift(lag)\n",
    "        data[f'Volume_lag_{lag}'] = data.groupby('Ticker')['Volume'].shift(lag)\n",
    "   \n",
    "   \n",
    "    data['rsi'] = data.groupby('Ticker')['Close'].transform(lambda x: ta.momentum.RSIIndicator(x).rsi())\n",
    "    data['ema_12'] = data.groupby('Ticker')['Close'].transform(lambda x: ta.trend.EMAIndicator(x, window=12).ema_indicator())\n",
    "    data['ema_26'] = data.groupby('Ticker')['Close'].transform(lambda x: ta.trend.EMAIndicator(x, window=26).ema_indicator())\n",
    "\n",
    "    macd = data.groupby('Ticker')['Close'].transform(lambda x: ta.trend.MACD(x).macd_diff())\n",
    "    data['macd_diff'] = macd\n",
    "    data['bb_high'] = data.groupby('Ticker')['Close'].transform(lambda x: ta.volatility.BollingerBands(x).bollinger_hband())\n",
    "    data['bb_low'] = data.groupby('Ticker')['Close'].transform(lambda x: ta.volatility.BollingerBands(x).bollinger_lband())\n",
    "    data['sma_20'] = data.groupby('Ticker')['Close'].transform(lambda x: x.rolling(window=20).mean())\n",
    "    data['std_20'] = data.groupby('Ticker')['Close'].transform(lambda x: x.rolling(window=20).std())\n",
    "    data = data.dropna().reset_index(drop=True)\n",
    "    return data\n",
    "\n",
    "data_with_features = add_features(data_with_targets)\n",
    "data_with_features.to_csv(\"top100_features.csv\", index=False)\n",
    "print(\"✅ Features added and saved to top100_features.csv\")\n"
   ]
  },
  {
   "cell_type": "code",
   "execution_count": null,
   "metadata": {},
   "outputs": [
    {
     "name": "stdout",
     "output_type": "stream",
     "text": [
      "✅ 'Date' column converted to datetime and file updated!\n"
     ]
    }
   ],
   "source": [
    "import pandas as pd\n",
    "data = pd.read_csv(\"top100_targets.csv\")\n",
    "data['Date'] = pd.to_datetime(data['Date'])\n",
    "data = data.sort_values(by=['Ticker', 'Date']).reset_index(drop=True)\n",
    "data.to_csv(\"top100_targets.csv\", index=False)\n",
    "\n",
    "print(\"✅ 'Date' column converted to datetime and file updated!\")\n"
   ]
  },
  {
   "cell_type": "code",
   "execution_count": 15,
   "metadata": {},
   "outputs": [
    {
     "name": "stdout",
     "output_type": "stream",
     "text": [
      "<class 'pandas.core.frame.DataFrame'>\n",
      "RangeIndex: 372090 entries, 0 to 372089\n",
      "Data columns (total 13 columns):\n",
      " #   Column         Non-Null Count   Dtype  \n",
      "---  ------         --------------   -----  \n",
      " 0   Date           372090 non-null  object \n",
      " 1   Open           372090 non-null  float64\n",
      " 2   High           372090 non-null  float64\n",
      " 3   Low            372090 non-null  float64\n",
      " 4   Close          372090 non-null  float64\n",
      " 5   Volume         372090 non-null  float64\n",
      " 6   Ticker         372090 non-null  object \n",
      " 7   target_1d      372090 non-null  float64\n",
      " 8   target_5d      372090 non-null  float64\n",
      " 9   target_20d     372090 non-null  float64\n",
      " 10  direction_1d   372090 non-null  int64  \n",
      " 11  direction_5d   372090 non-null  int64  \n",
      " 12  direction_20d  372090 non-null  int64  \n",
      "dtypes: float64(8), int64(3), object(2)\n",
      "memory usage: 36.9+ MB\n"
     ]
    }
   ],
   "source": [
    "data = pd.read_csv(\"top100_targets.csv\")\n",
    "data.info()\n"
   ]
  },
  {
   "cell_type": "code",
   "execution_count": 16,
   "metadata": {},
   "outputs": [],
   "source": [
    "import pandas as pd\n",
    "import numpy as np\n",
    "import os\n",
    "from sklearn.metrics import mean_squared_error, mean_absolute_error\n",
    "from sklearn.model_selection import train_test_split\n",
    "import xgboost as xgb\n",
    "from statsmodels.tsa.arima.model import ARIMA\n"
   ]
  },
  {
   "cell_type": "code",
   "execution_count": 17,
   "metadata": {},
   "outputs": [],
   "source": [
    "# 2.1 Directional Accuracy\n",
    "def directional_accuracy(actual, predicted):\n",
    "    actual_direction = (np.diff(actual) > 0).astype(int)\n",
    "    predicted_direction = (np.diff(predicted) > 0).astype(int)\n",
    "    return np.mean(actual_direction == predicted_direction) * 100\n"
   ]
  },
  {
   "cell_type": "code",
   "execution_count": 18,
   "metadata": {},
   "outputs": [],
   "source": [
    "# from sklearn.metrics import precision_score, recall_score\n",
    "\n",
    "# def precision_recall(actual, predicted):\n",
    "#     actual_direction = (np.diff(actual) > 0).astype(int)\n",
    "#     predicted_direction = (np.diff(predicted) > 0).astype(int)\n",
    "\n",
    "#     precision = precision_score(actual_direction, predicted_direction, zero_division=0)\n",
    "#     recall = recall_score(actual_direction, predicted_direction, zero_division=0)\n",
    "#     return precision * 100, recall * 100\n"
   ]
  },
  {
   "cell_type": "code",
   "execution_count": 19,
   "metadata": {},
   "outputs": [],
   "source": [
    "def save_text_outputs(ticker, current_price, date, results):\n",
    "    import os\n",
    "    os.makedirs(\"stock_prediction_results\", exist_ok=True)\n",
    "\n",
    "    metrics_path = f\"stock_prediction_results/{ticker}_metrics.txt\"\n",
    "    prediction_path = f\"stock_prediction_results/{ticker}_prediction.txt\"\n",
    "\n",
    "    # --- UNIFIED METRICS ---\n",
    "    with open(metrics_path, \"w\") as f:\n",
    "        f.write(f\"Combined Performance Metrics (Averaged across ARIMA, XGBoost, LSTM)\\n\\n\")\n",
    "        for horizon in [\"1\", \"5\", \"20\"]:\n",
    "            try:\n",
    "                rmse = np.mean([results[model][\"metrics\"][horizon][\"rmse\"] for model in results])\n",
    "                mae = np.mean([results[model][\"metrics\"][horizon][\"mae\"] for model in results])\n",
    "                acc = np.mean([results[model][\"metrics\"][horizon][\"directional_acc\"] for model in results])\n",
    "\n",
    "                f.write(f\"{horizon}-Day Horizon:\\n\")\n",
    "                f.write(f\"- Avg RMSE: {rmse:.2f}\\n\")\n",
    "                f.write(f\"- Avg MAE : {mae:.2f}\\n\")\n",
    "                f.write(f\"- Avg Directional Accuracy: {acc:.1f}%\\n\\n\")\n",
    "                \n",
    "\n",
    "\n",
    "            except Exception as e:\n",
    "                f.write(f\"{horizon}-Day Horizon: Error collecting metrics\\n\\n\")\n",
    "\n",
    "    # --- UNIFIED PREDICTIONS ---\n",
    "    with open(prediction_path, \"w\") as f:\n",
    "        f.write(f\"Stock: {ticker} | Date: {date.date()} | Current Price: ${current_price:.2f}\\n\\n\")\n",
    "        f.write(\"Combined Multi-Horizon Predictions (Ensembled):\\n\")\n",
    "\n",
    "        for horizon in [\"1\", \"5\", \"20\"]:\n",
    "            try:\n",
    "                # Gather predictions\n",
    "                preds = [results[model][\"predictions\"][horizon][\"value\"] for model in results]\n",
    "                stds = [results[model][\"predictions\"][horizon][\"std\"] for model in results]\n",
    "\n",
    "                ensemble_pred = np.mean(preds)\n",
    "                lower = ensemble_pred - np.max(stds)\n",
    "                upper = ensemble_pred + np.max(stds)\n",
    "                pred_date = pd.to_datetime(date) + pd.Timedelta(days=int(horizon))\n",
    "\n",
    "                f.write(f\"- {horizon}-day ({pred_date.date()}): ${ensemble_pred:.2f} (95% CI: ${lower:.2f} – ${upper:.2f})\\n\")\n",
    "            except Exception as e:\n",
    "                f.write(f\"- {horizon}-day: Prediction error\\n\")\n",
    "\n",
    "        f.write(\"\\nDirection Forecast (Majority Vote):\\n\")\n",
    "        for horizon in [\"1\", \"5\", \"20\"]:\n",
    "            try:\n",
    "                directions = [results[model][\"predictions\"][horizon][\"direction\"] for model in results]\n",
    "                ups = directions.count(\"UP\")\n",
    "                downs = directions.count(\"DOWN\")\n",
    "                final_direction = \"UP\" if ups >= 2 else \"DOWN\"\n",
    "                confidence = int((max(ups, downs) / 3) * 100)\n",
    "                f.write(f\"- {horizon}-day: {final_direction} ({confidence}% agreement)\\n\")\n",
    "                if confidence >= 80:\n",
    "                    f.write(f\"  🚨 High-confidence {final_direction} prediction!\\n\")\n",
    "            except:\n",
    "                f.write(f\"- {horizon}-day: N/A\\n\")\n",
    "\n",
    "    print(f\"✅ Saved unified metrics to {metrics_path}\")\n",
    "    print(f\"✅ Saved unified predictions to {prediction_path}\")\n"
   ]
  },
  {
   "cell_type": "code",
   "execution_count": 20,
   "metadata": {},
   "outputs": [],
   "source": [
    "# ARIMA \n",
    "\n",
    "\n",
    "from statsmodels.tsa.arima.model import ARIMA\n",
    "import pandas as pd\n",
    "import numpy as np\n",
    "from sklearn.metrics import mean_squared_error, mean_absolute_error\n",
    "\n",
    "def run_arima(ticker, data_path=\"top100.csv\"):\n",
    "    data = pd.read_csv(data_path, parse_dates=[\"Date\"])\n",
    "    stock_data = data[data[\"Ticker\"] == ticker].sort_values(\"Date\")\n",
    "\n",
    "    close = stock_data[\"Close\"].values\n",
    "    dates = stock_data[\"Date\"].values\n",
    "    train_size = int(len(close) * 0.7)\n",
    "    train, test = close[:train_size], close[train_size:]\n",
    "    test_dates = dates[train_size:]\n",
    "\n",
    "    result = {\n",
    "        \"metrics\": {},\n",
    "        \"predictions\": {}\n",
    "    }\n",
    "\n",
    "    for horizon in [1, 5, 20]:\n",
    "        try:\n",
    "            model = ARIMA(train, order=(5, 1, 0))\n",
    "            fit = model.fit()\n",
    "            forecast = fit.forecast(steps=len(test))\n",
    "\n",
    "            actual = test[horizon:]\n",
    "            preds = forecast[:-horizon]\n",
    "            rmse = np.sqrt(mean_squared_error(actual, preds))\n",
    "            mae = mean_absolute_error(actual, preds)\n",
    "            acc = directional_accuracy(actual, preds)\n",
    "\n",
    "            result[\"metrics\"][str(horizon)] = {\n",
    "                \"rmse\": rmse,\n",
    "                \"mae\": mae,\n",
    "                \"directional_acc\": acc\n",
    "            }\n",
    "\n",
    "            pred_price = preds[-1]\n",
    "            std = np.std(preds)\n",
    "            direction = \"UP\" if pred_price > close[-1] else \"DOWN\"\n",
    "\n",
    "            result[\"predictions\"][str(horizon)] = {\n",
    "                \"value\": pred_price,\n",
    "                \"std\": std,\n",
    "                \"direction\": direction\n",
    "            }\n",
    "\n",
    "        except Exception as e:\n",
    "            print(f\"❌ ARIMA failed for {ticker} ({horizon}-day): {e}\")\n",
    "    return result\n"
   ]
  },
  {
   "cell_type": "code",
   "execution_count": 21,
   "metadata": {},
   "outputs": [],
   "source": [
    "# XGBoost \n",
    "\n",
    "\n",
    "import xgboost as xgb\n",
    "from sklearn.model_selection import train_test_split\n",
    "from sklearn.metrics import mean_squared_error, mean_absolute_error\n",
    "\n",
    "def run_xgboost(ticker, data_path=\"top100_features.csv\"):\n",
    "    data = pd.read_csv(data_path, parse_dates=[\"Date\"])\n",
    "    stock_data = data[data[\"Ticker\"] == ticker].sort_values(\"Date\")\n",
    "\n",
    "    result = {\n",
    "        \"metrics\": {},\n",
    "        \"predictions\": {}\n",
    "    }\n",
    "\n",
    "    for horizon in [\"1d\", \"5d\", \"20d\"]:\n",
    "        target_col = f\"target_{horizon}\"\n",
    "        if target_col not in stock_data.columns:\n",
    "            continue\n",
    "\n",
    "        # Drop other targets/directions\n",
    "        drop_cols = [col for col in stock_data.columns if \"target_\" in col or \"direction_\" in col]\n",
    "        drop_cols.remove(target_col)\n",
    "        model_data = stock_data.drop(columns=drop_cols + [\"Ticker\"])\n",
    "\n",
    "        X = model_data.drop(columns=[\"Date\", target_col])\n",
    "        y = model_data[target_col]\n",
    "        dates = model_data[\"Date\"]\n",
    "\n",
    "        split = int(len(X) * 0.7)\n",
    "        X_train, X_test = X.iloc[:split], X.iloc[split:]\n",
    "        y_train, y_test = y.iloc[:split], y.iloc[split:]\n",
    "        date_test = dates.iloc[split:]\n",
    "\n",
    "        model = xgb.XGBRegressor(n_estimators=100, learning_rate=0.05, max_depth=5)\n",
    "        model.fit(X_train, y_train)\n",
    "        preds = model.predict(X_test)\n",
    "\n",
    "        rmse = np.sqrt(mean_squared_error(y_test, preds))\n",
    "        mae = mean_absolute_error(y_test, preds)\n",
    "        acc = directional_accuracy(y_test.values, preds)\n",
    "\n",
    "\n",
    "        pred_price = preds[-1]\n",
    "        std = np.std(preds)\n",
    "        direction = \"UP\" if pred_price > stock_data[\"Close\"].iloc[-1] else \"DOWN\"\n",
    "\n",
    "        result[\"metrics\"][horizon.replace(\"d\", \"\")] = {\n",
    "            \"rmse\": rmse,\n",
    "            \"mae\": mae,\n",
    "            \"directional_acc\": acc\n",
    "        }\n",
    "\n",
    "        result[\"predictions\"][horizon.replace(\"d\", \"\")] = {\n",
    "            \"value\": pred_price,\n",
    "            \"std\": std,\n",
    "            \"direction\": direction\n",
    "        }\n",
    "        \n",
    "    return result\n"
   ]
  },
  {
   "cell_type": "code",
   "execution_count": null,
   "metadata": {},
   "outputs": [],
   "source": [
    "#LSTM\n",
    "\n",
    "import pandas as pd\n",
    "import numpy as np\n",
    "import tensorflow as tf\n",
    "from tensorflow.keras.models import Sequential\n",
    "from tensorflow.keras.layers import LSTM, Dense\n",
    "from sklearn.preprocessing import MinMaxScaler\n",
    "from sklearn.metrics import mean_squared_error, mean_absolute_error\n",
    "\n",
    "def create_sequences(data, window_size, horizon):\n",
    "    X, y = [], []\n",
    "    for i in range(len(data) - window_size - horizon + 1):\n",
    "        X.append(data[i:i+window_size])\n",
    "        y.append(data[i+window_size+horizon-1])  # horizon-ahead target\n",
    "    return np.array(X), np.array(y)\n",
    "\n",
    "def run_lstm(ticker, data_path=\"top100.csv\", window_size=20):\n",
    "    data = pd.read_csv(data_path, parse_dates=[\"Date\"])\n",
    "    stock_data = data[data[\"Ticker\"] == ticker].sort_values(\"Date\")\n",
    "    close_prices = stock_data[\"Close\"].values.reshape(-1, 1)\n",
    "    dates = stock_data[\"Date\"].values\n",
    "\n",
    "    # Scale prices\n",
    "    scaler = MinMaxScaler()\n",
    "    scaled_prices = scaler.fit_transform(close_prices)\n",
    "\n",
    "    result = {\n",
    "        \"metrics\": {},\n",
    "        \"predictions\": {}\n",
    "    }\n",
    "\n",
    "    for horizon in [1, 5, 20]:\n",
    "        try:\n",
    "            X, y = create_sequences(scaled_prices, window_size, horizon)\n",
    "            split = int(len(X) * 0.7)\n",
    "            X_train, X_test = X[:split], X[split:]\n",
    "            y_train, y_test = y[:split], y[split:]\n",
    "\n",
    "            # Reshape for LSTM: (samples, timesteps, features)\n",
    "            X_train = X_train.reshape((X_train.shape[0], X_train.shape[1], 1))\n",
    "            X_test = X_test.reshape((X_test.shape[0], X_test.shape[1], 1))\n",
    "\n",
    "            # Model\n",
    "            model = Sequential([\n",
    "                LSTM(50, activation='relu', input_shape=(window_size, 1)),\n",
    "                Dense(1)\n",
    "            ])\n",
    "            model.compile(optimizer='adam', loss='mse')\n",
    "            model.fit(X_train, y_train, epochs=20, batch_size=16, verbose=0)\n",
    "\n",
    "            preds_scaled = model.predict(X_test)\n",
    "            y_test_inv = scaler.inverse_transform(y_test.reshape(-1, 1)).flatten()\n",
    "            preds_inv = scaler.inverse_transform(preds_scaled).flatten()\n",
    "\n",
    "            rmse = np.sqrt(mean_squared_error(y_test_inv, preds_inv))\n",
    "            mae = mean_absolute_error(y_test_inv, preds_inv)\n",
    "            acc = directional_accuracy(y_test_inv, preds_inv)\n",
    "\n",
    "            pred_price = preds_inv[-1]\n",
    "            std = np.std(preds_inv)\n",
    "            direction = \"UP\" if pred_price > close_prices[-1] else \"DOWN\"\n",
    "\n",
    "            result[\"metrics\"][str(horizon)] = {\n",
    "                \"rmse\": rmse,\n",
    "                \"mae\": mae,\n",
    "                \"directional_acc\": acc\n",
    "            }\n",
    "            result[\"predictions\"][str(horizon)] = {\n",
    "                \"value\": pred_price,\n",
    "                \"std\": std,\n",
    "                \"direction\": direction\n",
    "            }\n",
    "\n",
    "            print(f\"✅ LSTM | {ticker} | {horizon}-day ➜ RMSE: {rmse:.2f}, MAE: {mae:.2f}\")\n",
    "\n",
    "        except Exception as e:\n",
    "            print(f\"❌ LSTM failed for {ticker} ({horizon}-day): {e}\")\n",
    "        \n",
    "    return result\n"
   ]
  },
  {
   "cell_type": "code",
   "execution_count": null,
   "metadata": {},
   "outputs": [
    {
     "name": "stdout",
     "output_type": "stream",
     "text": [
      "📊 Stock Market Multi-Horizon Prediction System (ARIMA + XGBoost + LSTM)\n",
      "--------------------------------------------------------------\n",
      "\n",
      "🚀 Running full prediction system for ABBV...\n",
      "\n"
     ]
    },
    {
     "name": "stderr",
     "output_type": "stream",
     "text": [
      "/opt/anaconda3/lib/python3.12/site-packages/keras/src/layers/rnn/rnn.py:200: UserWarning:\n",
      "\n",
      "Do not pass an `input_shape`/`input_dim` argument to a layer. When using Sequential models, prefer using an `Input(shape)` object as the first layer in the model instead.\n",
      "\n"
     ]
    },
    {
     "name": "stdout",
     "output_type": "stream",
     "text": [
      "\u001b[1m29/29\u001b[0m \u001b[32m━━━━━━━━━━━━━━━━━━━━\u001b[0m\u001b[37m\u001b[0m \u001b[1m0s\u001b[0m 6ms/step\n",
      "✅ LSTM | ABBV | 1-day ➜ RMSE: 4.49, MAE: 3.57\n"
     ]
    },
    {
     "name": "stderr",
     "output_type": "stream",
     "text": [
      "/opt/anaconda3/lib/python3.12/site-packages/keras/src/layers/rnn/rnn.py:200: UserWarning:\n",
      "\n",
      "Do not pass an `input_shape`/`input_dim` argument to a layer. When using Sequential models, prefer using an `Input(shape)` object as the first layer in the model instead.\n",
      "\n"
     ]
    },
    {
     "name": "stdout",
     "output_type": "stream",
     "text": [
      "\u001b[1m29/29\u001b[0m \u001b[32m━━━━━━━━━━━━━━━━━━━━\u001b[0m\u001b[37m\u001b[0m \u001b[1m0s\u001b[0m 5ms/step\n",
      "✅ LSTM | ABBV | 5-day ➜ RMSE: 6.23, MAE: 4.54\n"
     ]
    },
    {
     "name": "stderr",
     "output_type": "stream",
     "text": [
      "/opt/anaconda3/lib/python3.12/site-packages/keras/src/layers/rnn/rnn.py:200: UserWarning:\n",
      "\n",
      "Do not pass an `input_shape`/`input_dim` argument to a layer. When using Sequential models, prefer using an `Input(shape)` object as the first layer in the model instead.\n",
      "\n"
     ]
    },
    {
     "name": "stdout",
     "output_type": "stream",
     "text": [
      "\u001b[1m29/29\u001b[0m \u001b[32m━━━━━━━━━━━━━━━━━━━━\u001b[0m\u001b[37m\u001b[0m \u001b[1m0s\u001b[0m 7ms/step\n",
      "✅ LSTM | ABBV | 20-day ➜ RMSE: 21.01, MAE: 15.07\n",
      "✅ Saved unified metrics to stock_prediction_results/ABBV_metrics.txt\n",
      "✅ Saved unified predictions to stock_prediction_results/ABBV_prediction.txt\n"
     ]
    }
   ],
   "source": [
    "def run_full_prediction(ticker):\n",
    "    print(f\"\\n🚀 Running full prediction system for {ticker}...\\n\")\n",
    "    data_clean = pd.read_csv(\"top100.csv\", parse_dates=[\"Date\"])\n",
    "    stock_data = data_clean[data_clean[\"Ticker\"] == ticker].sort_values(\"Date\")\n",
    "    \n",
    "    stock_data = data_clean[data_clean[\"Ticker\"] == ticker]\n",
    "\n",
    "    if stock_data.empty:\n",
    "        print(f\"❌ No data found for {ticker} in top100.csv\")\n",
    "        return\n",
    "\n",
    "    stock_data = stock_data.sort_values(\"Date\")\n",
    "\n",
    "    latest_row = stock_data.iloc[-1]\n",
    "\n",
    "    \n",
    "    latest_row = stock_data.iloc[-1]\n",
    "    current_price = latest_row[\"Close\"]\n",
    "    latest_date = latest_row[\"Date\"]\n",
    "    xgb_results = run_xgboost(ticker)\n",
    "    arima_results = run_arima(ticker)\n",
    "    lstm_results = run_lstm(ticker)\n",
    "\n",
    "    results = {\n",
    "        \"XGBoost\": xgb_results,\n",
    "        \"ARIMA\": arima_results,\n",
    "        \"LSTM\": lstm_results\n",
    "    }\n",
    "    save_text_outputs(ticker, current_price, latest_date, results)\n",
    "\n",
    "\n",
    "if __name__ == \"__main__\":\n",
    "    import pandas as pd\n",
    "\n",
    "    print(\"📊 Stock Market Multi-Horizon Prediction System (ARIMA + XGBoost + LSTM)\")\n",
    "    print(\"--------------------------------------------------------------\")\n",
    "\n",
    "    ticker = input(\"🔎 Enter stock ticker (e.g., AAPL, GOOGL, BKNG): \").upper()\n",
    "\n",
    "    # Optional: Check if ticker is in the dataset\n",
    "    try:\n",
    "        data = pd.read_csv(\"top100.csv\")\n",
    "        if ticker not in data[\"Ticker\"].unique():\n",
    "            print(f\"❌ Ticker '{ticker}' not found in dataset.\")\n",
    "        else:\n",
    "            run_full_prediction(ticker)\n",
    "    except Exception as e:\n",
    "        print(f\"❌ Failed to load data or run model: {e}\")\n",
    "\n"
   ]
  }
 ],
 "metadata": {
  "kernelspec": {
   "display_name": "base",
   "language": "python",
   "name": "python3"
  },
  "language_info": {
   "codemirror_mode": {
    "name": "ipython",
    "version": 3
   },
   "file_extension": ".py",
   "mimetype": "text/x-python",
   "name": "python",
   "nbconvert_exporter": "python",
   "pygments_lexer": "ipython3",
   "version": "3.12.2"
  }
 },
 "nbformat": 4,
 "nbformat_minor": 2
}
